{
 "cells": [
  {
   "cell_type": "markdown",
   "metadata": {},
   "source": [
    "## An investigation of Anscombe's quartet dataset"
   ]
  },
  {
   "cell_type": "markdown",
   "metadata": {},
   "source": [
    "\n",
    "Anscombe's quartet serves as a reminder that descriptive statistics do not tell the whole story; indeed they might instead lead the data analyst down the wrong path. Anscombe's quartet vividly illustrates the dangers of not including data visualisation in any analysis.   \n"
   ]
  },
  {
   "cell_type": "markdown",
   "metadata": {},
   "source": [
    "## Explain the background to the dataset\n",
    "\n",
    "\n",
    "\n",
    "### Who is the *Ancombe* in Anscombe's quartet?\n",
    "\n",
    "![Francis Anscombe](img/Francis_Anscombe.jpeg)\n",
    "\n",
    "<sub>By Yale Bulletin & Calendar November 2, 2001: Volume 30, Number 9, Fair use, https://en.wikipedia.org/w/index.php?curid=23138907</sub>\n",
    "\n",
    "Francis Anscombe was a British statistician active from the mid to late twentieth century. He worked in agricultural experimental research and was a lecturer in Cambridge before becoming the founding chairperson of the statistics department in Yale university in 1953. He researched residuals in linear regression and later, he became interested in statistical computing. He emphasised that \n",
    ">\"*a computer should make both calculations and graphs*\" \n",
    "\n",
    "(Wikipedia contributors, 2018a; Anscombe, 1973)\n",
    "\n",
    "Anscombe created his famous *Anscombe's quartet* dataset in his 1973 article for *The American Statistician* titled *Graphs in Statistical Analysis* (Anscombe, 1973). In this article he described three types of dogma commonly experienced by statisticians.\n",
    "1. Numerical calculations give right answers; graphs give approximations\n",
    "2. A correct analysis of data is derived from only one set of calculations - the right ones\n",
    "3. Doing the math is good; looking at the data is cheating\n",
    "\n",
    "(Anscombe, 1973)\n",
    "\n",
    "Anscombe stressed that the results from both calculations and graphs contribute to the analysis. Anscombe (1973) noted the benefits of visualising data.\n",
    "\n",
    "1. It takes a holistic big picture look, allowing broad aspects of the data to emerge.  \n",
    "2. It allows you to go beyond the big picture view and see what else is present when that aspect is removed.\n",
    "\n",
    "Anscombe (1973) noted that much of statistical analysis is based on underlying assumptions that are often only *assumed* to be present in the data; Graphing the data allows the analyst to see if these assumptions are valid ones. Anscombe suggested layers of data analsyis rather than superficial surface analysis. His paper illustrated these issues with a common tool of the statistician *regression analysis*. \n",
    "\n",
    "\n",
    "\n",
    "## Anscombe's quartet\n",
    "\n",
    "Mark Twain famously postulated \n",
    "\n",
    ">\"There are three kinds of lies: lies, damned lies, and statistics\". \n",
    "\n",
    "(Twain, 1906) \n",
    "\n",
    "While this may be a somewhat extreme view of statistics, Anscombe sought to illustrate the dangers of being lead down the descriptive statistics garden path. He fabricated four datasets consisting of eleven points (x,y) as listed below; \n",
    "\n"
   ]
  },
  {
   "cell_type": "markdown",
   "metadata": {},
   "source": [
    "### Libraries\n",
    "#### import the dataset"
   ]
  },
  {
   "cell_type": "code",
   "execution_count": 1,
   "metadata": {
    "scrolled": false
   },
   "outputs": [],
   "source": [
    "import numpy as np\n",
    "import matplotlib.pyplot as plt\n",
    "import pandas as pd\n",
    "import seaborn as sns\n",
    "from scipy import stats\n",
    "# anscombe data taken from https://web.stanford.edu/class/cs102/datasets/Anscombe.csv\n"
   ]
  },
  {
   "cell_type": "markdown",
   "metadata": {},
   "source": [
    "#### Look at the data"
   ]
  },
  {
   "cell_type": "markdown",
   "metadata": {},
   "source": [
    "### The 4 Datasets\n",
    "\n",
    "This shows the four datasets each containing 11 x and y measurements; \n",
    "* Set I with x values X1 and y value Y1\n",
    "* Set II with x values X2 and y value Y2\n",
    "* Set III with x values X3 and y value Y3\n",
    "* Set IV with x values X4 and y value Y4\n",
    "\n",
    "no units are given as the sets are constructed and not actual measurements (Anscombe, 1973). "
   ]
  },
  {
   "cell_type": "code",
   "execution_count": 2,
   "metadata": {},
   "outputs": [
    {
     "name": "stdout",
     "output_type": "stream",
     "text": [
      "    X1     Y1  X2    Y2  X3     Y3  X4     Y4\n",
      "0   10   8.04  10  9.14  10   7.46   8   6.58\n",
      "1    8   6.95   8  8.14   8   6.77   8   5.76\n",
      "2   13   7.58  13  8.74  13  12.74   8   7.71\n",
      "3    9   8.81   9  8.77   9   7.11   8   8.84\n",
      "4   11   8.33  11  9.26  11   7.81   8   8.47\n",
      "5   14   9.96  14  8.10  14   8.84   8   7.04\n",
      "6    6   7.24   6  6.13   6   6.08   8   5.25\n",
      "7    4   4.26   4  3.10   4   5.39  19  12.50\n",
      "8   12  10.84  12  9.13  12   8.15   8   5.56\n",
      "9    7   4.82   7  7.26   7   6.42   8   7.91\n",
      "10   5   5.68   5  4.74   5   5.73   8   6.89 \n",
      "\n",
      "    X1  X2  X3  X4\n",
      "0   10  10  10   8\n",
      "1    8   8   8   8\n",
      "2   13  13  13   8\n",
      "3    9   9   9   8\n",
      "4   11  11  11   8\n",
      "5   14  14  14   8\n",
      "6    6   6   6   8\n",
      "7    4   4   4  19\n",
      "8   12  12  12   8\n",
      "9    7   7   7   8\n",
      "10   5   5   5   8 \n",
      "\n",
      "              X1         X2         X3         X4\n",
      "count  11.000000  11.000000  11.000000  11.000000\n",
      "mean    9.000000   9.000000   9.000000   9.000000\n",
      "std     3.316625   3.316625   3.316625   3.316625\n",
      "min     4.000000   4.000000   4.000000   8.000000\n",
      "25%     6.500000   6.500000   6.500000   8.000000\n",
      "50%     9.000000   9.000000   9.000000   8.000000\n",
      "75%    11.500000  11.500000  11.500000   8.000000\n",
      "max    14.000000  14.000000  14.000000  19.000000 \n",
      "\n"
     ]
    }
   ],
   "source": [
    "# read the data\n",
    "df = pd.read_csv(\"Anscombe.csv\")\n",
    "print(df, \"\\n\")\n",
    "# Look at the x values\n",
    "print(df[[\"X1\", \"X2\", \"X3\", \"X4\"]], \"\\n\")\n",
    "print(df[[\"X1\", \"X2\", \"X3\", \"X4\"]].describe(), \"\\n\")"
   ]
  },
  {
   "cell_type": "markdown",
   "metadata": {},
   "source": [
    "Here you can see that all the X values bar X4 are the same, and that, all the X4 values bar one are a constant 8.\n",
    "Looking at the common descriptive measures shows that all the values agree except in the ranges of the X4 value between its minimum and maximum inclusively. \n",
    "\n",
    "Lets take a look at the y values."
   ]
  },
  {
   "cell_type": "code",
   "execution_count": 3,
   "metadata": {},
   "outputs": [
    {
     "name": "stdout",
     "output_type": "stream",
     "text": [
      "       Y1    Y2     Y3     Y4\n",
      "0    8.04  9.14   7.46   6.58\n",
      "1    6.95  8.14   6.77   5.76\n",
      "2    7.58  8.74  12.74   7.71\n",
      "3    8.81  8.77   7.11   8.84\n",
      "4    8.33  9.26   7.81   8.47\n",
      "5    9.96  8.10   8.84   7.04\n",
      "6    7.24  6.13   6.08   5.25\n",
      "7    4.26  3.10   5.39  12.50\n",
      "8   10.84  9.13   8.15   5.56\n",
      "9    4.82  7.26   6.42   7.91\n",
      "10   5.68  4.74   5.73   6.89 \n",
      "\n",
      "              Y1         Y2         Y3         Y4\n",
      "count  11.000000  11.000000  11.000000  11.000000\n",
      "mean    7.500909   7.500909   7.500000   7.500909\n",
      "std     2.031568   2.031657   2.030424   2.030579\n",
      "min     4.260000   3.100000   5.390000   5.250000\n",
      "25%     6.315000   6.695000   6.250000   6.170000\n",
      "50%     7.580000   8.140000   7.110000   7.040000\n",
      "75%     8.570000   8.950000   7.980000   8.190000\n",
      "max    10.840000   9.260000  12.740000  12.500000 \n",
      "\n"
     ]
    }
   ],
   "source": [
    "print(df[[\"Y1\", \"Y2\", \"Y3\", \"Y4\"]],\"\\n\")\n",
    "print(df[[\"Y1\", \"Y2\", \"Y3\", \"Y4\"]].describe(), \"\\n\")\n"
   ]
  },
  {
   "cell_type": "markdown",
   "metadata": {},
   "source": [
    "Here the 11 y values have a mean of 7.5 and standard deviation of 2.03; The range is between 3.1 and 12.75 with similar valued quartiles. "
   ]
  },
  {
   "cell_type": "code",
   "execution_count": 4,
   "metadata": {},
   "outputs": [
    {
     "name": "stdout",
     "output_type": "stream",
     "text": [
      "        Y1     Y2    Y3    Y4\n",
      "25%  6.315  6.695  6.25  6.17\n",
      "50%  7.580  8.140  7.11  7.04\n",
      "75%  8.570  8.950  7.98  8.19 \n",
      "\n"
     ]
    }
   ],
   "source": [
    "print(df[[\"Y1\", \"Y2\", \"Y3\", \"Y4\"]].describe()[4:7], \"\\n\")"
   ]
  },
  {
   "cell_type": "markdown",
   "metadata": {},
   "source": [
    "### What are descriptive statistics?\n",
    "\n",
    "There are different statistical methods used to analyse data. Descriptive statistics focus on the collection, presentation and measurement of the data, while inferential statistics look at what kind of hypothesis the data suggests (Siddharth, 2011). Descriptive statistical measures can be broadly broken down into 4 regions (Campuslabs, n.d.).\n",
    "\n",
    "1. measures of frequency such as frequencies, percents, counts\n",
    "2. measures of central tendencies, such as mean median and or mode\n",
    "3. measures of spread such as range, standard deviation and variance \n",
    "4. measures of position, such ranks \n",
    "\n",
    "There are two types of approach in modeling data. You can look at the data, its descriptive data and use these to build a model. This is the idea behind regression analysis. The regression line when fitted is used to make predictions about inputs beyond what is sampled. Often the first misstep in data analysis is to get right to the point and make the predictions. However there is a step that should precede this, namely data exploration. Visualizing the data is a key step in exploring its characteristics.  \n",
    "\n",
    "#### Regression Analysis\n",
    "\n",
    "Regression analysis is a way of finding a relationship between input values and output values. For example a new employee pay scale is often based on a predictor value of their years of experience. Here the input value or x value is the years of experience and the output value or y value is the associated pay scale. \n",
    "\n",
    "Linear regression, the simplest form of regression analysis, involves plotting the data and a theoretical *best fit* line then working out the parameters of this line by measuring the perpendicular 'distance' between each datum and the line. The distance is calculated in such a way that data on opposite sides of the best line do not cancel each other out. This is termed the *residual* of the datum.  The best line is the one that minimizes the sum of these residuals. This technique is often used to fit a linear model to the data. Anscombe (1973)set out to show that fitting the model before looking at the data would not be the best course of action.    \n",
    " \n",
    "\n",
    "### Anscombe's regression analysis example\n",
    "\n",
    "Anscombe (1973) noted that the first step to analyzing data is to graph its scatter plot of x values against y values. He noted five things that could happen with the resultant scatter plot; \n",
    "\n",
    "1. The x and y values are on a straight line or clustered around a straight line.\n",
    "2. The x and y values are curvilinear and not linear. \n",
    "3. The x and y values appear not to be related as the y values are randomly scattered.\n",
    "4. Some mixture of points 1, 2 or 3.\n",
    "5. Most of the points are on a line but there are a few values that are not - outliers.\n",
    "\n",
    "If outliers are present then the next stage is to check if they are really outliers and not wrongly entered data. Then you can remove the outliers and apply regression analysis to the remaining data and possibly investigate the outliers at a later stage as they might be very informative. \n",
    "\n",
    "With the above points, point 1 is the typical case for which regression analysis works best; Point 2 and could have linear regression analysis applied to it but the data would need to be transformed into a straight line if that was possible via transforming the scales. Point 5 could have its outliers detected using descriptive statistics but visualising the data is faster and more intuitive way of spotting if something is 'off'. Anscombe (1973) noted that an outlier x value contributes much more to the regression coefficient than an outlier y value.  "
   ]
  },
  {
   "cell_type": "markdown",
   "metadata": {},
   "source": [
    "### Visualise\n",
    "\n",
    "Lets plot the various datasets\n",
    "\n",
    "### Plot the interesting aspects of the dataset\n",
    "\n",
    "### Anscombe I\n"
   ]
  },
  {
   "cell_type": "markdown",
   "metadata": {},
   "source": [
    "#### plot the data"
   ]
  },
  {
   "cell_type": "code",
   "execution_count": 5,
   "metadata": {
    "scrolled": true
   },
   "outputs": [
    {
     "data": {
      "image/png": "[encoded data removed]",
      "text/plain": [
       "<matplotlib.figure.Figure at 0x25199ec6940>"
      ]
     },
     "metadata": {
      "needs_background": "light"
     },
     "output_type": "display_data"
    }
   ],
   "source": [
    "x1 = np.array(df['X1'])\n",
    "y1 = np.array(df['Y1'])\n",
    "\n",
    "plt.plot(x1, y1, 'ko')\n",
    "plt.xlabel('X axis')\n",
    "plt.ylabel('Y axis')\n",
    "plt.title('Anscombe\\'s Dataset I')\n",
    "plt.show()"
   ]
  },
  {
   "cell_type": "markdown",
   "metadata": {},
   "source": [
    "#### Describe the graph\n",
    "\n",
    "This shows a scatter plot. It looks like a straight line with a positive slope might be suitable to model it. This is the point 1 result Anscombe mentioned when scatterplots are used. This type of situation is ideal for regression analysis.  \n",
    "\n",
    "\n",
    "#### fit a linear regression line\n",
    "\n",
    "\n"
   ]
  },
  {
   "cell_type": "code",
   "execution_count": 6,
   "metadata": {
    "scrolled": true
   },
   "outputs": [
    {
     "name": "stdout",
     "output_type": "stream",
     "text": [
      "The linear regression line slope is 0.5 \n",
      " with the y intercept  3.0\n"
     ]
    },
    {
     "data": {
      "image/png": "[encoded data removed]",
      "text/plain": [
       "<matplotlib.figure.Figure at 0x25199eaa0f0>"
      ]
     },
     "metadata": {
      "needs_background": "light"
     },
     "output_type": "display_data"
    }
   ],
   "source": [
    "# Perform linear regression: to find slope m and y intercept c\n",
    "m, c = np.polyfit(x1, y1, 1)\n",
    "\n",
    "# Print the slope and y intercept\n",
    "print(\"The linear regression line slope is\",f\"{m:.2}\",\"\\n\",\"with the y intercept \", f\"{c:.2}\")\n",
    "\n",
    "# plot regression line : y = mx + c\n",
    "x_lr1 = np.arange(0.0, 20, 1.0)\n",
    "y_lr1 = m * x_lr1 + c\n",
    "\n",
    "# Plot the Anscombe data and linear regression line\n",
    "plt.plot(x1, y1, marker='o', linestyle='none')\n",
    "plt.plot(x_lr1, y_lr1)\n",
    "\n",
    "# Label the axes\n",
    "plt.title(\"Anscombe I\")\n",
    "plt.xlabel('x1 values')\n",
    "plt.ylabel('y1 values')\n",
    "\n",
    "# Show the plot\n",
    "plt.show()\n",
    "\n"
   ]
  },
  {
   "cell_type": "markdown",
   "metadata": {},
   "source": [
    "This plot looks like a typical scatter plot with typical 'random' noise around the straight line\n",
    "$$y=0.5x+3$$ \n",
    "This line was found using linear regression. The regression coefficient is the coefficient of the x value in the lines equation i.e. 0.5. "
   ]
  },
  {
   "cell_type": "markdown",
   "metadata": {},
   "source": [
    "### Anscombe II\n"
   ]
  },
  {
   "cell_type": "markdown",
   "metadata": {},
   "source": [
    "#### plot the data"
   ]
  },
  {
   "cell_type": "code",
   "execution_count": 7,
   "metadata": {
    "scrolled": true
   },
   "outputs": [
    {
     "data": {
      "image/png": "[encoded data removed]",
      "text/plain": [
       "<matplotlib.figure.Figure at 0x25199fc4940>"
      ]
     },
     "metadata": {
      "needs_background": "light"
     },
     "output_type": "display_data"
    }
   ],
   "source": [
    "x2 = np.array(df['X2'])\n",
    "y2 = np.array(df['Y2'])\n",
    "\n",
    "plt.plot(x2, y2, 'bo')\n",
    "plt.xlabel('X axis')\n",
    "plt.ylabel('Y axis')\n",
    "plt.title('Anscombe\\'s Dataset II')\n",
    "plt.show()"
   ]
  },
  {
   "cell_type": "markdown",
   "metadata": {},
   "source": [
    "#### Describe the graph\n",
    "\n",
    "This shows a very clear curvature of a quadratic equation with a maximum value - it would be best modeled by an equation such as \n",
    "$$y = ax^2 + bx + c $$ with a negative $a$ value \n",
    "\n",
    "\n",
    "#### fit a linear regression line\n",
    "\n",
    "\n",
    "The linear regression line that is produced with Anscombe II is exactly the same one as with Anscombe I namely, \n",
    "\n",
    "$y=0.5x + 3$  \n",
    "\n"
   ]
  },
  {
   "cell_type": "code",
   "execution_count": 8,
   "metadata": {
    "scrolled": true
   },
   "outputs": [
    {
     "name": "stdout",
     "output_type": "stream",
     "text": [
      "The linear regression line slope is 0.5 \n",
      " with the y intercept  3.0\n"
     ]
    },
    {
     "data": {
      "image/png": "[encoded data removed]",
      "text/plain": [
       "<matplotlib.figure.Figure at 0x25199f54160>"
      ]
     },
     "metadata": {
      "needs_background": "light"
     },
     "output_type": "display_data"
    }
   ],
   "source": [
    "\n",
    "# Perform linear regression: to find slope m and y intercept c\n",
    "m, c = np.polyfit(x2, y2, 1)\n",
    "\n",
    "# Print the slope and y intercept\n",
    "print(\"The linear regression line slope is\",f\"{m:.2}\",\"\\n\",\"with the y intercept \", f\"{c:.2}\")\n",
    "\n",
    "# plot regression line : y = mx + c\n",
    "x_lr2 = np.arange(0.0, 20, 1.0)\n",
    "y_lr2 = m * x_lr2 + c\n",
    "\n",
    "# Plot the Anscombe data linear regression line\n",
    "plt.plot(x2, y2, marker='o', linestyle='none')\n",
    "plt.plot(x_lr2, y_lr2)\n",
    "\n",
    "# Label axes\n",
    "plt.title(\"Anscombe II\")\n",
    "plt.xlabel('x2 values')\n",
    "plt.ylabel('y2 values')\n",
    "\n",
    "# Show the plot\n",
    "plt.show()\n",
    "\n"
   ]
  },
  {
   "cell_type": "markdown",
   "metadata": {},
   "source": [
    "However this plot is **clearly** a quadratic in this interval and **not** a straight line. Hence regression can be used but not on a  linear dimension; "
   ]
  },
  {
   "cell_type": "code",
   "execution_count": 9,
   "metadata": {
    "scrolled": true
   },
   "outputs": [
    {
     "name": "stdout",
     "output_type": "stream",
     "text": [
      "the x squared coefficient is  -0.13 \n",
      " the x coefficient is  2.8 \n",
      " the constant is  -6.0\n"
     ]
    },
    {
     "data": {
      "image/png": "[encoded data removed]",
      "text/plain": [
       "<matplotlib.figure.Figure at 0x2519a0f4048>"
      ]
     },
     "metadata": {
      "needs_background": "light"
     },
     "output_type": "display_data"
    }
   ],
   "source": [
    "# see if there is a best curve\n",
    "\n",
    "# calculate polynomial\n",
    "a, b, c = np.polyfit(x2, y2, 2)\n",
    "print(\"the x squared coefficient is \", f\"{a:.2}\",\"\\n\", \"the x coefficient is \", f\"{b:.2}\", \"\\n\", \"the constant is \", f\"{c:.2}\")\n",
    "\n",
    "\n",
    "# Plot the Anscombe data polyfit line\n",
    "\n",
    "x_pf2 = np.arange(0.0, 20, 1.0)\n",
    "y_pf2 = a * x_pf2**2 + b * x_pf2 + c\n",
    "\n",
    "plt.plot(x2, y2, marker='o', linestyle='none')\n",
    "plt.plot(x_pf2, y_pf2)\n",
    "\n",
    "# Label axes\n",
    "plt.title(\"Anscombe II\")\n",
    "plt.xlabel('x2 values')\n",
    "plt.ylabel('y2 values')\n",
    "\n",
    "# Show the plot\n",
    "plt.show()\n",
    "\n"
   ]
  },
  {
   "cell_type": "markdown",
   "metadata": {},
   "source": [
    "Plotting regression curvilinear line of order 2 to the data gives the plot above. This is a perfect fit to the equation $y = -0.13x^2+2.8x-6$. Drawing the scatterplot showed that fitting a linear line would not be the best course of action and that the model would be best fitted by an order of 2 curve.  "
   ]
  },
  {
   "cell_type": "markdown",
   "metadata": {},
   "source": [
    "### Anscombe III\n"
   ]
  },
  {
   "cell_type": "markdown",
   "metadata": {},
   "source": [
    "#### plot the data"
   ]
  },
  {
   "cell_type": "code",
   "execution_count": 10,
   "metadata": {
    "scrolled": true
   },
   "outputs": [
    {
     "data": {
      "image/png": "[encoded data removed]",
      "text/plain": [
       "<matplotlib.figure.Figure at 0x25199fc4e10>"
      ]
     },
     "metadata": {
      "needs_background": "light"
     },
     "output_type": "display_data"
    }
   ],
   "source": [
    "x3 = np.array(df['X3'])\n",
    "y3 = np.array(df['Y3'])\n",
    "\n",
    "plt.plot(x3, y3, 'ro')\n",
    "plt.xlabel('X axis')\n",
    "plt.ylabel('Y axis')\n",
    "plt.title('Anscombe\\'s Dataset II')\n",
    "plt.show()"
   ]
  },
  {
   "cell_type": "markdown",
   "metadata": {},
   "source": [
    "#### Describe the graph\n",
    "\n",
    "This shows a clear straight line but with one anomalous y value. Looking at this data again shows that the 12.74 value looks out of place with the rest of the data. \n",
    "\n",
    "\n"
   ]
  },
  {
   "cell_type": "code",
   "execution_count": 11,
   "metadata": {
    "scrolled": true
   },
   "outputs": [
    {
     "name": "stdout",
     "output_type": "stream",
     "text": [
      "    X3     Y3\n",
      "0   10   7.46\n",
      "1    8   6.77\n",
      "2   13  12.74\n",
      "3    9   7.11\n",
      "4   11   7.81\n",
      "5   14   8.84\n",
      "6    6   6.08\n",
      "7    4   5.39\n",
      "8   12   8.15\n",
      "9    7   6.42\n",
      "10   5   5.73\n"
     ]
    }
   ],
   "source": [
    "print(df[[\"X3\", \"Y3\"]])"
   ]
  },
  {
   "cell_type": "markdown",
   "metadata": {},
   "source": [
    "If Anscombe III has a linear regression line fitted to the data without considering the anomalous y value then, the same regression line $y = 0.5x + 3$ is found with the regression coefficient of 0.5; \n"
   ]
  },
  {
   "cell_type": "code",
   "execution_count": 12,
   "metadata": {
    "scrolled": true
   },
   "outputs": [
    {
     "name": "stdout",
     "output_type": "stream",
     "text": [
      "The linear regression line slope is 0.5 \n",
      " with the y intercept  3.0\n"
     ]
    },
    {
     "data": {
      "image/png": "[encoded data removed]",
      "text/plain": [
       "<matplotlib.figure.Figure at 0x2519b3359e8>"
      ]
     },
     "metadata": {
      "needs_background": "light"
     },
     "output_type": "display_data"
    }
   ],
   "source": [
    "# Perform linear regression: to find slope m and y intercept c\n",
    "m, c = np.polyfit(x3, y3, 1)\n",
    "\n",
    "# Print the slope and y intercept\n",
    "print(\"The linear regression line slope is\",f\"{m:.2}\",\"\\n\",\"with the y intercept \", f\"{c:.2}\")\n",
    "\n",
    "# plot regression line : y = mx + c\n",
    "x_lr3 = np.arange(0.0, 20, 1.0)\n",
    "y_lr3 = m * x_lr3 + c\n",
    "\n",
    "# Plot the Anscombe data linear regression line\n",
    "plt.plot(x3, y3, marker='o', linestyle='none')\n",
    "plt.plot(x_lr3, y_lr3)\n",
    "\n",
    "# Label axes\n",
    "plt.title(\"Anscombe III\")\n",
    "plt.xlabel('x3 values')\n",
    "plt.ylabel('y3 values')\n",
    "\n",
    "# Show the plot\n",
    "plt.show()\n",
    "\n"
   ]
  },
  {
   "cell_type": "markdown",
   "metadata": {},
   "source": [
    "However it is very clear from the graph that this would not be a suitable fit and that there is a better line if the rogue y value is removed from the dataset.\n",
    "\n",
    "Plot a box plot to see if there are any clear outliers"
   ]
  },
  {
   "cell_type": "code",
   "execution_count": 13,
   "metadata": {
    "scrolled": false
   },
   "outputs": [
    {
     "data": {
      "image/png": "[encoded data removed]",
      "text/plain": [
       "<matplotlib.figure.Figure at 0x2519a097198>"
      ]
     },
     "metadata": {
      "needs_background": "light"
     },
     "output_type": "display_data"
    }
   ],
   "source": [
    "sns.boxplot(y3)\n",
    "plt.show()\n"
   ]
  },
  {
   "cell_type": "markdown",
   "metadata": {},
   "source": [
    "This shows that most of the y3 values are between 6 and 8; and a clear outlier between 12 and 13; This should be removed as the line is steadily increasing so averaging the Y3 values would not be suitable value to replace the 12.74; "
   ]
  },
  {
   "cell_type": "code",
   "execution_count": 14,
   "metadata": {
    "scrolled": false
   },
   "outputs": [
    {
     "name": "stdout",
     "output_type": "stream",
     "text": [
      "12.74\n",
      "    X3     Y3\n",
      "0   10   7.46\n",
      "1    8   6.77\n",
      "2   13  12.74\n",
      "3    9   7.11\n",
      "4   11   7.81\n",
      "5   14   8.84\n",
      "6    6   6.08\n",
      "7    4   5.39\n",
      "8   12   8.15\n",
      "9    7   6.42\n",
      "10   5   5.73 \n",
      "\n",
      "    X3    Y3\n",
      "0   10  7.46\n",
      "1    8  6.77\n",
      "3    9  7.11\n",
      "4   11  7.81\n",
      "5   14  8.84\n",
      "6    6  6.08\n",
      "7    4  5.39\n",
      "8   12  8.15\n",
      "9    7  6.42\n",
      "10   5  5.73 \n",
      "\n"
     ]
    },
    {
     "data": {
      "image/png": "[encoded data removed]",
      "text/plain": [
       "<matplotlib.figure.Figure at 0x2519b3fa940>"
      ]
     },
     "metadata": {
      "needs_background": "light"
     },
     "output_type": "display_data"
    },
    {
     "name": "stdout",
     "output_type": "stream",
     "text": [
      "now find the best line\n",
      "The linear regression line slope is 0.35 \n",
      " with the y intercept  4.0\n"
     ]
    },
    {
     "data": {
      "image/png": "[encoded data removed]",
      "text/plain": [
       "<matplotlib.figure.Figure at 0x25199f78a20>"
      ]
     },
     "metadata": {
      "needs_background": "light"
     },
     "output_type": "display_data"
    }
   ],
   "source": [
    "# print the outlier\n",
    "print(df.iloc[2,5])\n",
    "# print the column to check its index\n",
    "print(df[[\"X3\", \"Y3\"]], \"\\n\")\n",
    "# drop the row with the outlier in it\n",
    "df_3 = df.drop(df.index[2])\n",
    "print(df_3[[\"X3\", \"Y3\"]], \"\\n\")\n",
    "\n",
    "# update the new arrays\n",
    "x3_adj = np.array(df_3['X3'])\n",
    "y3_adj = np.array(df_3['Y3'])\n",
    "\n",
    "# plot the adjusted data\n",
    "plt.plot(x3_adj, y3_adj, 'ro')\n",
    "plt.xlabel('X axis')\n",
    "plt.ylabel('Y axis')\n",
    "plt.title('Adjusted Anscombe\\'s Dataset III')\n",
    "plt.show()\n",
    "print(\"now find the best line\") # its a straight line so we could just take points\n",
    "\n",
    "# Perform linear regression: to find slope m and y intercept c\n",
    "m, c = np.polyfit(x3_adj, y3_adj, 1)\n",
    "\n",
    "# Print the slope and y intercept\n",
    "print(\"The linear regression line slope is\",f\"{m:.2}\",\"\\n\",\"with the y intercept \", f\"{c:.2}\")\n",
    "\n",
    "# plot regression line : y = mx + c\n",
    "x_lr3_adj = np.arange(0.0, 20, 1.0)\n",
    "y_lr3_adj = m * x_lr3_adj + c\n",
    "\n",
    "# Plot the Anscombe data linear regression line\n",
    "plt.plot(x3_adj, y3_adj, marker='o', linestyle='none')\n",
    "plt.plot(x_lr3_adj, y_lr3_adj)\n",
    "\n",
    "# Label axes\n",
    "plt.title(\"Anscombe III\")\n",
    "plt.xlabel('x3 values')\n",
    "plt.ylabel('y3 values')\n",
    "\n",
    "# Show the plot\n",
    "plt.show()\n"
   ]
  },
  {
   "cell_type": "markdown",
   "metadata": {},
   "source": [
    "This is a perfect straight line fit to the data with the equation $y =  0.35x + 4$ with the coefficient of regression of 0.35. \n",
    "\n",
    "This differs from the $y = 0.5x + 3$ linear regression line produced using the full data. The line $y =  0.35x + 4$ is a better model of the data than $y = 0.5x + 3$.  "
   ]
  },
  {
   "cell_type": "markdown",
   "metadata": {},
   "source": [
    "### Anscombe IV\n"
   ]
  },
  {
   "cell_type": "markdown",
   "metadata": {},
   "source": [
    "#### plot the data"
   ]
  },
  {
   "cell_type": "code",
   "execution_count": 15,
   "metadata": {
    "scrolled": true
   },
   "outputs": [
    {
     "data": {
      "image/png": "[encoded data removed]",
      "text/plain": [
       "<matplotlib.figure.Figure at 0x2519a0975f8>"
      ]
     },
     "metadata": {
      "needs_background": "light"
     },
     "output_type": "display_data"
    }
   ],
   "source": [
    "x4 = np.array(df['X4'])\n",
    "y4 = np.array(df['Y4'])\n",
    "\n",
    "plt.plot(x4, y4, 'go')\n",
    "plt.xlabel('X axis')\n",
    "plt.ylabel('Y axis')\n",
    "plt.title('Anscombe\\'s Dataset IV')\n",
    "plt.show()"
   ]
  },
  {
   "cell_type": "markdown",
   "metadata": {},
   "source": [
    "#### Describe the graph\n",
    "\n",
    "This shows all the data points have x value 8 except one. This illustrates Anscombe's concern that anomalous x values can have a far greater effect on the regression line than an anomalous y value as seen in Anscombe III. This rouge x value is so extreme that it likely to be an error in the data collection process rather than an outlier.\n",
    "\n",
    "#### fit a linear regression line\n",
    "If the regression line is plotted to the full dataset you get the following; \n",
    "\n"
   ]
  },
  {
   "cell_type": "code",
   "execution_count": 16,
   "metadata": {
    "scrolled": true
   },
   "outputs": [
    {
     "name": "stdout",
     "output_type": "stream",
     "text": [
      "    X4     Y4\n",
      "0    8   6.58\n",
      "1    8   5.76\n",
      "2    8   7.71\n",
      "3    8   8.84\n",
      "4    8   8.47\n",
      "5    8   7.04\n",
      "6    8   5.25\n",
      "7   19  12.50\n",
      "8    8   5.56\n",
      "9    8   7.91\n",
      "10   8   6.89 \n",
      "\n",
      "yep its all the 8's for the x4 values bar one\n"
     ]
    }
   ],
   "source": [
    "# Look at the data again\n",
    "print(df[[\"X4\", \"Y4\"]], \"\\n\")\n",
    "print(\"yep its all the 8's for the x4 values bar one\")"
   ]
  },
  {
   "cell_type": "code",
   "execution_count": 17,
   "metadata": {
    "scrolled": false
   },
   "outputs": [
    {
     "name": "stdout",
     "output_type": "stream",
     "text": [
      "The linear regression line slope is 0.5 \n",
      " with the y intercept  3.0\n"
     ]
    },
    {
     "data": {
      "image/png": "[encoded data removed]",
      "text/plain": [
       "<matplotlib.figure.Figure at 0x25199ed9e10>"
      ]
     },
     "metadata": {
      "needs_background": "light"
     },
     "output_type": "display_data"
    }
   ],
   "source": [
    "# Perform linear regression: to find slope m and y intercept c\n",
    "m, c = np.polyfit(x4, y4, 1)\n",
    "\n",
    "# Print the slope and y intercept\n",
    "print(\"The linear regression line slope is\",f\"{m:.2}\",\"\\n\",\"with the y intercept \", f\"{c:.2}\")\n",
    "\n",
    "# plot regression line : y = mx + c\n",
    "x_lr4 = np.arange(0.0, 20, 1.0)\n",
    "y_lr4 = m * x_lr4 + c\n",
    "\n",
    "# Plot the Anscombe data linear regression line\n",
    "plt.plot(x4, y4, marker='o', linestyle='none')\n",
    "plt.plot(x_lr4, y_lr4)\n",
    "\n",
    "# Label axes\n",
    "plt.title(\"Anscombe IV\")\n",
    "plt.xlabel('x4 values')\n",
    "plt.ylabel('y4 values')\n",
    "\n",
    "# Show the plot\n",
    "plt.show()\n",
    "\n"
   ]
  },
  {
   "cell_type": "markdown",
   "metadata": {},
   "source": [
    "The same regression line as before is found namely, $ y = 0.5x + 3$. But this would be a very bad model for the data as it's equation is $x = 8$. "
   ]
  },
  {
   "cell_type": "markdown",
   "metadata": {},
   "source": [
    "The value at index 7 should be removed from the set. With Anscombe III the y value was an outlier but in Anscombe 4 its the x value that is out of place. "
   ]
  },
  {
   "cell_type": "code",
   "execution_count": 18,
   "metadata": {
    "scrolled": false
   },
   "outputs": [
    {
     "name": "stdout",
     "output_type": "stream",
     "text": [
      "19\n",
      "    X4     Y4\n",
      "0    8   6.58\n",
      "1    8   5.76\n",
      "2    8   7.71\n",
      "3    8   8.84\n",
      "4    8   8.47\n",
      "5    8   7.04\n",
      "6    8   5.25\n",
      "7   19  12.50\n",
      "8    8   5.56\n",
      "9    8   7.91\n",
      "10   8   6.89 \n",
      "\n",
      "    X4    Y4\n",
      "0    8  6.58\n",
      "1    8  5.76\n",
      "2    8  7.71\n",
      "3    8  8.84\n",
      "4    8  8.47\n",
      "5    8  7.04\n",
      "6    8  5.25\n",
      "8    8  5.56\n",
      "9    8  7.91\n",
      "10   8  6.89 \n",
      "\n"
     ]
    },
    {
     "data": {
      "image/png": "[encoded data removed]",
      "text/plain": [
       "<matplotlib.figure.Figure at 0x2519b549ba8>"
      ]
     },
     "metadata": {
      "needs_background": "light"
     },
     "output_type": "display_data"
    }
   ],
   "source": [
    "# print the outlier\n",
    "print(df.iloc[7,6])\n",
    "# print the column to check its index\n",
    "\n",
    "print(df[[\"X4\", \"Y4\"]], \"\\n\")\n",
    "# drop the row with the outlier in it\n",
    "df_4 = df.drop(df.index[7])\n",
    "# check its dropped\n",
    "print(df_4[[\"X4\", \"Y4\"]], \"\\n\")\n",
    "\n",
    "# update the new arrays\n",
    "x4_adj = np.array(df_4['X4'])\n",
    "y4_adj = np.array(df_4['Y4'])\n",
    "\n",
    "# plot the adjusted data\n",
    "plt.plot(x4_adj, y4_adj, 'ro')\n",
    "plt.xlabel('X axis')\n",
    "plt.ylabel('Y axis')\n",
    "plt.title('Adjusted Anscombe\\'s Dataset IV')\n",
    "plt.show()\n"
   ]
  },
  {
   "cell_type": "markdown",
   "metadata": {},
   "source": [
    "Indeed if the rough x value was not there you would not be able to plot a line at all as there would be no regression coefficient. The x value would not be a predictor of the y value at all as y could be any value on the vertical line x = 8; The outlier x value creates the illusion that the data suggests the presence of a regression line.  "
   ]
  },
  {
   "cell_type": "code",
   "execution_count": 19,
   "metadata": {
    "scrolled": false
   },
   "outputs": [
    {
     "data": {
      "image/png": "[encoded data removed]",
      "text/plain": [
       "<matplotlib.figure.Figure at 0x2519b4b9358>"
      ]
     },
     "metadata": {
      "needs_background": "light"
     },
     "output_type": "display_data"
    },
    {
     "data": {
      "image/png": "[encoded data removed]",
      "text/plain": [
       "<matplotlib.figure.Figure at 0x2519b61ff60>"
      ]
     },
     "metadata": {
      "needs_background": "light"
     },
     "output_type": "display_data"
    }
   ],
   "source": [
    "plt.plot(x1, y1, 'ko', label = \"I\")\n",
    "plt.plot(x2, y2, 'bo', label = \"II\" )\n",
    "plt.plot(x3, y3, 'ro', label = \"III\")\n",
    "plt.plot(x4, y4, 'go', label = \"IV\")\n",
    "plt.legend() \n",
    "plt.xlabel('X axis')\n",
    "plt.ylabel('Y axis')\n",
    "plt.title('Anscombe\\'s Datasets')\n",
    "plt.show()\n",
    "plt.plot(x_lr1, y_lr1, 'ko', label = \"I\")\n",
    "plt.plot(x_pf2, y_pf2, 'bo', label = \"II\" )\n",
    "plt.plot(x_lr3_adj, y_lr3_adj, 'ro', label = \"III\")\n",
    "plt.plot(x4_adj, y4_adj, 'go', label = \"IV\")\n",
    "plt.legend() \n",
    "plt.xlabel('X axis')\n",
    "plt.ylabel('Y axis')\n",
    "plt.title('Anscombe\\'s Datasets as adjusted and suitably modeled')\n",
    "plt.show()"
   ]
  },
  {
   "cell_type": "markdown",
   "metadata": {},
   "source": [
    "Linear regression showed each of the datasets could be modeled by the same line $y = 0.5x + 3$. However only Anscombe I was suitably  modeled by linear regression. Anscombe II was the quadratic curve $y = -0.13x^2+2.8x-6$. Anscombe III was linear but an outlier y value was not giving the best fit line and the linear regression line that was most suitable to use in this case was $y =  0.35x + 4$. Anscombe IV had a constant x value in all but one datum. When this was removed it could be suitably modeled by the vertical line $x = 8$ which would tell us nothing about y values.  "
   ]
  },
  {
   "cell_type": "markdown",
   "metadata": {},
   "source": [
    "# Calculate descriptive stats\n",
    "\n",
    "Anscombe (1973) suggested the first stage of analysis should be to explore the data; Visualisation was a good way to get a feel for the data. \n",
    "The full dataset decscriptors are below; "
   ]
  },
  {
   "cell_type": "code",
   "execution_count": 20,
   "metadata": {
    "scrolled": true
   },
   "outputs": [
    {
     "name": "stdout",
     "output_type": "stream",
     "text": [
      "              X1         Y1         X2         Y2         X3         Y3  \\\n",
      "count  11.000000  11.000000  11.000000  11.000000  11.000000  11.000000   \n",
      "mean    9.000000   7.500909   9.000000   7.500909   9.000000   7.500000   \n",
      "std     3.316625   2.031568   3.316625   2.031657   3.316625   2.030424   \n",
      "min     4.000000   4.260000   4.000000   3.100000   4.000000   5.390000   \n",
      "25%     6.500000   6.315000   6.500000   6.695000   6.500000   6.250000   \n",
      "50%     9.000000   7.580000   9.000000   8.140000   9.000000   7.110000   \n",
      "75%    11.500000   8.570000  11.500000   8.950000  11.500000   7.980000   \n",
      "max    14.000000  10.840000  14.000000   9.260000  14.000000  12.740000   \n",
      "\n",
      "              X4         Y4  \n",
      "count  11.000000  11.000000  \n",
      "mean    9.000000   7.500909  \n",
      "std     3.316625   2.030579  \n",
      "min     8.000000   5.250000  \n",
      "25%     8.000000   6.170000  \n",
      "50%     8.000000   7.040000  \n",
      "75%     8.000000   8.190000  \n",
      "max    19.000000  12.500000  \n"
     ]
    }
   ],
   "source": [
    "print(df.describe())\n"
   ]
  },
  {
   "cell_type": "markdown",
   "metadata": {},
   "source": [
    "These were described earlier; However the scatter plots suggest the datasets should be the following;"
   ]
  },
  {
   "cell_type": "code",
   "execution_count": 21,
   "metadata": {},
   "outputs": [
    {
     "name": "stdout",
     "output_type": "stream",
     "text": [
      "Anscombe I descriptive statistics \n",
      "               X1         Y1\n",
      "count  11.000000  11.000000\n",
      "mean    9.000000   7.500909\n",
      "std     3.316625   2.031568\n",
      "min     4.000000   4.260000\n",
      "25%     6.500000   6.315000\n",
      "50%     9.000000   7.580000\n",
      "75%    11.500000   8.570000\n",
      "max    14.000000  10.840000 \n",
      "\n",
      "Anscombe II descriptive statistics \n",
      "               X2         Y2\n",
      "count  11.000000  11.000000\n",
      "mean    9.000000   7.500909\n",
      "std     3.316625   2.031657\n",
      "min     4.000000   3.100000\n",
      "25%     6.500000   6.695000\n",
      "50%     9.000000   8.140000\n",
      "75%    11.500000   8.950000\n",
      "max    14.000000   9.260000 \n",
      "\n",
      "Anscombe III descriptive statistics adjusted \n",
      "               X3         Y3\n",
      "count  10.000000  10.000000\n",
      "mean    8.600000   6.976000\n",
      "std     3.204164   1.106689\n",
      "min     4.000000   5.390000\n",
      "25%     6.250000   6.165000\n",
      "50%     8.500000   6.940000\n",
      "75%    10.750000   7.722500\n",
      "max    14.000000   8.840000 \n",
      "\n",
      "Anscombe IV descriptive statistics adjusted \n",
      "          X4         Y4\n",
      "count  10.0  10.000000\n",
      "mean    8.0   7.001000\n",
      "std     0.0   1.235695\n",
      "min     8.0   5.250000\n",
      "25%     8.0   5.965000\n",
      "50%     8.0   6.965000\n",
      "75%     8.0   7.860000\n",
      "max     8.0   8.840000 \n",
      "\n"
     ]
    }
   ],
   "source": [
    "print(\"Anscombe I descriptive statistics \\n\", df[['X1','Y1']].describe(), \"\\n\")\n",
    "\n",
    "print(\"Anscombe II descriptive statistics \\n\", df[['X2','Y2']].describe(), \"\\n\")\n",
    "\n",
    "print(\"Anscombe III descriptive statistics adjusted \\n\", df_3[['X3','Y3']].describe(), \"\\n\")\n",
    "\n",
    "print(\"Anscombe IV descriptive statistics adjusted \\n\", df_4[['X4','Y4']].describe(), \"\\n\")"
   ]
  },
  {
   "cell_type": "markdown",
   "metadata": {},
   "source": [
    "In addition the scatterplot of Anscombe II suggested a curvilinear model should be applied. "
   ]
  },
  {
   "cell_type": "markdown",
   "metadata": {},
   "source": [
    "Anscombe's datasets have the same person correlation r for the relationship between their x and y values."
   ]
  },
  {
   "cell_type": "code",
   "execution_count": 22,
   "metadata": {
    "scrolled": true
   },
   "outputs": [
    {
     "name": "stdout",
     "output_type": "stream",
     "text": [
      "pearsons r for Anscombe I is \n",
      " [[ 1.          0.81642052]\n",
      " [ 0.81642052  1.        ]] \n",
      "\n",
      "pearsons r for Anscombe II is \n",
      " [[ 1.          0.81623651]\n",
      " [ 0.81623651  1.        ]] \n",
      "\n",
      "pearsons r for Anscombe III is \n",
      " [[ 1.          0.81628674]\n",
      " [ 0.81628674  1.        ]] \n",
      "\n",
      "pearsons r for Anscombe IV is \n",
      " [[ 1.          0.81652144]\n",
      " [ 0.81652144  1.        ]] \n",
      "\n"
     ]
    }
   ],
   "source": [
    "# calculate the Pearson product-moment correlation between the x and y values for each set \n",
    "print(\"pearsons r for Anscombe I is \\n\",np.corrcoef(df[\"X1\"], df[\"Y1\"]),\"\\n\" )\n",
    "print(\"pearsons r for Anscombe II is \\n\",np.corrcoef(df[\"X2\"], df[\"Y2\"]),\"\\n\" )\n",
    "print(\"pearsons r for Anscombe III is \\n\",np.corrcoef(df[\"X3\"], df[\"Y3\"]),\"\\n\" )\n",
    "print(\"pearsons r for Anscombe IV is \\n\",np.corrcoef(df[\"X4\"], df[\"Y4\"]),\"\\n\" )"
   ]
  },
  {
   "cell_type": "code",
   "execution_count": 23,
   "metadata": {},
   "outputs": [
    {
     "name": "stdout",
     "output_type": "stream",
     "text": [
      "pearsons r for adjusted Anscombe III is \n",
      " [[ 1.          0.99999655]\n",
      " [ 0.99999655  1.        ]] \n",
      "\n",
      "pearsons r for adjusted Anscombe IV is \n",
      " [[ nan  nan]\n",
      " [ nan   1.]] \n",
      "\n"
     ]
    },
    {
     "name": "stderr",
     "output_type": "stream",
     "text": [
      "C:\\ProgramData\\Anaconda3\\lib\\site-packages\\numpy\\lib\\function_base.py:3167: RuntimeWarning: invalid value encountered in true_divide\n",
      "  c /= stddev[:, None]\n",
      "C:\\ProgramData\\Anaconda3\\lib\\site-packages\\numpy\\lib\\function_base.py:3168: RuntimeWarning: invalid value encountered in true_divide\n",
      "  c /= stddev[None, :]\n"
     ]
    }
   ],
   "source": [
    "# calculate the Pearson product-moment correlation between the x and y values for each set when adjustments are made\n",
    "print(\"pearsons r for adjusted Anscombe III is \\n\", np.corrcoef(df_3[\"X3\"], df_3[\"Y3\"]),\"\\n\" )\n",
    "print(\"pearsons r for adjusted Anscombe IV is \\n\", np.corrcoef(df_4[\"X4\"], df_4[\"Y4\"]),\"\\n\" )"
   ]
  },
  {
   "cell_type": "markdown",
   "metadata": {},
   "source": [
    "This shows that the unadjusted datasets all have the same coefficient of correlation of 0.8165; This is a measure of the strength of association between the x and y value. However the adjusted Anscombe III has a higher correlation coefficient at 1 and Anscombe IV is not suitable for regression analysis. Anscombe II is also not suitable for a linear based correlation coefficient. "
   ]
  },
  {
   "cell_type": "markdown",
   "metadata": {},
   "source": [
    "## Explain why the dataset is interesting refering to the plots and statistics"
   ]
  },
  {
   "cell_type": "markdown",
   "metadata": {},
   "source": [
    "Anscombe's datasets are interesting as it shows the importance of taking a big picture look at the data. Visualising the data can give pointers to the direction your calculation approach should take. \n",
    "\n",
    "Anscombe I dataset scatterplot showed that a linear regression approach was suitable; Why? because the data was scattered in a non uniform manner around some linear region of the plot. Linear regression showed that this data could be modelled by the line $y = 0.5x + 3$.\n",
    "\n",
    "Anscombe II dataset scatterplot showed that a linear approach would not be a good choice; The scatterplot showed a curve and was best modeled by the equation $y = -0.13x^2+2.8x-6$. \n",
    "\n",
    "Anscombe III showed that an outlier y value was easy to spot and that the dataset should be adjusted before performing linear regression; This produced a best line of $y =  0.35x + 4$ for modeling the data. \n",
    "\n",
    "Finally Anscombe IV showed that an outlier x value should be checked carefully or else it may invalidate any regression line predictions. The adjusted Ancombe IV data was not suitable for regression analysis. \n"
   ]
  },
  {
   "cell_type": "markdown",
   "metadata": {},
   "source": [
    "## Speculations on how Anscombe's datasets may have been created\n",
    "\n",
    "Anscombe's four sets show different characteristics and contain different types of errors. Rodríguez (2016) noted the different types of errors in Anscombe's datasets around the regression line $y = 0.5x +3 $.\n",
    "\n",
    "* Pure Error\n",
    "\n",
    "Anscombe I is what you would typically expect in real world experiments. Its a scatter plot like what you might find when measuring the lengths of petals. Measurements will all be clustered around a best line and show some 'random noise' or 'pure error' in how they deviate from the best fit line. This type of data if what is typically expected and the descriptive statistics and data visualization methods agree on how this data should be modeled.   \n",
    "\n",
    "* Lack of Fit\n",
    "\n",
    "Anscombe II is a quadratic curve (at least in the interval in question). These types of curves are commonly found with real world data such as the trajectory of a ball or precision engineering etc. However if a linear regression line is applied to Anscombe II data you would **not** model its relationship between its x and y value. The regression line does not fit the data. Instead it should be modeled by a quadratic curve which does fit the data. \n",
    "\n",
    "* Outlier\n",
    "\n",
    "Anscombe III's third y value distorts the regression line. The rest of the data follows a clear straight line perfectly but when the third point is included it affects the regression line calculated and no longer best fits the model. \n",
    "\n",
    "* Undue Influence \n",
    "\n",
    "Anscombe IV has one x value that deviates from all the other x values. The other x values are all identical but when the 8th point is included it creates a regression line that would not there otherwise.   \n",
    "\n",
    "\n",
    "Anscombe (1973) was interested in statistical computing. He noted in his 1973 paper that he often used his APL skills when plotting data. APL is a computer language specializing in multidimensional arrays (Wikipedia, 2018b). So its a fair assumption that he reverse engineered some data from the line  $y = 0.5x +3 $ with the types of error mentioned above using his computer skills.\n",
    "\n",
    "Matejka & Fitzmaurice (2017) noted that creating data with specific descriptive statistical properties is hard. However it is relatively easy to take a set of data with specific properties and selecting certain data within this dataset then modifying them slightly while still keeping the overall statistical properties of the original dataset. \n",
    "\n",
    ">We do this by choosing a point at random, moving it a little bit, then checking that the statistical properties of the set haven't strayed outside of the acceptable bounds (in this particular case, we are ensuring that the means, standard deviations, and correlations remain the same to two decimal places.)\n",
    "(Matejka & Fitzmaurice, 2017)\n",
    "\n",
    "Indeed they vividly illustrated this by producing the plots below which all have the same x value mean of 54.26, y value mean of 47.83, x value standard deviation of 16.76, y value standard deviation of 26.93 and correlation of -0.06. The figures below also have the same fitted linear regression line. \n"
   ]
  },
  {
   "cell_type": "code",
   "execution_count": 24,
   "metadata": {},
   "outputs": [
    {
     "data": {
      "image/png": "[encoded data removed]",
      "text/plain": [
       "<matplotlib.figure.Figure at 0x2519b699940>"
      ]
     },
     "metadata": {},
     "output_type": "display_data"
    }
   ],
   "source": [
    "# Code taken from https://github.com/lwgray/yellowbrick/blob/fcd6e2dfc030c7d0cee04372643d7f7c74a712ef/yellowbrick/datasaurus.py\n",
    "# I had to install anaconda package yellowbrick https://anaconda.org/DistrictDataLabs/yellowbrick for this to work\n",
    "# I did try the data available on https://www.autodeskresearch.com/publications/samestats but this wouldn't run even after I installed several packages\n",
    "\n",
    "\n",
    "# yellowbrick.datasaurus\n",
    "# Plots a Datasaurus Quartet as an illustration of the importance of visualization.\n",
    "#\n",
    "# Author:   Benjamin Bengfort <bbengfort@districtdatalabs.com>\n",
    "# Author:   Larry Gray\n",
    "# Created:  Wed May 18 11:38:25 2016 -0400\n",
    "#\n",
    "# Copyright (C) 2018 District Data Labs\n",
    "# For license information, see LICENSE.txt\n",
    "#\n",
    "# ID: datasaurus.py [0bfa366] benjamin@bengfort.com $\n",
    "\n",
    "\"\"\"\n",
    "Plots a Datasaurus Quartet as an illustration of the importance of visualization.\n",
    "\"\"\"\n",
    "\n",
    "##########################################################################\n",
    "## Imports\n",
    "##########################################################################\n",
    "# these are imported already\n",
    "#import numpy as np\n",
    "#import matplotlib.pyplot as plt\n",
    "\n",
    "from yellowbrick.bestfit import draw_best_fit\n",
    "from yellowbrick.style import get_color_cycle\n",
    "\n",
    "\n",
    "##########################################################################\n",
    "## DATASAURUS Data Arrays\n",
    "##########################################################################\n",
    "\n",
    "DATASAURUS = [\n",
    "    np.array([[55.3846, 51.5385, 46.1538, 42.8205, 40.7692, 38.7179, 35.641 ,\n",
    "         33.0769, 28.9744, 26.1538, 23.0769, 22.3077, 22.3077, 23.3333,\n",
    "         25.8974, 29.4872, 32.8205, 35.3846, 40.2564, 44.1026, 46.6667,\n",
    "         50.    , 53.0769, 56.6667, 59.2308, 61.2821, 61.5385, 61.7949,\n",
    "         57.4359, 54.8718, 52.5641, 48.2051, 49.4872, 51.0256, 45.3846,\n",
    "         42.8205, 38.7179, 35.1282, 32.5641, 30.    , 33.5897, 36.6667,\n",
    "         38.2051, 29.7436, 29.7436, 30.    , 32.0513, 35.8974, 41.0256,\n",
    "         44.1026, 47.1795, 49.4872, 51.5385, 53.5897, 55.1282, 56.6667,\n",
    "         59.2308, 62.3077, 64.8718, 67.9487, 70.5128, 71.5385, 71.5385,\n",
    "         69.4872, 46.9231, 48.2051, 50.    , 53.0769, 55.3846, 56.6667,\n",
    "         56.1538, 53.8462, 51.2821, 50.    , 47.9487, 29.7436, 29.7436,\n",
    "         31.2821, 57.9487, 61.7949, 64.8718, 68.4615, 70.7692, 72.0513,\n",
    "         73.8462, 75.1282, 76.6667, 77.6923, 79.7436, 81.7949, 83.3333,\n",
    "         85.1282, 86.4103, 87.9487, 89.4872, 93.3333, 95.3846, 98.2051,\n",
    "         56.6667, 59.2308, 60.7692, 63.0769, 64.1026, 64.359 , 74.359 ,\n",
    "         71.2821, 67.9487, 65.8974, 63.0769, 61.2821, 58.7179, 55.1282,\n",
    "         52.3077, 49.7436, 47.4359, 44.8718, 48.7179, 51.2821, 54.1026,\n",
    "         56.1538, 52.0513, 48.7179, 47.1795, 46.1538, 50.5128, 53.8462,\n",
    "         57.4359, 60.    , 64.1026, 66.9231, 71.2821, 74.359 , 78.2051,\n",
    "         67.9487, 68.4615, 68.2051, 37.6923, 39.4872, 91.2821, 50.    ,\n",
    "         47.9487, 44.1026],\n",
    "        [97.1795, 96.0256, 94.4872, 91.4103, 88.3333, 84.8718, 79.8718,\n",
    "         77.5641, 74.4872, 71.4103, 66.4103, 61.7949, 57.1795, 52.9487,\n",
    "         51.0256, 51.0256, 51.0256, 51.4103, 51.4103, 52.9487, 54.1026,\n",
    "         55.2564, 55.641 , 56.0256, 57.9487, 62.1795, 66.4103, 69.1026,\n",
    "         55.2564, 49.8718, 46.0256, 38.3333, 42.1795, 44.1026, 36.4103,\n",
    "         32.5641, 31.4103, 30.2564, 32.1795, 36.7949, 41.4103, 45.641 ,\n",
    "         49.1026, 36.0256, 32.1795, 29.1026, 26.7949, 25.2564, 25.2564,\n",
    "         25.641 , 28.718 , 31.4103, 34.8718, 37.5641, 40.641 , 42.1795,\n",
    "         44.4872, 46.0256, 46.7949, 47.9487, 53.718 , 60.641 , 64.4872,\n",
    "         69.4872, 79.8718, 84.1026, 85.2564, 85.2564, 86.0256, 86.0256,\n",
    "         82.9487, 80.641 , 78.718 , 78.718 , 77.5641, 59.8718, 62.1795,\n",
    "         62.5641, 99.4872, 99.1026, 97.5641, 94.1026, 91.0256, 86.4103,\n",
    "         83.3333, 79.1026, 75.2564, 71.4103, 66.7949, 60.2564, 55.2564,\n",
    "         51.4103, 47.5641, 46.0256, 42.5641, 39.8718, 36.7949, 33.718 ,\n",
    "         40.641 , 38.3333, 33.718 , 29.1026, 25.2564, 24.1026, 22.9487,\n",
    "         22.9487, 22.1795, 20.2564, 19.1026, 19.1026, 18.3333, 18.3333,\n",
    "         18.3333, 17.5641, 16.0256, 13.718 , 14.8718, 14.8718, 14.8718,\n",
    "         14.1026, 12.5641, 11.0256,  9.8718,  6.0256,  9.4872, 10.2564,\n",
    "         10.2564, 10.641 , 10.641 , 10.641 , 10.641 , 10.641 , 10.641 ,\n",
    "          8.718 ,  5.2564,  2.9487, 25.7692, 25.3846, 41.5385, 95.7692,\n",
    "         95.    , 92.6923]]),\n",
    "    np.array([[51.20389114, 58.9744699 , 51.87207267, 48.17993079, 41.6832004 ,\n",
    "         37.8904155 , 39.54897369, 39.64957388, 34.75059705, 27.56083529,\n",
    "         24.63553998, 20.95946481, 20.68914905, 19.28820474, 20.02450057,\n",
    "         35.469523  , 36.89432765, 39.05554978, 46.95708015, 37.31045274,\n",
    "         40.009672  , 48.01438668, 53.70377593, 63.06749989, 62.04803251,\n",
    "         59.83996671, 55.16094182, 61.27978658, 60.83491753, 61.52059065,\n",
    "         36.91654386, 38.50219967, 48.66437073, 50.2852524 , 42.27633267,\n",
    "         54.03177562, 37.32935526, 41.38952255, 40.07466666, 35.34968062,\n",
    "         34.76370042, 37.02662945, 36.45556953, 35.53766421, 20.40894789,\n",
    "         23.49571047, 29.55754336, 33.00823391, 53.98039918, 52.2343086 ,\n",
    "         59.50307661, 41.16378107, 48.99304012, 59.26928032, 45.469177  ,\n",
    "         62.69126654, 73.42867087, 70.84642611, 71.53901985, 67.62086589,\n",
    "         72.47095256, 64.81223756, 60.85367987, 67.78949616, 41.60955727,\n",
    "         53.00302532, 54.71417106, 44.29166872, 49.19172196, 53.10138178,\n",
    "         51.59984815, 54.37972195, 46.4807681 , 53.17465627, 45.27200294,\n",
    "         36.03340215, 28.27119417, 25.05480608, 64.758887  , 63.14452748,\n",
    "         50.42467869, 70.64499626, 63.14904908, 62.82402452, 70.23686951,\n",
    "         70.04273524, 72.57062345, 75.13071604, 83.29390573, 79.66426228,\n",
    "         88.43210253, 89.11555901, 89.09219763, 91.72600577, 91.73553876,\n",
    "         91.50788817, 88.2390019 , 88.5305192 , 55.36516034, 62.56025887,\n",
    "         58.00666912, 55.06711799, 61.61477596, 68.54314354, 77.70610965,\n",
    "         68.453046  , 68.25720644, 70.25547467, 65.04432528, 60.09224661,\n",
    "         52.99202897, 50.14462898, 46.50861419, 43.80703196, 57.81785469,\n",
    "         50.94049266, 63.49732308, 50.01648295, 58.63676508, 54.73028909,\n",
    "         65.8755478 , 57.06098271, 46.81990795, 38.35939487, 47.31541578,\n",
    "         55.05191654, 50.51596026, 49.67741465, 67.28065952, 66.17301826,\n",
    "         61.08854414, 66.05308577, 72.66998927, 61.5034725 , 68.99502863,\n",
    "         78.24991617, 36.48198057, 50.96774838, 91.19105361, 55.86376849,\n",
    "         49.2805948 , 43.36850154],\n",
    "        [83.33977661, 85.49981761, 85.82973763, 85.04511674, 84.0179406 ,\n",
    "         82.567493  , 80.81260177, 82.66453387, 80.01109099, 72.84782559,\n",
    "         71.61071483, 66.04149838, 62.72130521, 62.06305936, 61.34262387,\n",
    "         43.11588495, 47.70655597, 55.54697371, 65.24040739, 45.2587509 ,\n",
    "         60.98658251, 65.71281959, 66.38948204, 64.03500046, 63.84586325,\n",
    "         64.47676444, 65.23730817, 65.7664025 , 64.60376971, 64.79185504,\n",
    "         41.09524744, 41.56715562, 30.68066685, 30.33792211, 34.52763612,\n",
    "         29.67234831, 39.60204231, 37.29605623, 34.6236852 , 47.14107313,\n",
    "         47.62479992, 44.46229305, 40.79184303, 48.72938687, 32.20303042,\n",
    "         25.32246815, 21.36477746, 15.98507146, 29.35098671, 29.71167299,\n",
    "         30.66967394, 34.31575825, 32.03035884, 29.64070177, 33.83119273,\n",
    "         30.29037383, 48.57785513, 52.28225333, 45.52180616, 38.00655847,\n",
    "         51.12213482, 62.81091559, 65.49914703, 61.36370155, 83.84868656,\n",
    "         84.6747986 , 84.04312807, 82.90944121, 85.87622912, 84.54765869,\n",
    "         84.81982149, 84.24035555, 83.51821167, 84.26056799, 85.23707942,\n",
    "         53.37168776, 72.84023126, 71.54859792, 82.31522364, 85.23669633,\n",
    "         85.17474759, 82.43091876, 83.94685535, 84.96618595, 82.17115106,\n",
    "         80.38502135, 80.97121843, 79.98409314, 70.77843179, 73.93230972,\n",
    "         64.624247  , 64.00150664, 57.76819305, 52.62335326, 48.97021089,\n",
    "         53.31265209, 31.47743488, 30.47603101, 30.44585028, 30.44713567,\n",
    "         30.2537213 , 29.0115352 , 29.99439119, 35.65783217, 20.30426019,\n",
    "         13.03552859, 12.38463915, 13.25038497, 11.00084148, 11.87211171,\n",
    "          9.90666848, 12.21154309, 11.20713449, 11.31894489, 10.94514243,\n",
    "          9.69154713, 11.91406917, 11.93385209, 11.97472107, 11.41288267,\n",
    "         11.73243636,  9.92056085, 10.49465268, 13.43132262, 12.85345178,\n",
    "         11.94998862,  9.76559162, 10.38313251, 14.12865153, 12.03791702,\n",
    "         10.08453441, 13.38022601, 15.23422594, 10.82841448, 13.99431053,\n",
    "         17.88324091, 15.16276009, 29.67977429, 46.67434284, 85.33648676,\n",
    "         84.04882283, 84.3321772 ]]),\n",
    "    np.array([[58.21360826, 58.19605369, 58.71823072, 57.27837287, 58.08202049,\n",
    "         57.48944777, 28.08874132, 28.08546821, 28.08727305, 27.57802522,\n",
    "         27.77991911, 28.58899981, 28.7391415 , 27.02460324, 28.8013367 ,\n",
    "         27.18646384, 29.2851466 , 39.4029453 , 28.81132844, 34.30395791,\n",
    "         29.60276098, 49.11615686, 39.61754583, 43.23308466, 64.89278794,\n",
    "         62.49014932, 68.98808443, 62.10561863, 32.46184674, 41.32720065,\n",
    "         44.00714993, 44.07406069, 44.00131524, 45.00630045, 44.44384061,\n",
    "         42.1787134 , 44.04456562, 41.64045402, 41.93833001, 44.05392751,\n",
    "         39.20671933, 28.70444923, 31.7086629 , 42.81171147, 43.30061489,\n",
    "         40.39863291, 40.43569158, 40.93654667, 39.66157367, 40.89925917,\n",
    "         41.96861683, 40.38340582, 56.53812645, 52.97069128, 54.62095259,\n",
    "         65.09904439, 63.05599091, 70.96013623, 69.89581924, 70.59589286,\n",
    "         69.64702143, 77.39298249, 64.40078719, 63.86895983, 56.59442132,\n",
    "         56.53133729, 59.65215837, 56.6365087 , 58.672288  , 58.22161273,\n",
    "         57.91466448, 55.31550906, 54.57572859, 54.41309365, 55.0745059 ,\n",
    "         29.43296052, 29.42268607, 29.00561416, 58.46183859, 57.99780474,\n",
    "         57.54947408, 59.52992846, 58.24939106, 58.02451401, 58.38212449,\n",
    "         62.56675904, 72.17582431, 79.47276157, 80.35770088, 78.75723614,\n",
    "         82.54023959, 86.43589719, 79.48868442, 81.53042032, 79.18678857,\n",
    "         77.89905795, 75.13071421, 76.05801375, 57.61467439, 56.17139753,\n",
    "         66.2878906 , 67.88171962, 64.0280813 , 77.49665175, 77.63465176,\n",
    "         77.86372643, 77.33815817, 76.18041653, 77.25265109, 77.41337528,\n",
    "         76.7318494 , 49.47110541, 42.47653994, 43.59511586, 50.33996967,\n",
    "         40.74898026, 38.38652558, 38.40401521, 38.76427889, 41.47014233,\n",
    "         47.15540481, 39.58256675, 41.74024382, 39.31187189, 41.67984769,\n",
    "         39.08746445, 41.48150286, 77.60608655, 75.98266152, 76.94575724,\n",
    "         77.54372007, 77.58473984, 76.82230426, 77.34857166, 77.57315269,\n",
    "         77.97261068, 41.52891976, 43.7225508 , 79.32607818, 56.66397408,\n",
    "         57.82178923, 58.2431719 ],\n",
    "        [91.88189151, 92.21498865, 90.31053209, 89.90760672, 92.00814501,\n",
    "         88.08528556, 63.51079443, 63.59019695, 63.12328281, 62.82103866,\n",
    "         63.51814752, 63.02408057, 62.72086389, 62.90185886, 63.38904039,\n",
    "         63.55872965, 63.38360583, 51.1508572 , 61.35785406, 56.54212591,\n",
    "         60.15734672, 63.66000062, 62.92518796, 63.16521872, 65.81417676,\n",
    "         74.58428961, 63.2321473 , 75.99087076, 62.88190292, 49.07025127,\n",
    "         46.44967378, 34.55320389, 33.90420735, 38.29901955, 36.0190833 ,\n",
    "         26.49211948, 35.66223828, 27.09309542, 24.99152298, 33.55639249,\n",
    "         51.5337157 , 61.7775254 , 58.83775437, 30.02044842, 31.5264262 ,\n",
    "         16.34700838, 20.23267068, 16.91300484, 15.60935558, 20.79852895,\n",
    "         26.4970726 , 21.39122552, 32.44424547, 29.04019669, 30.34452445,\n",
    "         27.24155756, 29.70909567, 41.25950129, 43.45375927, 41.96474387,\n",
    "         44.04444502, 63.37145906, 67.44871845, 70.21373883, 86.92700622,\n",
    "         87.49981107, 87.80946159, 85.63749556, 90.07716031, 90.41101877,\n",
    "         89.95380277, 80.25186069, 77.53628847, 78.22908659, 79.81754642,\n",
    "         60.80177654, 63.06846482, 63.39075133, 90.26532639, 92.15990861,\n",
    "         90.74890656, 88.32727415, 92.12968148, 91.69442117, 90.55347607,\n",
    "         77.74393476, 63.12892942, 63.40868612, 63.29543754, 53.33262001,\n",
    "         56.54105229, 59.79276181, 53.65167426, 56.02536457, 53.23479185,\n",
    "         51.82245833, 23.37244197, 16.38374969, 33.82244765, 32.11798877,\n",
    "         26.11710975, 24.23601841, 27.67268551, 14.94852356, 14.46185393,\n",
    "         14.61067765, 15.89005466, 15.91257375, 15.15151702, 15.22192798,\n",
    "         16.21684614, 25.06301931, 18.33847356, 19.99420098, 26.47139661,\n",
    "         16.18214166, 14.58021515, 14.45194845, 14.36559047, 17.27803344,\n",
    "         22.37793253, 17.64845284, 17.82932431, 15.64071697, 17.74591901,\n",
    "         15.12230394, 18.04743744, 15.16287254, 16.30692238, 15.85847833,\n",
    "         15.25394915, 15.83003939, 15.59516532, 15.77452924, 14.78064583,\n",
    "         14.95569875, 24.91642519, 19.0773278 , 52.90039129, 87.94012501,\n",
    "         90.69316655, 92.10432787]]),\n",
    "    np.array([[51.14791671, 50.51712581, 50.2074802 , 50.06948192, 50.56284634,\n",
    "         50.2885278 , 25.58347508, 25.48358339, 25.4435257 , 25.56511342,\n",
    "         25.92884427, 27.55147826, 27.53046637, 27.09557036, 27.43924961,\n",
    "         27.87826426, 27.33886892, 27.67840297, 52.63565768, 52.02521411,\n",
    "         52.88116479, 52.95260731, 52.52055249, 52.34282206, 51.92759021,\n",
    "         52.71377449, 50.44380279, 50.21669503, 52.18418011, 52.79209735,\n",
    "         52.58971986, 52.02884867, 52.72924658, 52.88431329, 52.50930089,\n",
    "         50.86268433, 50.89149225, 25.8551276 , 26.02564455, 27.89317272,\n",
    "         27.63996794, 27.8926589 , 52.79773294, 27.58063881, 26.49139853,\n",
    "         25.98531782, 26.20141928, 25.85756947, 50.70468436, 50.81197535,\n",
    "         50.56484556, 50.93930391, 50.45885484, 52.90136407, 52.68495344,\n",
    "         52.50008894, 51.83563726, 76.9954121 , 77.31060048, 77.92604434,\n",
    "         77.25438834, 76.2431578 , 77.08448437, 75.2280532 , 50.65835477,\n",
    "         50.20336581, 50.9295477 , 50.17867185, 50.42269806, 50.46422483,\n",
    "         50.44927033, 49.92838028, 50.48801364, 49.96490538, 50.75210826,\n",
    "         27.42242921, 27.6740834 , 27.53739532, 52.26334738, 51.73728166,\n",
    "         75.87096369, 75.24432621, 75.19829529, 75.70104153, 75.47933966,\n",
    "         75.19456687, 74.82025396, 75.16434049, 75.26335555, 77.75641893,\n",
    "         77.95443505, 77.08333777, 76.06355025, 77.68201632, 76.87808198,\n",
    "         76.94850272, 77.86405471, 75.77145009, 52.33156913, 52.59281837,\n",
    "         50.47704772, 75.29647509, 75.57395413, 75.40052716, 75.87099084,\n",
    "         75.60588476, 75.89557705, 75.7465632 , 75.14234148, 50.66177956,\n",
    "         50.69985064, 50.91894087, 50.72525854, 51.26387123, 51.25091965,\n",
    "         50.78515721, 50.50139658, 50.73367454, 50.71137854, 50.8127449 ,\n",
    "         51.01423295, 50.35352141, 50.43552957, 50.63098196, 51.0668072 ,\n",
    "         50.79235473, 50.55127806, 50.55975806, 75.32597855, 75.04472578,\n",
    "         75.28708772, 75.23996998, 75.1524592 , 75.96184009, 75.44806251,\n",
    "         75.75938382, 50.3782623 , 50.53363501, 77.50090732, 50.69112419,\n",
    "         49.99039495, 50.12718203],\n",
    "        [90.86741233, 89.10239459, 85.4600474 , 83.05766953, 82.93782178,\n",
    "         82.97525357, 82.91489113, 82.92908498, 82.8742005 , 82.92409777,\n",
    "         82.82118411, 51.48738653, 51.41484656, 52.07679944, 51.71207905,\n",
    "         50.70890793, 51.65304675, 51.18198917, 51.41855226, 52.12301105,\n",
    "         50.62155476, 50.07473901, 51.5024421 , 51.86195209, 52.25779061,\n",
    "         51.19794432, 82.94182882, 83.75234297, 51.97525067, 51.07339565,\n",
    "         51.3380902 , 52.1768375 , 51.20176505, 50.44143545, 51.41620515,\n",
    "         17.14563109, 17.14132373, 17.08190869, 16.92501353, 50.66196341,\n",
    "         51.39909748, 50.79528152, 50.68603709, 51.52476126, 17.40539097,\n",
    "         17.20372213, 17.09382391, 17.11384266, 17.02374454, 17.11492526,\n",
    "         17.07777732, 16.98102188, 17.03857897, 50.69056272, 51.29446922,\n",
    "         51.59435617, 52.33576553, 52.04552865, 51.74673004, 50.31866042,\n",
    "         51.46182482, 52.12368985, 51.9671367 , 82.98566202, 83.11447934,\n",
    "         82.98265686, 82.84604113, 83.18462233, 82.90990147, 82.93532841,\n",
    "         83.96992038, 82.99366549, 83.09951912, 83.7083177 , 82.9019501 ,\n",
    "         51.43887623, 51.30411215, 51.59365408, 94.24932783, 92.97911753,\n",
    "         88.38644174, 83.90349738, 83.46230334, 82.91945886, 82.88405139,\n",
    "         82.93211578, 82.96238879, 83.03499717, 82.9452793 , 51.15177033,\n",
    "         50.47557897, 52.15779927, 52.10465206, 51.16563781, 51.8675623 ,\n",
    "         51.90751654, 49.66254553, 17.11125121, 51.87886035, 51.39159152,\n",
    "         17.04828941, 17.01565319, 17.06219214, 17.04110689, 17.13489391,\n",
    "         17.06772306, 17.16994971, 17.10571651, 16.75492389, 17.07814052,\n",
    "         17.08518438, 17.14760476, 16.90746981, 17.16234971, 17.24045586,\n",
    "         17.18019648, 17.10577072, 16.99296341, 17.08831585, 16.57271805,\n",
    "         17.22109553, 17.06474308, 17.0651685 , 17.07652235, 17.20885971,\n",
    "         17.20421434, 17.08465518, 17.09388377, 15.77189199, 17.00426226,\n",
    "         16.17493491, 17.03184749, 17.0049424 , 16.69484223, 17.04514941,\n",
    "         16.94292965, 16.94627981, 17.01958137, 50.16698595, 87.51396042,\n",
    "         83.99735692, 82.99075   ]])]\n",
    "\n",
    "\n",
    "def datasaurus():\n",
    "    \"\"\"\n",
    "    Creates 2x2 grid plot of 4 from the Datasaurus Dozen datasets for illustration.\n",
    "    \n",
    "    Citation:\n",
    "    Justin Matejka, George Fitzmaurice (2017)\n",
    "    Same Stats, Different Graphs: Generating Datasets with Varied Appearance and\n",
    "    Identical Statistics through Simulated Annealing\n",
    "    CHI 2017 Conference proceedings:\n",
    "    ACM SIGCHI Conference on Human Factors in Computing Systems\n",
    "    \"\"\"\n",
    "    fig, ((axa, axb), (axc, axd)) =  plt.subplots(2, 2, sharex='col', sharey='row')\n",
    "    colors = get_color_cycle()\n",
    "    for arr, ax, color in zip(DATASAURUS, (axa, axb, axc, axd), colors):\n",
    "        x = arr[0]\n",
    "        y = arr[1]\n",
    "\n",
    "        # Draw the points in the scatter plot\n",
    "        ax.scatter(x, y, c=color)\n",
    "        \n",
    "        # Set the X and Y limits\n",
    "        ax.set_xlim(0, 100)\n",
    "        ax.set_ylim(0, 110)\n",
    "\n",
    "        # Draw the linear best fit line on the plot\n",
    "        draw_best_fit(x, y, ax, c=color)\n",
    "\n",
    "    return (axa, axb, axc, axd)\n",
    "\n",
    "\n",
    "if __name__ == '__main__':\n",
    "    datasaurus()\n",
    "    plt.show()\n"
   ]
  },
  {
   "cell_type": "markdown",
   "metadata": {},
   "source": [
    "code taken from [lwgray](https://github.com/lwgray/yellowbrick/blob/fcd6e2dfc030c7d0cee04372643d7f7c74a712ef/yellowbrick/datasaurus.py)(Gray, 2016)\n",
    "\n",
    "All of the figures above have the same linear regression line just like in Anscombe's datasets. Clearly the underlying data is not the same, once again reinforcing the idea that the first step in data analytics is to plot the data."
   ]
  },
  {
   "cell_type": "markdown",
   "metadata": {},
   "source": [
    "## Conclusion\n",
    "\n",
    "Anscombe (1973) concluded that computer programming greatly helps in plotting data; And that an advanced computer programmer could look at more complex datasets.  He noted at the at the time his paper was written 1973, there was not much overlap between data analysts working in their respective fields and those with enough computing skills to produce compelling visual data. I think Anscombe would be pleased with the rise of novice programmers and their ability to produce high quality data visualizations using python and display them using jupyter notebooks. Anscombe's quartet shows the importance of visualising the data as an exploratory  first step before jumping headlong into performing calculations and making predictive models. \n",
    "\n"
   ]
  },
  {
   "cell_type": "markdown",
   "metadata": {},
   "source": [
    "### References\n",
    "\n",
    "Anscombe, F. J. (1973). Graphs in Statistical Analysis. The American Statistician, 27(1), 17. doi:10.2307/2682899 \n",
    "\n",
    "Campuslabs. (n.d.). Types of Descriptive Statistics. Retrieved from https://baselinesupport.campuslabs.com/hc/en-us/articles/204305665-Types-of-Descriptive-Statistics \n",
    "\n",
    "\n",
    "Gray L. (2016). yellowbrick.datasaurus. Retrieved from  https://github.com/lwgray/yellowbrick/blob/fcd6e2dfc030c7d0cee04372643d7f7c74a712ef/yellowbrick/datasaurus.py\n",
    "\n",
    "Matejka, J., & Fitzmaurice, G. (2017). The Datasaurus Dozen - Same Stats, Different Graphs: Generating Datasets with Varied Appearance and Identical Statistics through Simulated Annealing. Retrieved November 8, 2018, from https://www.autodeskresearch.com/publications/samestats \n",
    "\n",
    "Rodríguez, G. (2016). Generalized Linear Models. Lecture. Retrieved November 7, 2018, from http://data.princeton.edu/wws509/stata/anscombe.html \n",
    "\n",
    "Siddharth Kalla (2011, August 6). Branches of Statistics. Retrieved Nov 04, 2018 from Explorable.com: https://explorable.com/branches-of-statistics\n",
    "\n",
    "Twain, M. (1906). Chapters from my autobiography. London: Harper.\n",
    "\n",
    "Wikipedia contributors. (2018a, October 3). Frank Anscombe. In Wikipedia, The Free Encyclopedia. Retrieved 22:18, November 6, 2018, from https://en.wikipedia.org/w/index.php?title=Frank_Anscombe&oldid=862291249\n",
    "\n",
    "Wikipedia contributors. (2018b, October 9). APL (programming language). In Wikipedia, The Free Encyclopedia. Retrieved 16:53, November 7, 2018, from https://en.wikipedia.org/w/index.php?title=APL_(programming_language)&oldid=863284672"
   ]
  }
 ],
 "metadata": {
  "kernelspec": {
   "display_name": "Python 3",
   "language": "python",
   "name": "python3"
  },
  "language_info": {
   "codemirror_mode": {
    "name": "ipython",
    "version": 3
   },
   "file_extension": ".py",
   "mimetype": "text/x-python",
   "name": "python",
   "nbconvert_exporter": "python",
   "pygments_lexer": "ipython3",
   "version": "3.6.6"
  }
 },
 "nbformat": 4,
 "nbformat_minor": 2
}
