{
 "cells": [
  {
   "cell_type": "markdown",
   "metadata": {},
   "source": [
    "## An investigation of Anscombe's quartet dataset"
   ]
  },
  {
   "cell_type": "markdown",
   "metadata": {},
   "source": [
    "\n",
    "Anscombe's quartet serves as a reminder that descriptive statistics do not tell the whole story; indeed they might instead lead the data analyst down the wrong path. Anscombe's quartet vividly illustrates the dangers of not including data visualisation in any analysis.   \n"
   ]
  },
  {
   "cell_type": "markdown",
   "metadata": {},
   "source": [
    "## Explain the background to the dataset\n",
    "\n",
    "\n",
    "\n",
    "### Who is the *Ancombe* in Anscombe's quartet?\n",
    "\n",
    "![Francis Anscombe](img/Francis_Anscombe.jpeg)\n",
    "\n",
    "<sub>By Yale Bulletin & Calendar November 2, 2001: Volume 30, Number 9, Fair use, https://en.wikipedia.org/w/index.php?curid=23138907</sub>\n",
    "\n",
    "Francis Anscombe was a British statistician active from the mid to late twentieth century.He worked in agricultural experimental research and was a lecturer in Cambridge before becoming the founding chairperson of the statistics department in Yale university in 1953. He researched residuals in linear regression and later, he became interested in statistical computing. He emphasised that \n",
    ">\"a computer should make both calculations and graphs\" (cited in Wikipedia contributors, 2018a)\n",
    "\n",
    "Anscombe created his famous *Anscombe's quartet* dataset in his 1973 article for *The American Statistician* titled *Graphs in Statistical Analysis* (Anscombe, 1973). In this article he described three types of dogma commonly experienced by statisticians.\n",
    "1. Numerical calculations give right answers; graphs give approximations\n",
    "2. A correct analysis of data is derived from only one set of calculations - the right ones\n",
    "3. Doing the math is good; looking at the data is cheating\n",
    "\n",
    "Anscombe stressed that the results from both calculations and graphs contribute to the analysis. Anscombe (1973) noted the benefits of visualising data.\n",
    "\n",
    "1. It takes a holistic big picture look, allowing broad aspects of the data to emerge.  \n",
    "2. It allows you to go beyond the big picture view and see what else is present when that aspect is removed\n",
    "\n",
    "Anscombe (1973) noted that much of statistical analysis is based on underlying assumptions that are often only *assumed* to be present in the data; Graphing the data allows the analyst to see if these assumptions are valid ones. Anscombe suggested layers of data analsyis rather than superficial surface analysis. His paper focused on common tools of the statistician such as regression analysis. \n",
    "\n",
    "Regression analysis is a way of finding a relationship between input values and output values. For example a new employee pay scale is often based on a predictor value of their years of experience. Here the input value or x value is the years of experience and the output value or y value is the associated pay scale. Linear regression, the simplest form of regression analysis involves plotting the data and a theoretical best fit line then working out the parameters of this line by measuring the perpendicular 'distance' between the datum and the line. The distance is calculated in such a way that data on opposite sides of the best line do not cancel each other out. This is termed the *residual* of the datum.  The best line is the one that minimizes the sum of these residuals. This technique is often used to fit a linear model to the data. Anscombe set out to show that fitting the model before looking at the data would not be the best course of action(Anscombe, 1973).    \n",
    " \n",
    "\n",
    "\n",
    "## Anscombe's quartet\n",
    "\n",
    "Mark Twain famously postulated \n",
    "\n",
    ">\"There are three kinds of lies: lies, damned lies, and statistics\". (Twain, 1906) \n",
    "\n",
    "While this may be a somewhat extreme view of statistics, Anscombe sought to illustrate the dangers of being mislead by descriptive statistics. He fabricated four datasets consisting of eleven points (x,y) as listed below; \n",
    "\n"
   ]
  },
  {
   "cell_type": "markdown",
   "metadata": {},
   "source": [
    "### Libraries\n",
    "#### import the dataset"
   ]
  },
  {
   "cell_type": "code",
   "execution_count": 1,
   "metadata": {
    "scrolled": false
   },
   "outputs": [],
   "source": [
    "import numpy as np\n",
    "import matplotlib.pyplot as plt\n",
    "import pandas as pd\n",
    "from scipy import stats\n",
    "# anscombe data taken from https://web.stanford.edu/class/cs102/datasets/Anscombe.csv\n"
   ]
  },
  {
   "cell_type": "markdown",
   "metadata": {},
   "source": [
    "#### Look at the data"
   ]
  },
  {
   "cell_type": "markdown",
   "metadata": {},
   "source": [
    "### The 4 Datasets\n",
    "\n",
    "This shows the four datasets each containing 11 x and y measurements; \n",
    "* Set I with x values X1 and y value Y1\n",
    "* Set II with x values X2 and y value Y2\n",
    "* Set III with x values X3 and y value Y3\n",
    "* Set IV with x values X4 and y value Y4\n",
    "\n",
    "no units are given as the sets are constructed and not actual measurements (Anscombe, 1973). "
   ]
  },
  {
   "cell_type": "code",
   "execution_count": 2,
   "metadata": {},
   "outputs": [
    {
     "name": "stdout",
     "output_type": "stream",
     "text": [
      "    X1     Y1  X2    Y2  X3     Y3  X4     Y4\n",
      "0   10   8.04  10  9.14  10   7.46   8   6.58\n",
      "1    8   6.95   8  8.14   8   6.77   8   5.76\n",
      "2   13   7.58  13  8.74  13  12.74   8   7.71\n",
      "3    9   8.81   9  8.77   9   7.11   8   8.84\n",
      "4   11   8.33  11  9.26  11   7.81   8   8.47\n",
      "5   14   9.96  14  8.10  14   8.84   8   7.04\n",
      "6    6   7.24   6  6.13   6   6.08   8   5.25\n",
      "7    4   4.26   4  3.10   4   5.39  19  12.50\n",
      "8   12  10.84  12  9.13  12   8.15   8   5.56\n",
      "9    7   4.82   7  7.26   7   6.42   8   7.91\n",
      "10   5   5.68   5  4.74   5   5.73   8   6.89 \n",
      "\n",
      "    X1  X2  X3  X4\n",
      "0   10  10  10   8\n",
      "1    8   8   8   8\n",
      "2   13  13  13   8\n",
      "3    9   9   9   8\n",
      "4   11  11  11   8\n",
      "5   14  14  14   8\n",
      "6    6   6   6   8\n",
      "7    4   4   4  19\n",
      "8   12  12  12   8\n",
      "9    7   7   7   8\n",
      "10   5   5   5   8 \n",
      "\n",
      "              X1         X2         X3         X4\n",
      "count  11.000000  11.000000  11.000000  11.000000\n",
      "mean    9.000000   9.000000   9.000000   9.000000\n",
      "std     3.316625   3.316625   3.316625   3.316625\n",
      "min     4.000000   4.000000   4.000000   8.000000\n",
      "25%     6.500000   6.500000   6.500000   8.000000\n",
      "50%     9.000000   9.000000   9.000000   8.000000\n",
      "75%    11.500000  11.500000  11.500000   8.000000\n",
      "max    14.000000  14.000000  14.000000  19.000000 \n",
      "\n"
     ]
    }
   ],
   "source": [
    "# read the data\n",
    "df = pd.read_csv(\"Anscombe.csv\")\n",
    "print(df, \"\\n\")\n",
    "# Look at the x values\n",
    "print(df[[\"X1\", \"X2\", \"X3\", \"X4\"]], \"\\n\")\n",
    "print(df[[\"X1\", \"X2\", \"X3\", \"X4\"]].describe(), \"\\n\")"
   ]
  },
  {
   "cell_type": "markdown",
   "metadata": {},
   "source": [
    "Here you can see that all the X values bar X4 are the same, and that, all the X4 values bar one are a constant 8.\n",
    "Looking at the common descriptive measures shows that all the values agree except in the ranges of the X4 value between its minimum and minimum maximum inclusively. \n",
    "\n",
    "Lets take a look at the y values."
   ]
  },
  {
   "cell_type": "code",
   "execution_count": 3,
   "metadata": {},
   "outputs": [
    {
     "name": "stdout",
     "output_type": "stream",
     "text": [
      "       Y1    Y2     Y3     Y4\n",
      "0    8.04  9.14   7.46   6.58\n",
      "1    6.95  8.14   6.77   5.76\n",
      "2    7.58  8.74  12.74   7.71\n",
      "3    8.81  8.77   7.11   8.84\n",
      "4    8.33  9.26   7.81   8.47\n",
      "5    9.96  8.10   8.84   7.04\n",
      "6    7.24  6.13   6.08   5.25\n",
      "7    4.26  3.10   5.39  12.50\n",
      "8   10.84  9.13   8.15   5.56\n",
      "9    4.82  7.26   6.42   7.91\n",
      "10   5.68  4.74   5.73   6.89 \n",
      "\n",
      "              Y1         Y2         Y3         Y4\n",
      "count  11.000000  11.000000  11.000000  11.000000\n",
      "mean    7.500909   7.500909   7.500000   7.500909\n",
      "std     2.031568   2.031657   2.030424   2.030579\n",
      "min     4.260000   3.100000   5.390000   5.250000\n",
      "25%     6.315000   6.695000   6.250000   6.170000\n",
      "50%     7.580000   8.140000   7.110000   7.040000\n",
      "75%     8.570000   8.950000   7.980000   8.190000\n",
      "max    10.840000   9.260000  12.740000  12.500000 \n",
      "\n"
     ]
    }
   ],
   "source": [
    "print(df[[\"Y1\", \"Y2\", \"Y3\", \"Y4\"]],\"\\n\")\n",
    "print(df[[\"Y1\", \"Y2\", \"Y3\", \"Y4\"]].describe(), \"\\n\")\n"
   ]
  },
  {
   "cell_type": "markdown",
   "metadata": {},
   "source": [
    "Here the 11 y values have a mean of 7.5 and standard deviation of 2.03; The range is between 3.1 and 12.75 with similar valued quartiles. "
   ]
  },
  {
   "cell_type": "code",
   "execution_count": 4,
   "metadata": {},
   "outputs": [
    {
     "name": "stdout",
     "output_type": "stream",
     "text": [
      "        Y1     Y2    Y3    Y4\n",
      "25%  6.315  6.695  6.25  6.17\n",
      "50%  7.580  8.140  7.11  7.04\n",
      "75%  8.570  8.950  7.98  8.19 \n",
      "\n"
     ]
    }
   ],
   "source": [
    "print(df[[\"Y1\", \"Y2\", \"Y3\", \"Y4\"]].describe()[4:7], \"\\n\")"
   ]
  },
  {
   "cell_type": "markdown",
   "metadata": {},
   "source": [
    "### What are descriptive statistics?\n",
    "\n",
    "There are different statistical methods used to analyse data. Descriptive statistics focus on the collection, presentation and measurement of the data, while inferential statistics look at what kind of hypothesis the data suggests (Siddharth, 2011). Descriptive statistical measures can be broadly broken down into 4 regions (Campuslabs, n.d.).\n",
    "\n",
    "1. measures of frequency such as frequencies, percents, counts\n",
    "2. measures of central tendencies, such as mean median and or mode\n",
    "3. measures of spread such as range, standard deviation and variance \n",
    "4. measures of position, such ranks \n",
    "\n",
    "There are two types of approach in modeling data. You can look at the data, its descriptive data and use these to build a model. This is the idea behind regression analysis. The regression line when fitted is used to make predictions about inputs beyond what is sampled. Often the first step is to get right to the point and make the predictions. However there is a step that should precede this, namely data exploration. Visualizing the data is a key step in exploring its characteristics.  \n",
    "\n",
    "### Anscombe's regression analysis example\n",
    "\n",
    "Anscombe (1973) noted that the first step to analyzing data is to graph its scatterplot of x values against y values. He noted five things that could happen with the resultant scatterplot; \n",
    "\n",
    "1. The x and y values are on a straight line or clustered around a straigt line\n",
    "2. The x and y values are curvilinear and not linear. \n",
    "3. The x and y values appear not to be related as the y values are randomly scattered.\n",
    "4. Some mixture of points 1, 2 or 3\n",
    "5. most of the points are on a line but there are a few values that are not - outliers\n",
    "\n",
    "If outliers are present then the next stage is to check if they are really outliers and not wrongly entered data. Then you can remove the outliers and apply regression analysis to the remaining data and possibly investigate the outliers at a later stage as they might be very informative. With the above points, 1. is the typical case for which regression analysis works best; Point 2 and could have linear regression analysis applied to it but the data would need to be transformed into a straight line if that was possible via transforming the scales. Point 5 could have its outliers detected using descriptive statistics but visualising the data is faster and more intuitive way of spotting if something is 'off'. Anscombe (1973) noted that an outlier x value contributes much more to the regression coefficient than an outlier y value.  "
   ]
  },
  {
   "cell_type": "markdown",
   "metadata": {},
   "source": [
    "### Visualise\n",
    "\n",
    "Lets plot the various datasets\n",
    "\n",
    "### Plot the interesting aspects of the dataset\n",
    "\n",
    "### Anscombe I\n"
   ]
  },
  {
   "cell_type": "markdown",
   "metadata": {},
   "source": [
    "#### plot the data"
   ]
  },
  {
   "cell_type": "code",
   "execution_count": 5,
   "metadata": {
    "scrolled": true
   },
   "outputs": [
    {
     "data": {
      "image/png": "[encoded data removed]",
      "text/plain": [
       "<matplotlib.figure.Figure at 0x20d3a353b00>"
      ]
     },
     "metadata": {
      "needs_background": "light"
     },
     "output_type": "display_data"
    }
   ],
   "source": [
    "x1 = np.array(df['X1'])\n",
    "y1 = np.array(df['Y1'])\n",
    "\n",
    "plt.plot(x1, y1, 'ko')\n",
    "plt.xlabel('X axis')\n",
    "plt.ylabel('Y axis')\n",
    "plt.title('Anscombe\\'s Dataset I')\n",
    "plt.show()"
   ]
  },
  {
   "cell_type": "markdown",
   "metadata": {},
   "source": [
    "#### Describe the graph\n",
    "\n",
    "This shows a scatter plot. It looks like a straight line with a positive slope might be suitable to model it. This is the point 1 result Anscombe mentioned when scatterplots are used. This type of situation is ideal for regression analysis.  \n",
    "\n",
    "\n",
    "#### fit a linear regression line\n",
    "\n",
    "\n"
   ]
  },
  {
   "cell_type": "code",
   "execution_count": 6,
   "metadata": {
    "scrolled": true
   },
   "outputs": [
    {
     "name": "stdout",
     "output_type": "stream",
     "text": [
      "The linear regression line slope is 0.5 \n",
      " with the y intercept  3.0\n"
     ]
    },
    {
     "data": {
      "image/png": "[encoded data removed]",
      "text/plain": [
       "<matplotlib.figure.Figure at 0x20d3a79e588>"
      ]
     },
     "metadata": {
      "needs_background": "light"
     },
     "output_type": "display_data"
    }
   ],
   "source": [
    "# Perform linear regression: to find slope m and y intercept c\n",
    "m, c = np.polyfit(x1, y1, 1)\n",
    "\n",
    "# Print the slope and y intercept\n",
    "print(\"The linear regression line slope is\",f\"{m:.2}\",\"\\n\",\"with the y intercept \", f\"{c:.2}\")\n",
    "\n",
    "# plot regression line : y = mx + c\n",
    "x_lr1 = np.arange(0.0, 20, 1.0)\n",
    "y_lr1 = m * x_lr1 + c\n",
    "\n",
    "# Plot the Anscombe data and linear regression line\n",
    "plt.plot(x1, y1, marker='o', linestyle='none')\n",
    "plt.plot(x_lr1, y_lr1)\n",
    "\n",
    "# Label the axes\n",
    "plt.title(\"Anscombe I\")\n",
    "plt.xlabel('x1 values')\n",
    "plt.ylabel('y1 values')\n",
    "\n",
    "# Show the plot\n",
    "plt.show()\n",
    "\n"
   ]
  },
  {
   "cell_type": "markdown",
   "metadata": {},
   "source": [
    "This plot looks like a typical scatter plot with typical 'random' noise around the straight line\n",
    "$$y=0.5x+3$$ \n",
    "This line was found using linear regression. The regression coefficient is the coefficient of the x value in the lines equation i.e. 0.5. "
   ]
  },
  {
   "cell_type": "markdown",
   "metadata": {},
   "source": [
    "### Anscombe II\n"
   ]
  },
  {
   "cell_type": "markdown",
   "metadata": {},
   "source": [
    "#### plot the data"
   ]
  },
  {
   "cell_type": "code",
   "execution_count": 7,
   "metadata": {
    "scrolled": true
   },
   "outputs": [
    {
     "data": {
      "image/png": "[encoded data removed]",
      "text/plain": [
       "<matplotlib.figure.Figure at 0x20d3a6a69b0>"
      ]
     },
     "metadata": {
      "needs_background": "light"
     },
     "output_type": "display_data"
    }
   ],
   "source": [
    "x2 = np.array(df['X2'])\n",
    "y2 = np.array(df['Y2'])\n",
    "\n",
    "plt.plot(x2, y2, 'bo')\n",
    "plt.xlabel('X axis')\n",
    "plt.ylabel('Y axis')\n",
    "plt.title('Anscombe\\'s Dataset II')\n",
    "plt.show()"
   ]
  },
  {
   "cell_type": "markdown",
   "metadata": {},
   "source": [
    "#### Describe the graph\n",
    "\n",
    "This shows a very clear curvature of a quadratic equation with a maximum value - it would be best modeled by an equation such as \n",
    "$$ax^2 + bx + c = 0$$ with a negative $a$ value \n",
    "\n",
    "\n",
    "#### fit a linear regression line\n",
    "\n",
    "\n",
    "The linear regression line that is produced with Anscombe II is exactly the same one as with Anscombe I namely, \n",
    "\n",
    "$y=0.5x + 3$  \n",
    "\n"
   ]
  },
  {
   "cell_type": "code",
   "execution_count": 8,
   "metadata": {
    "scrolled": true
   },
   "outputs": [
    {
     "name": "stdout",
     "output_type": "stream",
     "text": [
      "The linear regression line slope is 0.5 \n",
      " with the y intercept  3.0\n"
     ]
    },
    {
     "data": {
      "image/png": "[encoded data removed]",
      "text/plain": [
       "<matplotlib.figure.Figure at 0x20d3a4c4a58>"
      ]
     },
     "metadata": {
      "needs_background": "light"
     },
     "output_type": "display_data"
    }
   ],
   "source": [
    "\n",
    "# Perform linear regression: to find slope m and y intercept c\n",
    "m, c = np.polyfit(x2, y2, 1)\n",
    "\n",
    "# Print the slope and y intercept\n",
    "print(\"The linear regression line slope is\",f\"{m:.2}\",\"\\n\",\"with the y intercept \", f\"{c:.2}\")\n",
    "\n",
    "# plot regression line : y = mx + c\n",
    "x_lr2 = np.arange(0.0, 20, 1.0)\n",
    "y_lr2 = m * x_lr2 + c\n",
    "\n",
    "# Plot the Anscombe data linear regression line\n",
    "plt.plot(x2, y2, marker='o', linestyle='none')\n",
    "plt.plot(x_lr2, y_lr2)\n",
    "\n",
    "# Label axes\n",
    "plt.title(\"Anscombe II\")\n",
    "plt.xlabel('x2 values')\n",
    "plt.ylabel('y2 values')\n",
    "\n",
    "# Show the plot\n",
    "plt.show()\n",
    "\n"
   ]
  },
  {
   "cell_type": "markdown",
   "metadata": {},
   "source": [
    "However this plot is **clearly** a quadratic and **not** a straight line. Hence regression can be used but not on a  linear dimension; "
   ]
  },
  {
   "cell_type": "code",
   "execution_count": 9,
   "metadata": {
    "scrolled": true
   },
   "outputs": [
    {
     "name": "stdout",
     "output_type": "stream",
     "text": [
      "the x squared coefficient is  -0.13 \n",
      " the x coefficient is  2.8 \n",
      " the constant is  -6.0\n"
     ]
    },
    {
     "data": {
      "image/png": "[encoded data removed]",
      "text/plain": [
       "<matplotlib.figure.Figure at 0x20d3a664e80>"
      ]
     },
     "metadata": {
      "needs_background": "light"
     },
     "output_type": "display_data"
    }
   ],
   "source": [
    "# see if there is a best curve\n",
    "\n",
    "# calculate polynomial\n",
    "a, b, c = np.polyfit(x2, y2, 2)\n",
    "print(\"the x squared coefficient is \", f\"{a:.2}\",\"\\n\", \"the x coefficient is \", f\"{b:.2}\", \"\\n\", \"the constant is \", f\"{c:.2}\")\n",
    "\n",
    "\n",
    "# Plot the Anscombe data polyfit line\n",
    "\n",
    "x_pf2 = np.arange(0.0, 20, 1.0)\n",
    "y_pf2 = a * x_pf2**2 + b * x_pf2 + c\n",
    "\n",
    "plt.plot(x2, y2, marker='o', linestyle='none')\n",
    "plt.plot(x_pf2, y_pf2)\n",
    "\n",
    "# Label axes\n",
    "plt.title(\"Anscombe II\")\n",
    "plt.xlabel('x2 values')\n",
    "plt.ylabel('y2 values')\n",
    "\n",
    "# Show the plot\n",
    "plt.show()\n",
    "\n"
   ]
  },
  {
   "cell_type": "markdown",
   "metadata": {},
   "source": [
    "Plotting regression curvilinear line of order 2 to the data gives the plot above. This is a perfect fit to the equation $-0.13x^2+2.8x-6=0$. Drawing the scatterplot showed that fitting a linear line would not be the best course of action and that the model would be best fitted by an order of 2 curve.  "
   ]
  },
  {
   "cell_type": "markdown",
   "metadata": {},
   "source": [
    "### Anscombe III\n"
   ]
  },
  {
   "cell_type": "markdown",
   "metadata": {},
   "source": [
    "#### plot the data"
   ]
  },
  {
   "cell_type": "code",
   "execution_count": 10,
   "metadata": {
    "scrolled": true
   },
   "outputs": [
    {
     "data": {
      "image/png": "[encoded data removed]",
      "text/plain": [
       "<matplotlib.figure.Figure at 0x20d3a515e10>"
      ]
     },
     "metadata": {
      "needs_background": "light"
     },
     "output_type": "display_data"
    }
   ],
   "source": [
    "x3 = np.array(df['X3'])\n",
    "y3 = np.array(df['Y3'])\n",
    "\n",
    "plt.plot(x3, y3, 'ro')\n",
    "plt.xlabel('X axis')\n",
    "plt.ylabel('Y axis')\n",
    "plt.title('Anscombe\\'s Dataset II')\n",
    "plt.show()"
   ]
  },
  {
   "cell_type": "markdown",
   "metadata": {},
   "source": [
    "#### Describe the graph\n",
    "\n",
    "This shows a clear straight line but with one anomalous y value value. Looking at this data again shows that the 12.74 value looks out of place with the rest of the data. \n",
    "\n",
    "\n"
   ]
  },
  {
   "cell_type": "code",
   "execution_count": 11,
   "metadata": {
    "scrolled": true
   },
   "outputs": [
    {
     "name": "stdout",
     "output_type": "stream",
     "text": [
      "    X3     Y3\n",
      "0   10   7.46\n",
      "1    8   6.77\n",
      "2   13  12.74\n",
      "3    9   7.11\n",
      "4   11   7.81\n",
      "5   14   8.84\n",
      "6    6   6.08\n",
      "7    4   5.39\n",
      "8   12   8.15\n",
      "9    7   6.42\n",
      "10   5   5.73\n"
     ]
    }
   ],
   "source": [
    "print(df[[\"X3\", \"Y3\"]])"
   ]
  },
  {
   "cell_type": "markdown",
   "metadata": {},
   "source": [
    "If Anscombe III has a linear regression line fitted to the data without considering the anomalous y value then, the same regression line $y = 0.5x + 3$ is found with the regression coefficient of 0.5; \n"
   ]
  },
  {
   "cell_type": "code",
   "execution_count": 12,
   "metadata": {
    "scrolled": true
   },
   "outputs": [
    {
     "name": "stdout",
     "output_type": "stream",
     "text": [
      "The linear regression line slope is 0.5 \n",
      " with the y intercept  3.0\n"
     ]
    },
    {
     "data": {
      "image/png": "[encoded data removed]",
      "text/plain": [
       "<matplotlib.figure.Figure at 0x20d3a7e03c8>"
      ]
     },
     "metadata": {
      "needs_background": "light"
     },
     "output_type": "display_data"
    }
   ],
   "source": [
    "# Perform linear regression: to find slope m and y intercept c\n",
    "m, c = np.polyfit(x3, y3, 1)\n",
    "\n",
    "# Print the slope and y intercept\n",
    "print(\"The linear regression line slope is\",f\"{m:.2}\",\"\\n\",\"with the y intercept \", f\"{c:.2}\")\n",
    "\n",
    "# plot regression line : y = mx + c\n",
    "x_lr3 = np.arange(0.0, 20, 1.0)\n",
    "y_lr3 = m * x_lr3 + c\n",
    "\n",
    "# Plot the Anscombe data linear regression line\n",
    "plt.plot(x3, y3, marker='o', linestyle='none')\n",
    "plt.plot(x_lr3, y_lr3)\n",
    "\n",
    "# Label axes\n",
    "plt.title(\"Anscombe III\")\n",
    "plt.xlabel('x3 values')\n",
    "plt.ylabel('y3 values')\n",
    "\n",
    "# Show the plot\n",
    "plt.show()\n",
    "\n"
   ]
  },
  {
   "cell_type": "markdown",
   "metadata": {},
   "source": [
    "However it is very clear from the graph that this would not be a suitable fit and that there is a better line if the rogue y value is removed from the dataset.\n",
    "\n",
    "Plot a box plot to see if there are any clear outliers"
   ]
  },
  {
   "cell_type": "code",
   "execution_count": 13,
   "metadata": {
    "scrolled": false
   },
   "outputs": [
    {
     "data": {
      "image/png": "[encoded data removed]",
      "text/plain": [
       "<matplotlib.figure.Figure at 0x20d3bbf7dd8>"
      ]
     },
     "metadata": {
      "needs_background": "light"
     },
     "output_type": "display_data"
    }
   ],
   "source": [
    "import seaborn as sns\n",
    "sns.boxplot(y3)\n",
    "plt.show()\n"
   ]
  },
  {
   "cell_type": "markdown",
   "metadata": {},
   "source": [
    "This shows that most of the y3 values are between 6 and 8; and a clear outlier between 12 and 13; This should be removed as the line is steadily increasing so averaging the Y3 values would not be suitable; "
   ]
  },
  {
   "cell_type": "code",
   "execution_count": 14,
   "metadata": {
    "scrolled": false
   },
   "outputs": [
    {
     "name": "stdout",
     "output_type": "stream",
     "text": [
      "12.74\n",
      "    X3     Y3\n",
      "0   10   7.46\n",
      "1    8   6.77\n",
      "2   13  12.74\n",
      "3    9   7.11\n",
      "4   11   7.81\n",
      "5   14   8.84\n",
      "6    6   6.08\n",
      "7    4   5.39\n",
      "8   12   8.15\n",
      "9    7   6.42\n",
      "10   5   5.73\n",
      "    X3    Y3\n",
      "0   10  7.46\n",
      "1    8  6.77\n",
      "3    9  7.11\n",
      "4   11  7.81\n",
      "5   14  8.84\n",
      "6    6  6.08\n",
      "7    4  5.39\n",
      "8   12  8.15\n",
      "9    7  6.42\n",
      "10   5  5.73\n"
     ]
    },
    {
     "data": {
      "image/png": "[encoded data removed]",
      "text/plain": [
       "<matplotlib.figure.Figure at 0x20d3a6eca90>"
      ]
     },
     "metadata": {
      "needs_background": "light"
     },
     "output_type": "display_data"
    },
    {
     "name": "stdout",
     "output_type": "stream",
     "text": [
      "now find the best line\n",
      "The linear regression line slope is 0.35 \n",
      " with the y intercept  4.0\n"
     ]
    },
    {
     "data": {
      "image/png": "[encoded data removed]",
      "text/plain": [
       "<matplotlib.figure.Figure at 0x20d3a6505f8>"
      ]
     },
     "metadata": {
      "needs_background": "light"
     },
     "output_type": "display_data"
    }
   ],
   "source": [
    "# print the outlier\n",
    "print(df.iloc[2,5])\n",
    "# print the column to check its index\n",
    "print(df[[\"X3\", \"Y3\"]])\n",
    "# drop the row with the outlier in it\n",
    "df_3 = df.drop(df.index[2])\n",
    "print(df_3[[\"X3\", \"Y3\"]])\n",
    "\n",
    "# update the new arrays\n",
    "x3_adj = np.array(df_3['X3'])\n",
    "y3_adj = np.array(df_3['Y3'])\n",
    "\n",
    "# plot the adjusted data\n",
    "plt.plot(x3_adj, y3_adj, 'ro')\n",
    "plt.xlabel('X axis')\n",
    "plt.ylabel('Y axis')\n",
    "plt.title('Adjusted Anscombe\\'s Dataset III')\n",
    "plt.show()\n",
    "print(\"now find the best line\") # its a straight line so we could just take points\n",
    "\n",
    "# Perform linear regression: to find slope m and y intercept c\n",
    "m, c = np.polyfit(x3_adj, y3_adj, 1)\n",
    "\n",
    "# Print the slope and y intercept\n",
    "print(\"The linear regression line slope is\",f\"{m:.2}\",\"\\n\",\"with the y intercept \", f\"{c:.2}\")\n",
    "\n",
    "# plot regression line : y = mx + c\n",
    "x_lr3_adj = np.arange(0.0, 20, 1.0)\n",
    "y_lr3_adj = m * x_lr3_adj + c\n",
    "\n",
    "# Plot the Anscombe data linear regression line\n",
    "plt.plot(x3_adj, y3_adj, marker='o', linestyle='none')\n",
    "plt.plot(x_lr3_adj, y_lr3_adj)\n",
    "\n",
    "# Label axes\n",
    "plt.title(\"Anscombe III\")\n",
    "plt.xlabel('x3 values')\n",
    "plt.ylabel('y3 values')\n",
    "\n",
    "# Show the plot\n",
    "plt.show()\n"
   ]
  },
  {
   "cell_type": "markdown",
   "metadata": {},
   "source": [
    "This is a perfect straight line fit to the data with the equation $y =  0.35x + 4$ with the coefficient of regression at 0.35. \n",
    "\n",
    "This differs from the $y = 0.5x + 3$ linear regression line produced using the full data. The line $y =  0.35x + 4$ is a better model of the data than $y = 0.5x + 3$.  "
   ]
  },
  {
   "cell_type": "markdown",
   "metadata": {},
   "source": [
    "### Anscombe IV\n"
   ]
  },
  {
   "cell_type": "markdown",
   "metadata": {},
   "source": [
    "#### plot the data"
   ]
  },
  {
   "cell_type": "code",
   "execution_count": 15,
   "metadata": {
    "scrolled": true
   },
   "outputs": [
    {
     "data": {
      "image/png": "[encoded data removed]",
      "text/plain": [
       "<matplotlib.figure.Figure at 0x20d3a6e04a8>"
      ]
     },
     "metadata": {
      "needs_background": "light"
     },
     "output_type": "display_data"
    }
   ],
   "source": [
    "x4 = np.array(df['X4'])\n",
    "y4 = np.array(df['Y4'])\n",
    "\n",
    "plt.plot(x4, y4, 'go')\n",
    "plt.xlabel('X axis')\n",
    "plt.ylabel('Y axis')\n",
    "plt.title('Anscombe\\'s Dataset IV')\n",
    "plt.show()"
   ]
  },
  {
   "cell_type": "markdown",
   "metadata": {},
   "source": [
    "#### Describe the graph\n",
    "\n",
    "This shows all the y values have x value 8 except one. This illustrates Anscombe's concern that anomalous x values can have a far greater effect on the regression line than an anomalous y value as seen in Anscombe III. This rouge x value is so extreme that it likely to be an error in the data collection process rather than an outlier.\n",
    "\n",
    "#### fit a linear regression line\n",
    "If the regression line is plotted to the full dataset you get the following; \n",
    "\n"
   ]
  },
  {
   "cell_type": "code",
   "execution_count": 16,
   "metadata": {
    "scrolled": true
   },
   "outputs": [
    {
     "name": "stdout",
     "output_type": "stream",
     "text": [
      "    X4     Y4\n",
      "0    8   6.58\n",
      "1    8   5.76\n",
      "2    8   7.71\n",
      "3    8   8.84\n",
      "4    8   8.47\n",
      "5    8   7.04\n",
      "6    8   5.25\n",
      "7   19  12.50\n",
      "8    8   5.56\n",
      "9    8   7.91\n",
      "10   8   6.89 \n",
      "\n",
      "yep its all the 8's for the x4 values bar one\n"
     ]
    }
   ],
   "source": [
    "# Look at the data again\n",
    "print(df[[\"X4\", \"Y4\"]], \"\\n\")\n",
    "print(\"yep its all the 8's for the x4 values bar one\")"
   ]
  },
  {
   "cell_type": "code",
   "execution_count": 17,
   "metadata": {
    "scrolled": false
   },
   "outputs": [
    {
     "name": "stdout",
     "output_type": "stream",
     "text": [
      "The linear regression line slope is 0.5 \n",
      " with the y intercept  3.0\n"
     ]
    },
    {
     "data": {
      "image/png": "[encoded data removed]",
      "text/plain": [
       "<matplotlib.figure.Figure at 0x20d3a737ba8>"
      ]
     },
     "metadata": {
      "needs_background": "light"
     },
     "output_type": "display_data"
    }
   ],
   "source": [
    "# Perform linear regression: to find slope m and y intercept c\n",
    "m, c = np.polyfit(x4, y4, 1)\n",
    "\n",
    "# Print the slope and y intercept\n",
    "print(\"The linear regression line slope is\",f\"{m:.2}\",\"\\n\",\"with the y intercept \", f\"{c:.2}\")\n",
    "\n",
    "# plot regression line : y = mx + c\n",
    "x_lr4 = np.arange(0.0, 20, 1.0)\n",
    "y_lr4 = m * x_lr4 + c\n",
    "\n",
    "# Plot the Anscombe data linear regression line\n",
    "plt.plot(x4, y4, marker='o', linestyle='none')\n",
    "plt.plot(x_lr4, y_lr4)\n",
    "\n",
    "# Label axes\n",
    "plt.title(\"Anscombe IV\")\n",
    "plt.xlabel('x4 values')\n",
    "plt.ylabel('y4 values')\n",
    "\n",
    "# Show the plot\n",
    "plt.show()\n",
    "\n"
   ]
  },
  {
   "cell_type": "markdown",
   "metadata": {},
   "source": [
    "The same regression line as before is found namely, $ y = 0.5x + 3$. But this would be a very bad model for the data as it's equation is $x = 8$. "
   ]
  },
  {
   "cell_type": "markdown",
   "metadata": {},
   "source": [
    "The value at index 7 should be removed from the set. With Anscombe III the y value was an outlier but in Anscombe 4 its the x value that is out of place. "
   ]
  },
  {
   "cell_type": "code",
   "execution_count": 18,
   "metadata": {
    "scrolled": false
   },
   "outputs": [
    {
     "name": "stdout",
     "output_type": "stream",
     "text": [
      "19\n",
      "    X4     Y4\n",
      "0    8   6.58\n",
      "1    8   5.76\n",
      "2    8   7.71\n",
      "3    8   8.84\n",
      "4    8   8.47\n",
      "5    8   7.04\n",
      "6    8   5.25\n",
      "7   19  12.50\n",
      "8    8   5.56\n",
      "9    8   7.91\n",
      "10   8   6.89\n",
      "    X4    Y4\n",
      "0    8  6.58\n",
      "1    8  5.76\n",
      "2    8  7.71\n",
      "3    8  8.84\n",
      "4    8  8.47\n",
      "5    8  7.04\n",
      "6    8  5.25\n",
      "8    8  5.56\n",
      "9    8  7.91\n",
      "10   8  6.89\n"
     ]
    },
    {
     "data": {
      "image/png": "[encoded data removed]",
      "text/plain": [
       "<matplotlib.figure.Figure at 0x20d3a672940>"
      ]
     },
     "metadata": {
      "needs_background": "light"
     },
     "output_type": "display_data"
    }
   ],
   "source": [
    "# print the outlier\n",
    "print(df.iloc[7,6])\n",
    "# print the column to check its index\n",
    "\n",
    "print(df[[\"X4\", \"Y4\"]])\n",
    "# drop the row with the outlier in it\n",
    "df_4 = df.drop(df.index[7])\n",
    "# check its dropped\n",
    "print(df_4[[\"X4\", \"Y4\"]])\n",
    "\n",
    "# update the new arrays\n",
    "x4_adj = np.array(df_4['X4'])\n",
    "y4_adj = np.array(df_4['Y4'])\n",
    "\n",
    "# plot the adjusted data\n",
    "plt.plot(x4_adj, y4_adj, 'ro')\n",
    "plt.xlabel('X axis')\n",
    "plt.ylabel('Y axis')\n",
    "plt.title('Adjusted Anscombe\\'s Dataset IV')\n",
    "plt.show()\n"
   ]
  },
  {
   "cell_type": "markdown",
   "metadata": {},
   "source": [
    "Indeed if the rough x value was not there you would not be able to plot a line at all as there would be no regression coefficient. The x value would not be a predictor of the y value at all as y could be any value on the vertical line x = 8; The outlier x value creates the illusion that the data suggests the presence of a regression line.  "
   ]
  },
  {
   "cell_type": "code",
   "execution_count": 19,
   "metadata": {
    "scrolled": false
   },
   "outputs": [
    {
     "data": {
      "image/png": "[encoded data removed]",
      "text/plain": [
       "<matplotlib.figure.Figure at 0x20d3bdf8d30>"
      ]
     },
     "metadata": {
      "needs_background": "light"
     },
     "output_type": "display_data"
    },
    {
     "data": {
      "image/png": "[encoded data removed]",
      "text/plain": [
       "<matplotlib.figure.Figure at 0x20d3bb55358>"
      ]
     },
     "metadata": {
      "needs_background": "light"
     },
     "output_type": "display_data"
    }
   ],
   "source": [
    "plt.plot(x1, y1, 'ko', label = \"I\")\n",
    "plt.plot(x2, y2, 'bo', label = \"II\" )\n",
    "plt.plot(x3, y3, 'ro', label = \"III\")\n",
    "plt.plot(x4, y4, 'go', label = \"IV\")\n",
    "plt.legend() \n",
    "plt.xlabel('X axis')\n",
    "plt.ylabel('Y axis')\n",
    "plt.title('Anscombe\\'s Datasets')\n",
    "plt.show()\n",
    "plt.plot(x_lr1, y_lr1, 'ko', label = \"I\")\n",
    "plt.plot(x_pf2, y_pf2, 'bo', label = \"II\" )\n",
    "plt.plot(x_lr3_adj, y_lr3_adj, 'ro', label = \"III\")\n",
    "plt.plot(x4_adj, y4_adj, 'go', label = \"IV\")\n",
    "plt.legend() \n",
    "plt.xlabel('X axis')\n",
    "plt.ylabel('Y axis')\n",
    "plt.title('Anscombe\\'s Datasets as adjusted and suitably modeled')\n",
    "plt.show()"
   ]
  },
  {
   "cell_type": "markdown",
   "metadata": {},
   "source": [
    "Linear regression showed each of the datasets could be modeled by the same line $y = 0.5x + 3$. However only Anscombe I was suitably  modeled by linear regression. Anscombe II was the quadratic curve $-0.13x^2+2.8x-6=0$. Anscombe III was linear but an outlier y value was not giving the best fit line and the linear regression line that was most suitable to use in this case was $y =  0.35x + 4$. Anscombe IV had a constant x value in all but one datum. When this was removed it could be suitably modeled by the vertical line $x = 8$ which would tell us nothing about y values.  "
   ]
  },
  {
   "cell_type": "markdown",
   "metadata": {},
   "source": [
    "# Calculate descriptive stats\n",
    "\n",
    "Anscombe (1973) suggested the fist stage of analysis should be to explore the data; Visualisation was a good way to get a feel for the data. \n",
    "The full dataset decscriptors are below; "
   ]
  },
  {
   "cell_type": "code",
   "execution_count": 20,
   "metadata": {
    "scrolled": true
   },
   "outputs": [
    {
     "name": "stdout",
     "output_type": "stream",
     "text": [
      "              X1         Y1         X2         Y2         X3         Y3  \\\n",
      "count  11.000000  11.000000  11.000000  11.000000  11.000000  11.000000   \n",
      "mean    9.000000   7.500909   9.000000   7.500909   9.000000   7.500000   \n",
      "std     3.316625   2.031568   3.316625   2.031657   3.316625   2.030424   \n",
      "min     4.000000   4.260000   4.000000   3.100000   4.000000   5.390000   \n",
      "25%     6.500000   6.315000   6.500000   6.695000   6.500000   6.250000   \n",
      "50%     9.000000   7.580000   9.000000   8.140000   9.000000   7.110000   \n",
      "75%    11.500000   8.570000  11.500000   8.950000  11.500000   7.980000   \n",
      "max    14.000000  10.840000  14.000000   9.260000  14.000000  12.740000   \n",
      "\n",
      "              X4         Y4  \n",
      "count  11.000000  11.000000  \n",
      "mean    9.000000   7.500909  \n",
      "std     3.316625   2.030579  \n",
      "min     8.000000   5.250000  \n",
      "25%     8.000000   6.170000  \n",
      "50%     8.000000   7.040000  \n",
      "75%     8.000000   8.190000  \n",
      "max    19.000000  12.500000  \n"
     ]
    }
   ],
   "source": [
    "print(df.describe())\n"
   ]
  },
  {
   "cell_type": "markdown",
   "metadata": {},
   "source": [
    "These were described earlier; However the scatter plots suggest the datasets should be the following;"
   ]
  },
  {
   "cell_type": "code",
   "execution_count": 21,
   "metadata": {},
   "outputs": [
    {
     "name": "stdout",
     "output_type": "stream",
     "text": [
      "Anscombe I descriptive statistics \n",
      "               X1         Y1\n",
      "count  11.000000  11.000000\n",
      "mean    9.000000   7.500909\n",
      "std     3.316625   2.031568\n",
      "min     4.000000   4.260000\n",
      "25%     6.500000   6.315000\n",
      "50%     9.000000   7.580000\n",
      "75%    11.500000   8.570000\n",
      "max    14.000000  10.840000 \n",
      "\n",
      "Anscombe II descriptive statistics \n",
      "               X2         Y2\n",
      "count  11.000000  11.000000\n",
      "mean    9.000000   7.500909\n",
      "std     3.316625   2.031657\n",
      "min     4.000000   3.100000\n",
      "25%     6.500000   6.695000\n",
      "50%     9.000000   8.140000\n",
      "75%    11.500000   8.950000\n",
      "max    14.000000   9.260000 \n",
      "\n",
      "Anscombe III descriptive statistics adjusted \n",
      "               X3         Y3\n",
      "count  10.000000  10.000000\n",
      "mean    8.600000   6.976000\n",
      "std     3.204164   1.106689\n",
      "min     4.000000   5.390000\n",
      "25%     6.250000   6.165000\n",
      "50%     8.500000   6.940000\n",
      "75%    10.750000   7.722500\n",
      "max    14.000000   8.840000 \n",
      "\n",
      "Anscombe IV descriptive statistics adjusted \n",
      "          X4         Y4\n",
      "count  10.0  10.000000\n",
      "mean    8.0   7.001000\n",
      "std     0.0   1.235695\n",
      "min     8.0   5.250000\n",
      "25%     8.0   5.965000\n",
      "50%     8.0   6.965000\n",
      "75%     8.0   7.860000\n",
      "max     8.0   8.840000 \n",
      "\n"
     ]
    }
   ],
   "source": [
    "print(\"Anscombe I descriptive statistics \\n\", df[['X1','Y1']].describe(), \"\\n\")\n",
    "\n",
    "print(\"Anscombe II descriptive statistics \\n\", df[['X2','Y2']].describe(), \"\\n\")\n",
    "\n",
    "print(\"Anscombe III descriptive statistics adjusted \\n\", df_3[['X3','Y3']].describe(), \"\\n\")\n",
    "\n",
    "print(\"Anscombe IV descriptive statistics adjusted \\n\", df_4[['X4','Y4']].describe(), \"\\n\")"
   ]
  },
  {
   "cell_type": "markdown",
   "metadata": {},
   "source": [
    "In addition the scatterplot of Anscombe II suggested a curvilinear model should be applied. "
   ]
  },
  {
   "cell_type": "markdown",
   "metadata": {},
   "source": [
    "## Explain why the dataset is interesting refering to the plots and statistics"
   ]
  },
  {
   "cell_type": "markdown",
   "metadata": {},
   "source": [
    "Anscombe's datasets are interesting as it shows the importance of taking a big picture look at the data. Visualising the data can give pointers to the direction your calculation approach should take. \n",
    "Anscombe I dataset scatterplot showed that a linear regression approach was suitable; Why? because the data was scattered in a non uniform manner around some linear region of the plot. Linear regression showed that this data could be modelled by the line $y = $0.5x + 3$.\n",
    "\n",
    "Anscombe II dataset scatterplot showed that a linear approach would not be a good choice; The scatterplot showed a curve and was best modeled by the equation $-0.13x^2+2.8x-6=0$. \n",
    "\n",
    "Anscombe III showed that an outlier y value was easy to spot and that the dataset should be adjusted before performing linear regression; This produced a best line of $y =  0.35x + 4$ for modeling the data. \n",
    "\n",
    "Finally Anscombe IV showed that an outlier x value should be checked carefully or else it may invalidate any regression line predictions. The adjusted Ancombe IV data was not suitable for regression analysis. \n"
   ]
  },
  {
   "cell_type": "markdown",
   "metadata": {},
   "source": [
    "## Speculations on how Anscombe's datasets may have been created\n",
    "\n",
    "Anscombe's four sets show different characteristics and contain different types of errors(Rodríguez, 2016) speculates that Anscombe constructed his data with these types of errors to illustrate the importance of visualising the data.\n",
    "\n",
    "* Pure Error\n",
    "\n",
    "The first set is what you would typically expect in real world experiments. Its a scatter plot like what you might find when measuring the lengths of petals. Measurements will all be clustered around a best line and show some 'random noise' or 'pure error' in how they deviate from the best fit line. This type of data if what is typically expected and the descriptive statistics and data visualization methods agree on how this data should be modeled. Anscombe II, III, and IV are not the type of data typically found in experiments.  \n",
    "\n",
    "* Lack of Fit\n",
    "\n",
    "Anscombe II is a quadratic curve (at least in the interval in question). These types of curves are commonly found with real world data such as the trajectory of a ball or precision engineering etc). However if a linear regression line is applied to Anscombe II data you would **not** model its relationship between its x and y value. The regression line does not fit the data. Instead it should be modeled by a quadratic curve which does fit the data. \n",
    "\n",
    "* Outlier\n",
    "\n",
    "Anscombe III's third y value distorts the regression line. The rest of the data follows a clear straight line perfectly but when the third point is included it affects the regression line calculated and no longer best fits the model. \n",
    "\n",
    "* Undue Influence \n",
    "\n",
    "Anscombe IV has on x value that deviates from all the other x values. The other x values are all similar (the same in fact) but when the 8th point is included it creates a regression line that would not there otherwise.   "
   ]
  },
  {
   "cell_type": "markdown",
   "metadata": {},
   "source": [
    "### References\n",
    "\n",
    "Anscombe, F. J. (1973). Graphs in Statistical Analysis. The American Statistician, 27(1), 17. doi:10.2307/2682899 \n",
    "\n",
    "Campuslabs. (n.d.). Types of Descriptive Statistics. Retrieved from https://baselinesupport.campuslabs.com/hc/en-us/articles/204305665-Types-of-Descriptive-Statistics \n",
    "\n",
    "Rodríguez, G. (2016). Generalized Linear Models. Lecture. Retrieved November 7, 2018, from http://data.princeton.edu/wws509/stata/anscombe.html \n",
    "\n",
    "Siddharth Kalla (2011, August 6). Branches of Statistics. Retrieved Nov 04, 2018 from Explorable.com: https://explorable.com/branches-of-statistics\n",
    "\n",
    "Twain, M. (1906). Chapters from my autobiography. London: Harper.\n",
    "\n",
    "Wikipedia contributors. (2018a, October 3). Frank Anscombe. In Wikipedia, The Free Encyclopedia. Retrieved 22:18, November 6, 2018, from https://en.wikipedia.org/w/index.php?title=Frank_Anscombe&oldid=862291249"
   ]
  }
 ],
 "metadata": {
  "kernelspec": {
   "display_name": "Python 3",
   "language": "python",
   "name": "python3"
  },
  "language_info": {
   "codemirror_mode": {
    "name": "ipython",
    "version": 3
   },
   "file_extension": ".py",
   "mimetype": "text/x-python",
   "name": "python",
   "nbconvert_exporter": "python",
   "pygments_lexer": "ipython3",
   "version": "3.6.6"
  }
 },
 "nbformat": 4,
 "nbformat_minor": 2
}
