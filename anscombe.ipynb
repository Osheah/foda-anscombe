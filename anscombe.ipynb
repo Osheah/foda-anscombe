{
 "cells": [
  {
   "cell_type": "markdown",
   "metadata": {},
   "source": [
    "## An investigation of Anscombe's quartet dataset"
   ]
  },
  {
   "cell_type": "markdown",
   "metadata": {},
   "source": [
    "\n",
    "Anscombe's quartet serves as a reminder that descriptive statistics do not tell the whole story; indeed they might instead lead the data analyst down the wrong path. Anscombe's quartet vividly illustrates the dangers of not including data visualisation in any analysis.   \n"
   ]
  },
  {
   "cell_type": "markdown",
   "metadata": {},
   "source": [
    "## Explain the background to the dataset\n",
    "\n",
    "\n",
    "\n",
    "### Who is the *Ancombe* in Anscombe's quartet?\n",
    "\n",
    "![Francis Anscombe](img/Francis_Anscombe.jpeg)\n",
    "\n",
    "<sub>By Yale Bulletin & Calendar November 2, 2001: Volume 30, Number 9, Fair use, https://en.wikipedia.org/w/index.php?curid=23138907</sub>\n",
    "\n",
    "Francis Anscombe was a British statistician active from the mid to late twentieth century. He worked in agricultural experimental research and was a lecturer in Cambridge before becoming the founding chairperson of the statistics department in Yale university in 1953. He researched residuals in linear regression and later, he became interested in statistical computing. He emphasised that \n",
    ">\"*a computer should make both calculations and graphs*\" \n",
    "\n",
    "(Wikipedia contributors, 2018a; Anscombe, 1973)\n",
    "\n",
    "Anscombe created his famous *Anscombe's quartet* dataset in his 1973 article for *The American Statistician* titled *Graphs in Statistical Analysis* (Anscombe, 1973). In this article he described three types of dogma commonly experienced by statisticians.\n",
    "1. Numerical calculations give right answers; graphs give approximations\n",
    "2. A correct analysis of data is derived from only one set of calculations - the right ones\n",
    "3. Doing the math is good; looking at the data is cheating\n",
    "\n",
    "(Anscombe, 1973)\n",
    "\n",
    "Anscombe stressed that the results from both calculations and graphs contribute to the analysis. Anscombe (1973) noted the benefits of visualising data.\n",
    "\n",
    "1. It takes a holistic big picture look, allowing broad aspects of the data to emerge.  \n",
    "2. It allows you to go beyond the big picture view and see what else is present when that aspect is removed.\n",
    "\n",
    "Anscombe (1973) noted that much of statistical analysis is based on underlying assumptions that are often only *assumed* to be present in the data; Graphing the data allows the analyst to see if these assumptions are valid ones. Anscombe suggested layers of data analsyis rather than superficial surface analysis. His paper illustrated these issues with a common tool of the statistician *regression analysis*. \n",
    "\n",
    "\n",
    "\n",
    "## Anscombe's quartet\n",
    "\n",
    "Mark Twain famously postulated \n",
    "\n",
    ">\"There are three kinds of lies: lies, damned lies, and statistics\". \n",
    "\n",
    "(Twain, 1906) \n",
    "\n",
    "While this may be a somewhat extreme view of statistics, Anscombe sought to illustrate the dangers of being lead down the descriptive statistics garden path. He fabricated four datasets consisting of eleven points (x,y) as listed below; \n",
    "\n"
   ]
  },
  {
   "cell_type": "markdown",
   "metadata": {},
   "source": [
    "### Libraries\n",
    "#### import the dataset"
   ]
  },
  {
   "cell_type": "code",
   "execution_count": 1,
   "metadata": {
    "scrolled": false
   },
   "outputs": [],
   "source": [
    "import numpy as np\n",
    "import matplotlib.pyplot as plt\n",
    "import pandas as pd\n",
    "import seaborn as sns\n",
    "from scipy import stats\n",
    "# anscombe data taken from https://web.stanford.edu/class/cs102/datasets/Anscombe.csv\n"
   ]
  },
  {
   "cell_type": "markdown",
   "metadata": {},
   "source": [
    "#### Look at the data"
   ]
  },
  {
   "cell_type": "markdown",
   "metadata": {},
   "source": [
    "### The 4 Datasets\n",
    "\n",
    "This shows the four datasets each containing 11 x and y measurements; \n",
    "* Set I with x values X1 and y value Y1\n",
    "* Set II with x values X2 and y value Y2\n",
    "* Set III with x values X3 and y value Y3\n",
    "* Set IV with x values X4 and y value Y4\n",
    "\n",
    "no units are given as the sets are constructed and not actual measurements (Anscombe, 1973). "
   ]
  },
  {
   "cell_type": "code",
   "execution_count": 2,
   "metadata": {},
   "outputs": [
    {
     "name": "stdout",
     "output_type": "stream",
     "text": [
      "    X1     Y1  X2    Y2  X3     Y3  X4     Y4\n",
      "0   10   8.04  10  9.14  10   7.46   8   6.58\n",
      "1    8   6.95   8  8.14   8   6.77   8   5.76\n",
      "2   13   7.58  13  8.74  13  12.74   8   7.71\n",
      "3    9   8.81   9  8.77   9   7.11   8   8.84\n",
      "4   11   8.33  11  9.26  11   7.81   8   8.47\n",
      "5   14   9.96  14  8.10  14   8.84   8   7.04\n",
      "6    6   7.24   6  6.13   6   6.08   8   5.25\n",
      "7    4   4.26   4  3.10   4   5.39  19  12.50\n",
      "8   12  10.84  12  9.13  12   8.15   8   5.56\n",
      "9    7   4.82   7  7.26   7   6.42   8   7.91\n",
      "10   5   5.68   5  4.74   5   5.73   8   6.89 \n",
      "\n",
      "    X1  X2  X3  X4\n",
      "0   10  10  10   8\n",
      "1    8   8   8   8\n",
      "2   13  13  13   8\n",
      "3    9   9   9   8\n",
      "4   11  11  11   8\n",
      "5   14  14  14   8\n",
      "6    6   6   6   8\n",
      "7    4   4   4  19\n",
      "8   12  12  12   8\n",
      "9    7   7   7   8\n",
      "10   5   5   5   8 \n",
      "\n",
      "              X1         X2         X3         X4\n",
      "count  11.000000  11.000000  11.000000  11.000000\n",
      "mean    9.000000   9.000000   9.000000   9.000000\n",
      "std     3.316625   3.316625   3.316625   3.316625\n",
      "min     4.000000   4.000000   4.000000   8.000000\n",
      "25%     6.500000   6.500000   6.500000   8.000000\n",
      "50%     9.000000   9.000000   9.000000   8.000000\n",
      "75%    11.500000  11.500000  11.500000   8.000000\n",
      "max    14.000000  14.000000  14.000000  19.000000 \n",
      "\n"
     ]
    }
   ],
   "source": [
    "# read the data\n",
    "df = pd.read_csv(\"Anscombe.csv\")\n",
    "print(df, \"\\n\")\n",
    "# Look at the x values\n",
    "print(df[[\"X1\", \"X2\", \"X3\", \"X4\"]], \"\\n\")\n",
    "print(df[[\"X1\", \"X2\", \"X3\", \"X4\"]].describe(), \"\\n\")"
   ]
  },
  {
   "cell_type": "markdown",
   "metadata": {},
   "source": [
    "Here you can see that all the X values bar X4 are the same, and that, all the X4 values bar one are a constant 8.\n",
    "Looking at the common descriptive measures shows that all the values agree except in the ranges of the X4 value between its minimum and maximum inclusively. \n",
    "\n",
    "Lets take a look at the y values."
   ]
  },
  {
   "cell_type": "code",
   "execution_count": 3,
   "metadata": {},
   "outputs": [
    {
     "name": "stdout",
     "output_type": "stream",
     "text": [
      "       Y1    Y2     Y3     Y4\n",
      "0    8.04  9.14   7.46   6.58\n",
      "1    6.95  8.14   6.77   5.76\n",
      "2    7.58  8.74  12.74   7.71\n",
      "3    8.81  8.77   7.11   8.84\n",
      "4    8.33  9.26   7.81   8.47\n",
      "5    9.96  8.10   8.84   7.04\n",
      "6    7.24  6.13   6.08   5.25\n",
      "7    4.26  3.10   5.39  12.50\n",
      "8   10.84  9.13   8.15   5.56\n",
      "9    4.82  7.26   6.42   7.91\n",
      "10   5.68  4.74   5.73   6.89 \n",
      "\n",
      "              Y1         Y2         Y3         Y4\n",
      "count  11.000000  11.000000  11.000000  11.000000\n",
      "mean    7.500909   7.500909   7.500000   7.500909\n",
      "std     2.031568   2.031657   2.030424   2.030579\n",
      "min     4.260000   3.100000   5.390000   5.250000\n",
      "25%     6.315000   6.695000   6.250000   6.170000\n",
      "50%     7.580000   8.140000   7.110000   7.040000\n",
      "75%     8.570000   8.950000   7.980000   8.190000\n",
      "max    10.840000   9.260000  12.740000  12.500000 \n",
      "\n"
     ]
    }
   ],
   "source": [
    "print(df[[\"Y1\", \"Y2\", \"Y3\", \"Y4\"]],\"\\n\")\n",
    "print(df[[\"Y1\", \"Y2\", \"Y3\", \"Y4\"]].describe(), \"\\n\")\n"
   ]
  },
  {
   "cell_type": "markdown",
   "metadata": {},
   "source": [
    "Here the 11 y values have a mean of 7.5 and standard deviation of 2.03; The range is between 3.1 and 12.75 with similar valued quartiles. "
   ]
  },
  {
   "cell_type": "code",
   "execution_count": 4,
   "metadata": {},
   "outputs": [
    {
     "name": "stdout",
     "output_type": "stream",
     "text": [
      "        Y1     Y2    Y3    Y4\n",
      "25%  6.315  6.695  6.25  6.17\n",
      "50%  7.580  8.140  7.11  7.04\n",
      "75%  8.570  8.950  7.98  8.19 \n",
      "\n"
     ]
    }
   ],
   "source": [
    "print(df[[\"Y1\", \"Y2\", \"Y3\", \"Y4\"]].describe()[4:7], \"\\n\")"
   ]
  },
  {
   "cell_type": "markdown",
   "metadata": {},
   "source": [
    "### What are descriptive statistics?\n",
    "\n",
    "There are different statistical methods used to analyse data. Descriptive statistics focus on the collection, presentation and measurement of the data, while inferential statistics look at what kind of hypothesis the data suggests (Siddharth, 2011). Descriptive statistical measures can be broadly broken down into 4 regions (Campuslabs, n.d.).\n",
    "\n",
    "1. measures of frequency such as frequencies, percents, counts\n",
    "2. measures of central tendencies, such as mean median and or mode\n",
    "3. measures of spread such as range, standard deviation and variance \n",
    "4. measures of position, such ranks \n",
    "\n",
    "There are two types of approach in modeling data. You can look at the data, its descriptive data and use these to build a model. This is the idea behind regression analysis. The regression line when fitted is used to make predictions about inputs beyond what is sampled. Often the first misstep in data analysis is to get right to the point and make the predictions. However there is a step that should precede this, namely data exploration. Visualizing the data is a key step in exploring its characteristics.  \n",
    "\n",
    "#### Regression Analysis\n",
    "\n",
    "Regression analysis is a way of finding a relationship between input values and output values. For example a new employee pay scale is often based on a predictor value of their years of experience. Here the input value or x value is the years of experience and the output value or y value is the associated pay scale. \n",
    "\n",
    "Linear regression, the simplest form of regression analysis, involves plotting the data and a theoretical *best fit* line then working out the parameters of this line by measuring the perpendicular 'distance' between each datum and the line. The distance is calculated in such a way that data on opposite sides of the best line do not cancel each other out. This is termed the *residual* of the datum.  The best line is the one that minimizes the sum of these residuals. This technique is often used to fit a linear model to the data. Anscombe (1973) set out to show that fitting the model before looking at the data would not be the best course of action.    \n",
    " \n",
    "\n",
    "### Anscombe's regression analysis example\n",
    "\n",
    "Anscombe (1973) noted that the first step to analyzing data is to graph its scatter plot of x values against y values. He noted five things that could happen with the resultant scatter plot; \n",
    "\n",
    "1. The x and y values are on a straight line or clustered around a straight line.\n",
    "2. The x and y values are curvilinear and not linear. \n",
    "3. The x and y values appear not to be related as the y values are randomly scattered.\n",
    "4. Some mixture of points 1, 2 or 3.\n",
    "5. Most of the points are on a line but there are a few values that are not - outliers.\n",
    "\n",
    "If outliers are present then the next stage is to check if they are really outliers and not wrongly entered data. Then you can remove the outliers and apply regression analysis to the remaining data and possibly investigate the outliers at a later stage as they might be very informative. \n",
    "\n",
    "With the above points, point 1 is the typical case for which regression analysis works best; Point 2 and could have linear regression analysis applied to it but the data would need to be transformed into a straight line if that was possible via transforming the scales. Point 5 could have its outliers detected using descriptive statistics but visualising the data is faster and more intuitive way of spotting if something is 'off'. Anscombe (1973) noted that an outlier x value contributes much more to the regression coefficient than an outlier y value.  "
   ]
  },
  {
   "cell_type": "markdown",
   "metadata": {},
   "source": [
    "### Visualise\n",
    "\n",
    "Lets plot the various datasets\n",
    "\n",
    "### Plot the interesting aspects of the dataset\n",
    "\n",
    "### Anscombe I\n"
   ]
  },
  {
   "cell_type": "markdown",
   "metadata": {},
   "source": [
    "#### plot the data"
   ]
  },
  {
   "cell_type": "code",
   "execution_count": 5,
   "metadata": {
    "scrolled": true
   },
   "outputs": [
    {
     "data": {
      "image/png": "[encoded data removed]",
      "text/plain": [
       "<matplotlib.figure.Figure at 0x167a6e5e5f8>"
      ]
     },
     "metadata": {
      "needs_background": "light"
     },
     "output_type": "display_data"
    }
   ],
   "source": [
    "x1 = np.array(df['X1'])\n",
    "y1 = np.array(df['Y1'])\n",
    "\n",
    "plt.plot(x1, y1, 'ko')\n",
    "plt.xlabel('X axis')\n",
    "plt.ylabel('Y axis')\n",
    "plt.title('Anscombe\\'s Dataset I')\n",
    "plt.show()"
   ]
  },
  {
   "cell_type": "markdown",
   "metadata": {},
   "source": [
    "#### Describe the graph\n",
    "\n",
    "This shows a scatter plot. It looks like a straight line with a positive slope might be suitable to model it. This is the point 1 result Anscombe mentioned when scatterplots are used. This type of situation is ideal for regression analysis.  \n",
    "\n",
    "\n",
    "#### fit a linear regression line\n",
    "\n",
    "\n"
   ]
  },
  {
   "cell_type": "code",
   "execution_count": 6,
   "metadata": {
    "scrolled": true
   },
   "outputs": [
    {
     "name": "stdout",
     "output_type": "stream",
     "text": [
      "The linear regression line slope is 0.5 \n",
      " with the y intercept  3.0\n"
     ]
    },
    {
     "data": {
      "image/png": "[encoded data removed]",
      "text/plain": [
       "<matplotlib.figure.Figure at 0x167a6d37470>"
      ]
     },
     "metadata": {
      "needs_background": "light"
     },
     "output_type": "display_data"
    }
   ],
   "source": [
    "# Perform linear regression: to find slope m and y intercept c\n",
    "m, c = np.polyfit(x1, y1, 1)\n",
    "\n",
    "# Print the slope and y intercept\n",
    "print(\"The linear regression line slope is\",f\"{m:.2}\",\"\\n\",\"with the y intercept \", f\"{c:.2}\")\n",
    "\n",
    "# plot regression line : y = mx + c\n",
    "x_lr1 = np.arange(0.0, 20, 1.0)\n",
    "y_lr1 = m * x_lr1 + c\n",
    "\n",
    "# Plot the Anscombe data and linear regression line\n",
    "plt.plot(x1, y1, marker='o', linestyle='none')\n",
    "plt.plot(x_lr1, y_lr1)\n",
    "\n",
    "# Label the axes\n",
    "plt.title(\"Anscombe I\")\n",
    "plt.xlabel('x1 values')\n",
    "plt.ylabel('y1 values')\n",
    "\n",
    "# Show the plot\n",
    "plt.show()\n",
    "\n"
   ]
  },
  {
   "cell_type": "markdown",
   "metadata": {},
   "source": [
    "This plot looks like a typical scatter plot with typical 'random' noise around the straight line\n",
    "$$y=0.5x+3$$ \n",
    "This line was found using linear regression. The regression coefficient is the coefficient of the x value in the lines equation i.e. 0.5. "
   ]
  },
  {
   "cell_type": "markdown",
   "metadata": {},
   "source": [
    "### Anscombe II\n"
   ]
  },
  {
   "cell_type": "markdown",
   "metadata": {},
   "source": [
    "#### plot the data"
   ]
  },
  {
   "cell_type": "code",
   "execution_count": 7,
   "metadata": {
    "scrolled": true
   },
   "outputs": [
    {
     "data": {
      "image/png": "[encoded data removed]",
      "text/plain": [
       "<matplotlib.figure.Figure at 0x167a6d61748>"
      ]
     },
     "metadata": {
      "needs_background": "light"
     },
     "output_type": "display_data"
    }
   ],
   "source": [
    "x2 = np.array(df['X2'])\n",
    "y2 = np.array(df['Y2'])\n",
    "\n",
    "plt.plot(x2, y2, 'bo')\n",
    "plt.xlabel('X axis')\n",
    "plt.ylabel('Y axis')\n",
    "plt.title('Anscombe\\'s Dataset II')\n",
    "plt.show()"
   ]
  },
  {
   "cell_type": "markdown",
   "metadata": {},
   "source": [
    "#### Describe the graph\n",
    "\n",
    "This shows a very clear curvature of a quadratic equation with a maximum value - it would be best modeled by an equation such as \n",
    "$$y = ax^2 + bx + c $$ with a negative $a$ value \n",
    "\n",
    "\n",
    "#### fit a linear regression line\n",
    "\n",
    "\n",
    "The linear regression line that is produced with Anscombe II is exactly the same one as with Anscombe I namely, \n",
    "\n",
    "$y=0.5x + 3$  \n",
    "\n"
   ]
  },
  {
   "cell_type": "code",
   "execution_count": 8,
   "metadata": {
    "scrolled": true
   },
   "outputs": [
    {
     "name": "stdout",
     "output_type": "stream",
     "text": [
      "The linear regression line slope is 0.5 \n",
      " with the y intercept  3.0\n"
     ]
    },
    {
     "data": {
      "image/png": "[encoded data removed]",
      "text/plain": [
       "<matplotlib.figure.Figure at 0x167a8047080>"
      ]
     },
     "metadata": {
      "needs_background": "light"
     },
     "output_type": "display_data"
    }
   ],
   "source": [
    "\n",
    "# Perform linear regression: to find slope m and y intercept c\n",
    "m, c = np.polyfit(x2, y2, 1)\n",
    "\n",
    "# Print the slope and y intercept\n",
    "print(\"The linear regression line slope is\",f\"{m:.2}\",\"\\n\",\"with the y intercept \", f\"{c:.2}\")\n",
    "\n",
    "# plot regression line : y = mx + c\n",
    "x_lr2 = np.arange(0.0, 20, 1.0)\n",
    "y_lr2 = m * x_lr2 + c\n",
    "\n",
    "# Plot the Anscombe data linear regression line\n",
    "plt.plot(x2, y2, marker='o', linestyle='none')\n",
    "plt.plot(x_lr2, y_lr2)\n",
    "\n",
    "# Label axes\n",
    "plt.title(\"Anscombe II\")\n",
    "plt.xlabel('x2 values')\n",
    "plt.ylabel('y2 values')\n",
    "\n",
    "# Show the plot\n",
    "plt.show()\n",
    "\n"
   ]
  },
  {
   "cell_type": "markdown",
   "metadata": {},
   "source": [
    "However this plot is **clearly** a quadratic in this interval and **not** a straight line. Hence regression can be used but not on a  linear dimension; "
   ]
  },
  {
   "cell_type": "code",
   "execution_count": 9,
   "metadata": {
    "scrolled": true
   },
   "outputs": [
    {
     "name": "stdout",
     "output_type": "stream",
     "text": [
      "the x squared coefficient is  -0.13 \n",
      " the x coefficient is  2.8 \n",
      " the constant is  -6.0\n"
     ]
    },
    {
     "data": {
      "image/png": "[encoded data removed]",
      "text/plain": [
       "<matplotlib.figure.Figure at 0x167a8040860>"
      ]
     },
     "metadata": {
      "needs_background": "light"
     },
     "output_type": "display_data"
    }
   ],
   "source": [
    "# see if there is a best curve\n",
    "\n",
    "# calculate polynomial\n",
    "a, b, c = np.polyfit(x2, y2, 2)\n",
    "print(\"the x squared coefficient is \", f\"{a:.2}\",\"\\n\", \"the x coefficient is \", f\"{b:.2}\", \"\\n\", \"the constant is \", f\"{c:.2}\")\n",
    "\n",
    "\n",
    "# Plot the Anscombe data polyfit line\n",
    "\n",
    "x_pf2 = np.arange(0.0, 20, 1.0)\n",
    "y_pf2 = a * x_pf2**2 + b * x_pf2 + c\n",
    "\n",
    "plt.plot(x2, y2, marker='o', linestyle='none')\n",
    "plt.plot(x_pf2, y_pf2)\n",
    "\n",
    "# Label axes\n",
    "plt.title(\"Anscombe II\")\n",
    "plt.xlabel('x2 values')\n",
    "plt.ylabel('y2 values')\n",
    "\n",
    "# Show the plot\n",
    "plt.show()\n",
    "\n"
   ]
  },
  {
   "cell_type": "markdown",
   "metadata": {},
   "source": [
    "Plotting regression curvilinear line of order 2 to the data gives the plot above. This is a perfect fit to the equation $y = -0.13x^2+2.8x-6$. Drawing the scatterplot showed that fitting a linear line would not be the best course of action and that the model would be best fitted by an order of 2 curve.  "
   ]
  },
  {
   "cell_type": "markdown",
   "metadata": {},
   "source": [
    "### Anscombe III\n"
   ]
  },
  {
   "cell_type": "markdown",
   "metadata": {},
   "source": [
    "#### plot the data"
   ]
  },
  {
   "cell_type": "code",
   "execution_count": 10,
   "metadata": {
    "scrolled": true
   },
   "outputs": [
    {
     "data": {
      "image/png": "[encoded data removed]",
      "text/plain": [
       "<matplotlib.figure.Figure at 0x167a832c198>"
      ]
     },
     "metadata": {
      "needs_background": "light"
     },
     "output_type": "display_data"
    }
   ],
   "source": [
    "x3 = np.array(df['X3'])\n",
    "y3 = np.array(df['Y3'])\n",
    "\n",
    "plt.plot(x3, y3, 'ro')\n",
    "plt.xlabel('X axis')\n",
    "plt.ylabel('Y axis')\n",
    "plt.title('Anscombe\\'s Dataset II')\n",
    "plt.show()"
   ]
  },
  {
   "cell_type": "markdown",
   "metadata": {},
   "source": [
    "#### Describe the graph\n",
    "\n",
    "This shows a clear straight line but with one anomalous y value. Looking at this data again shows that the 12.74 value looks out of place with the rest of the data. \n",
    "\n",
    "\n"
   ]
  },
  {
   "cell_type": "code",
   "execution_count": 11,
   "metadata": {
    "scrolled": true
   },
   "outputs": [
    {
     "name": "stdout",
     "output_type": "stream",
     "text": [
      "    X3     Y3\n",
      "0   10   7.46\n",
      "1    8   6.77\n",
      "2   13  12.74\n",
      "3    9   7.11\n",
      "4   11   7.81\n",
      "5   14   8.84\n",
      "6    6   6.08\n",
      "7    4   5.39\n",
      "8   12   8.15\n",
      "9    7   6.42\n",
      "10   5   5.73\n"
     ]
    }
   ],
   "source": [
    "print(df[[\"X3\", \"Y3\"]])"
   ]
  },
  {
   "cell_type": "markdown",
   "metadata": {},
   "source": [
    "If Anscombe III has a linear regression line fitted to the data without considering the anomalous y value then, the same regression line $y = 0.5x + 3$ is found with the regression coefficient of 0.5; \n"
   ]
  },
  {
   "cell_type": "code",
   "execution_count": 12,
   "metadata": {
    "scrolled": true
   },
   "outputs": [
    {
     "name": "stdout",
     "output_type": "stream",
     "text": [
      "The linear regression line slope is 0.5 \n",
      " with the y intercept  3.0\n"
     ]
    },
    {
     "data": {
      "image/png": "[encoded data removed]",
      "text/plain": [
       "<matplotlib.figure.Figure at 0x167a807d438>"
      ]
     },
     "metadata": {
      "needs_background": "light"
     },
     "output_type": "display_data"
    }
   ],
   "source": [
    "# Perform linear regression: to find slope m and y intercept c\n",
    "m, c = np.polyfit(x3, y3, 1)\n",
    "\n",
    "# Print the slope and y intercept\n",
    "print(\"The linear regression line slope is\",f\"{m:.2}\",\"\\n\",\"with the y intercept \", f\"{c:.2}\")\n",
    "\n",
    "# plot regression line : y = mx + c\n",
    "x_lr3 = np.arange(0.0, 20, 1.0)\n",
    "y_lr3 = m * x_lr3 + c\n",
    "\n",
    "# Plot the Anscombe data linear regression line\n",
    "plt.plot(x3, y3, marker='o', linestyle='none')\n",
    "plt.plot(x_lr3, y_lr3)\n",
    "\n",
    "# Label axes\n",
    "plt.title(\"Anscombe III\")\n",
    "plt.xlabel('x3 values')\n",
    "plt.ylabel('y3 values')\n",
    "\n",
    "# Show the plot\n",
    "plt.show()\n",
    "\n"
   ]
  },
  {
   "cell_type": "markdown",
   "metadata": {},
   "source": [
    "However it is very clear from the graph that this would not be a suitable fit and that there is a better line if the rogue y value is removed from the dataset.\n",
    "\n",
    "Plot a box plot to see if there are any clear outliers"
   ]
  },
  {
   "cell_type": "code",
   "execution_count": 13,
   "metadata": {
    "scrolled": false
   },
   "outputs": [
    {
     "data": {
      "image/png": "[encoded data removed]",
      "text/plain": [
       "<matplotlib.figure.Figure at 0x167a83b7208>"
      ]
     },
     "metadata": {
      "needs_background": "light"
     },
     "output_type": "display_data"
    }
   ],
   "source": [
    "sns.boxplot(y3)\n",
    "plt.show()\n"
   ]
  },
  {
   "cell_type": "markdown",
   "metadata": {},
   "source": [
    "This shows that most of the y3 values are between 6 and 8; and a clear outlier between 12 and 13; This should be removed as the line is steadily increasing so averaging the Y3 values would not be suitable value to replace the 12.74; "
   ]
  },
  {
   "cell_type": "code",
   "execution_count": 14,
   "metadata": {
    "scrolled": false
   },
   "outputs": [
    {
     "name": "stdout",
     "output_type": "stream",
     "text": [
      "12.74\n",
      "    X3     Y3\n",
      "0   10   7.46\n",
      "1    8   6.77\n",
      "2   13  12.74\n",
      "3    9   7.11\n",
      "4   11   7.81\n",
      "5   14   8.84\n",
      "6    6   6.08\n",
      "7    4   5.39\n",
      "8   12   8.15\n",
      "9    7   6.42\n",
      "10   5   5.73 \n",
      "\n",
      "    X3    Y3\n",
      "0   10  7.46\n",
      "1    8  6.77\n",
      "3    9  7.11\n",
      "4   11  7.81\n",
      "5   14  8.84\n",
      "6    6  6.08\n",
      "7    4  5.39\n",
      "8   12  8.15\n",
      "9    7  6.42\n",
      "10   5  5.73 \n",
      "\n"
     ]
    },
    {
     "data": {
      "image/png": "[encoded data removed]",
      "text/plain": [
       "<matplotlib.figure.Figure at 0x167a7f82470>"
      ]
     },
     "metadata": {
      "needs_background": "light"
     },
     "output_type": "display_data"
    },
    {
     "name": "stdout",
     "output_type": "stream",
     "text": [
      "now find the best line\n",
      "The linear regression line slope is 0.35 \n",
      " with the y intercept  4.0\n"
     ]
    },
    {
     "data": {
      "image/png": "[encoded data removed]",
      "text/plain": [
       "<matplotlib.figure.Figure at 0x167a6d6f278>"
      ]
     },
     "metadata": {
      "needs_background": "light"
     },
     "output_type": "display_data"
    }
   ],
   "source": [
    "# print the outlier\n",
    "print(df.iloc[2,5])\n",
    "# print the column to check its index\n",
    "print(df[[\"X3\", \"Y3\"]], \"\\n\")\n",
    "# drop the row with the outlier in it\n",
    "df_3 = df.drop(df.index[2])\n",
    "print(df_3[[\"X3\", \"Y3\"]], \"\\n\")\n",
    "\n",
    "# update the new arrays\n",
    "x3_adj = np.array(df_3['X3'])\n",
    "y3_adj = np.array(df_3['Y3'])\n",
    "\n",
    "# plot the adjusted data\n",
    "plt.plot(x3_adj, y3_adj, 'ro')\n",
    "plt.xlabel('X axis')\n",
    "plt.ylabel('Y axis')\n",
    "plt.title('Adjusted Anscombe\\'s Dataset III')\n",
    "plt.show()\n",
    "print(\"now find the best line\") # its a straight line so we could just take points\n",
    "\n",
    "# Perform linear regression: to find slope m and y intercept c\n",
    "m, c = np.polyfit(x3_adj, y3_adj, 1)\n",
    "\n",
    "# Print the slope and y intercept\n",
    "print(\"The linear regression line slope is\",f\"{m:.2}\",\"\\n\",\"with the y intercept \", f\"{c:.2}\")\n",
    "\n",
    "# plot regression line : y = mx + c\n",
    "x_lr3_adj = np.arange(0.0, 20, 1.0)\n",
    "y_lr3_adj = m * x_lr3_adj + c\n",
    "\n",
    "# Plot the Anscombe data linear regression line\n",
    "plt.plot(x3_adj, y3_adj, marker='o', linestyle='none')\n",
    "plt.plot(x_lr3_adj, y_lr3_adj)\n",
    "\n",
    "# Label axes\n",
    "plt.title(\"Anscombe III\")\n",
    "plt.xlabel('x3 values')\n",
    "plt.ylabel('y3 values')\n",
    "\n",
    "# Show the plot\n",
    "plt.show()\n"
   ]
  },
  {
   "cell_type": "markdown",
   "metadata": {},
   "source": [
    "This is a perfect straight line fit to the data with the equation $y =  0.35x + 4$ with the coefficient of regression of 0.35. \n",
    "\n",
    "This differs from the $y = 0.5x + 3$ linear regression line produced using the full data. The line $y =  0.35x + 4$ is a better model of the data than $y = 0.5x + 3$.  "
   ]
  },
  {
   "cell_type": "markdown",
   "metadata": {},
   "source": [
    "### Anscombe IV\n"
   ]
  },
  {
   "cell_type": "markdown",
   "metadata": {},
   "source": [
    "#### plot the data"
   ]
  },
  {
   "cell_type": "code",
   "execution_count": 15,
   "metadata": {
    "scrolled": true
   },
   "outputs": [
    {
     "data": {
      "image/png": "[encoded data removed]",
      "text/plain": [
       "<matplotlib.figure.Figure at 0x167a7eaa668>"
      ]
     },
     "metadata": {
      "needs_background": "light"
     },
     "output_type": "display_data"
    }
   ],
   "source": [
    "x4 = np.array(df['X4'])\n",
    "y4 = np.array(df['Y4'])\n",
    "\n",
    "plt.plot(x4, y4, 'go')\n",
    "plt.xlabel('X axis')\n",
    "plt.ylabel('Y axis')\n",
    "plt.title('Anscombe\\'s Dataset IV')\n",
    "plt.show()"
   ]
  },
  {
   "cell_type": "markdown",
   "metadata": {},
   "source": [
    "#### Describe the graph\n",
    "\n",
    "This shows all the data points have x value 8 except one. This illustrates Anscombe's concern that anomalous x values can have a far greater effect on the regression line than an anomalous y value as seen in Anscombe III. This rogue x value is so extreme that it likely to be an error in the data collection process rather than an outlier.\n",
    "\n",
    "#### fit a linear regression line\n",
    "If the regression line is plotted to the full dataset you get the following; \n",
    "\n"
   ]
  },
  {
   "cell_type": "code",
   "execution_count": 16,
   "metadata": {
    "scrolled": true
   },
   "outputs": [
    {
     "name": "stdout",
     "output_type": "stream",
     "text": [
      "    X4     Y4\n",
      "0    8   6.58\n",
      "1    8   5.76\n",
      "2    8   7.71\n",
      "3    8   8.84\n",
      "4    8   8.47\n",
      "5    8   7.04\n",
      "6    8   5.25\n",
      "7   19  12.50\n",
      "8    8   5.56\n",
      "9    8   7.91\n",
      "10   8   6.89 \n",
      "\n",
      "yep its all the 8's for the x4 values bar one\n"
     ]
    }
   ],
   "source": [
    "# Look at the data again\n",
    "print(df[[\"X4\", \"Y4\"]], \"\\n\")\n",
    "print(\"yep its all the 8's for the x4 values bar one\")"
   ]
  },
  {
   "cell_type": "code",
   "execution_count": 17,
   "metadata": {
    "scrolled": false
   },
   "outputs": [
    {
     "name": "stdout",
     "output_type": "stream",
     "text": [
      "The linear regression line slope is 0.5 \n",
      " with the y intercept  3.0\n"
     ]
    },
    {
     "data": {
      "image/png": "[encoded data removed]",
      "text/plain": [
       "<matplotlib.figure.Figure at 0x167a7f037f0>"
      ]
     },
     "metadata": {
      "needs_background": "light"
     },
     "output_type": "display_data"
    }
   ],
   "source": [
    "# Perform linear regression: to find slope m and y intercept c\n",
    "m, c = np.polyfit(x4, y4, 1)\n",
    "\n",
    "# Print the slope and y intercept\n",
    "print(\"The linear regression line slope is\",f\"{m:.2}\",\"\\n\",\"with the y intercept \", f\"{c:.2}\")\n",
    "\n",
    "# plot regression line : y = mx + c\n",
    "x_lr4 = np.arange(0.0, 20, 1.0)\n",
    "y_lr4 = m * x_lr4 + c\n",
    "\n",
    "# Plot the Anscombe data linear regression line\n",
    "plt.plot(x4, y4, marker='o', linestyle='none')\n",
    "plt.plot(x_lr4, y_lr4)\n",
    "\n",
    "# Label axes\n",
    "plt.title(\"Anscombe IV\")\n",
    "plt.xlabel('x4 values')\n",
    "plt.ylabel('y4 values')\n",
    "\n",
    "# Show the plot\n",
    "plt.show()\n",
    "\n"
   ]
  },
  {
   "cell_type": "markdown",
   "metadata": {},
   "source": [
    "The same regression line as before is found namely, $ y = 0.5x + 3$. But this would be a very bad model for the data as it's equation is $x = 8$. "
   ]
  },
  {
   "cell_type": "markdown",
   "metadata": {},
   "source": [
    "The value at index 7 should be removed from the set. With Anscombe III the y value was an outlier but in Anscombe 4 its the x value that is out of place. "
   ]
  },
  {
   "cell_type": "code",
   "execution_count": 18,
   "metadata": {
    "scrolled": false
   },
   "outputs": [
    {
     "name": "stdout",
     "output_type": "stream",
     "text": [
      "19\n",
      "    X4     Y4\n",
      "0    8   6.58\n",
      "1    8   5.76\n",
      "2    8   7.71\n",
      "3    8   8.84\n",
      "4    8   8.47\n",
      "5    8   7.04\n",
      "6    8   5.25\n",
      "7   19  12.50\n",
      "8    8   5.56\n",
      "9    8   7.91\n",
      "10   8   6.89 \n",
      "\n",
      "    X4    Y4\n",
      "0    8  6.58\n",
      "1    8  5.76\n",
      "2    8  7.71\n",
      "3    8  8.84\n",
      "4    8  8.47\n",
      "5    8  7.04\n",
      "6    8  5.25\n",
      "8    8  5.56\n",
      "9    8  7.91\n",
      "10   8  6.89 \n",
      "\n"
     ]
    },
    {
     "data": {
      "image/png": "[encoded data removed]",
      "text/plain": [
       "<matplotlib.figure.Figure at 0x167a847e5c0>"
      ]
     },
     "metadata": {
      "needs_background": "light"
     },
     "output_type": "display_data"
    }
   ],
   "source": [
    "# print the outlier\n",
    "print(df.iloc[7,6])\n",
    "# print the column to check its index\n",
    "\n",
    "print(df[[\"X4\", \"Y4\"]], \"\\n\")\n",
    "# drop the row with the outlier in it\n",
    "df_4 = df.drop(df.index[7])\n",
    "# check its dropped\n",
    "print(df_4[[\"X4\", \"Y4\"]], \"\\n\")\n",
    "\n",
    "# update the new arrays\n",
    "x4_adj = np.array(df_4['X4'])\n",
    "y4_adj = np.array(df_4['Y4'])\n",
    "\n",
    "# plot the adjusted data\n",
    "plt.plot(x4_adj, y4_adj, 'ro')\n",
    "plt.xlabel('X axis')\n",
    "plt.ylabel('Y axis')\n",
    "plt.title('Adjusted Anscombe\\'s Dataset IV')\n",
    "plt.show()\n"
   ]
  },
  {
   "cell_type": "markdown",
   "metadata": {},
   "source": [
    "Indeed if the rogue x value was not there you would not be able to plot a line at all as there would be no regression coefficient. The x value would not be a predictor of the y value at all as y could be any value on the vertical line x = 8; The outlier x value creates the illusion that the data suggests the presence of a regression line.  "
   ]
  },
  {
   "cell_type": "code",
   "execution_count": 19,
   "metadata": {
    "scrolled": false
   },
   "outputs": [
    {
     "data": {
      "image/png": "[encoded data removed]",
      "text/plain": [
       "<matplotlib.figure.Figure at 0x167a85feda0>"
      ]
     },
     "metadata": {
      "needs_background": "light"
     },
     "output_type": "display_data"
    },
    {
     "data": {
      "image/png": "[encoded data removed]",
      "text/plain": [
       "<matplotlib.figure.Figure at 0x167a86810b8>"
      ]
     },
     "metadata": {
      "needs_background": "light"
     },
     "output_type": "display_data"
    }
   ],
   "source": [
    "plt.plot(x1, y1, 'ko', label = \"I\")\n",
    "plt.plot(x2, y2, 'bo', label = \"II\" )\n",
    "plt.plot(x3, y3, 'ro', label = \"III\")\n",
    "plt.plot(x4, y4, 'go', label = \"IV\")\n",
    "plt.legend() \n",
    "plt.xlabel('X axis')\n",
    "plt.ylabel('Y axis')\n",
    "plt.title('Anscombe\\'s Datasets')\n",
    "plt.show()\n",
    "plt.plot(x_lr1, y_lr1, 'ko', label = \"I\")\n",
    "plt.plot(x_pf2, y_pf2, 'bo', label = \"II\" )\n",
    "plt.plot(x_lr3_adj, y_lr3_adj, 'ro', label = \"III\")\n",
    "plt.plot(x4_adj, y4_adj, 'go', label = \"IV\")\n",
    "plt.legend() \n",
    "plt.xlabel('X axis')\n",
    "plt.ylabel('Y axis')\n",
    "plt.title('Anscombe\\'s Datasets as adjusted and suitably modeled')\n",
    "plt.show()"
   ]
  },
  {
   "cell_type": "markdown",
   "metadata": {},
   "source": [
    "Linear regression showed each of the datasets could be modeled by the same line $y = 0.5x + 3$. However only Anscombe I was suitably  modeled by linear regression. Anscombe II was the quadratic curve $y = -0.13x^2+2.8x-6$. Anscombe III was linear but an outlier y value was not giving the best fit line and the linear regression line that was most suitable to use in this case was $y =  0.35x + 4$. Anscombe IV had a constant x value in all but one datum. When this was removed it could be suitably modeled by the vertical line $x = 8$ which would tell us nothing about y values.  "
   ]
  },
  {
   "cell_type": "markdown",
   "metadata": {},
   "source": [
    "# Calculate descriptive stats\n",
    "\n",
    "Anscombe (1973) suggested the first stage of analysis should be to explore the data; Visualisation was a good way to get a feel for the data. \n",
    "The full dataset decscriptors are below; "
   ]
  },
  {
   "cell_type": "code",
   "execution_count": 20,
   "metadata": {
    "scrolled": true
   },
   "outputs": [
    {
     "name": "stdout",
     "output_type": "stream",
     "text": [
      "              X1         Y1         X2         Y2         X3         Y3  \\\n",
      "count  11.000000  11.000000  11.000000  11.000000  11.000000  11.000000   \n",
      "mean    9.000000   7.500909   9.000000   7.500909   9.000000   7.500000   \n",
      "std     3.316625   2.031568   3.316625   2.031657   3.316625   2.030424   \n",
      "min     4.000000   4.260000   4.000000   3.100000   4.000000   5.390000   \n",
      "25%     6.500000   6.315000   6.500000   6.695000   6.500000   6.250000   \n",
      "50%     9.000000   7.580000   9.000000   8.140000   9.000000   7.110000   \n",
      "75%    11.500000   8.570000  11.500000   8.950000  11.500000   7.980000   \n",
      "max    14.000000  10.840000  14.000000   9.260000  14.000000  12.740000   \n",
      "\n",
      "              X4         Y4  \n",
      "count  11.000000  11.000000  \n",
      "mean    9.000000   7.500909  \n",
      "std     3.316625   2.030579  \n",
      "min     8.000000   5.250000  \n",
      "25%     8.000000   6.170000  \n",
      "50%     8.000000   7.040000  \n",
      "75%     8.000000   8.190000  \n",
      "max    19.000000  12.500000  \n"
     ]
    }
   ],
   "source": [
    "print(df.describe())\n"
   ]
  },
  {
   "cell_type": "markdown",
   "metadata": {},
   "source": [
    "These were described earlier; However the scatter plots suggest the datasets should be the following;"
   ]
  },
  {
   "cell_type": "code",
   "execution_count": 21,
   "metadata": {},
   "outputs": [
    {
     "name": "stdout",
     "output_type": "stream",
     "text": [
      "Anscombe I descriptive statistics \n",
      "               X1         Y1\n",
      "count  11.000000  11.000000\n",
      "mean    9.000000   7.500909\n",
      "std     3.316625   2.031568\n",
      "min     4.000000   4.260000\n",
      "25%     6.500000   6.315000\n",
      "50%     9.000000   7.580000\n",
      "75%    11.500000   8.570000\n",
      "max    14.000000  10.840000 \n",
      "\n",
      "Anscombe II descriptive statistics \n",
      "               X2         Y2\n",
      "count  11.000000  11.000000\n",
      "mean    9.000000   7.500909\n",
      "std     3.316625   2.031657\n",
      "min     4.000000   3.100000\n",
      "25%     6.500000   6.695000\n",
      "50%     9.000000   8.140000\n",
      "75%    11.500000   8.950000\n",
      "max    14.000000   9.260000 \n",
      "\n",
      "Anscombe III descriptive statistics adjusted \n",
      "               X3         Y3\n",
      "count  10.000000  10.000000\n",
      "mean    8.600000   6.976000\n",
      "std     3.204164   1.106689\n",
      "min     4.000000   5.390000\n",
      "25%     6.250000   6.165000\n",
      "50%     8.500000   6.940000\n",
      "75%    10.750000   7.722500\n",
      "max    14.000000   8.840000 \n",
      "\n",
      "Anscombe IV descriptive statistics adjusted \n",
      "          X4         Y4\n",
      "count  10.0  10.000000\n",
      "mean    8.0   7.001000\n",
      "std     0.0   1.235695\n",
      "min     8.0   5.250000\n",
      "25%     8.0   5.965000\n",
      "50%     8.0   6.965000\n",
      "75%     8.0   7.860000\n",
      "max     8.0   8.840000 \n",
      "\n"
     ]
    }
   ],
   "source": [
    "print(\"Anscombe I descriptive statistics \\n\", df[['X1','Y1']].describe(), \"\\n\")\n",
    "\n",
    "print(\"Anscombe II descriptive statistics \\n\", df[['X2','Y2']].describe(), \"\\n\")\n",
    "\n",
    "print(\"Anscombe III descriptive statistics adjusted \\n\", df_3[['X3','Y3']].describe(), \"\\n\")\n",
    "\n",
    "print(\"Anscombe IV descriptive statistics adjusted \\n\", df_4[['X4','Y4']].describe(), \"\\n\")"
   ]
  },
  {
   "cell_type": "markdown",
   "metadata": {},
   "source": [
    "In addition the scatterplot of Anscombe II suggested a curvilinear model should be applied. "
   ]
  },
  {
   "cell_type": "markdown",
   "metadata": {},
   "source": [
    "Anscombe's datasets have the same Pearson correlation r for the relationship between their x and y values."
   ]
  },
  {
   "cell_type": "code",
   "execution_count": 22,
   "metadata": {
    "scrolled": true
   },
   "outputs": [
    {
     "name": "stdout",
     "output_type": "stream",
     "text": [
      "pearsons r for Anscombe I is \n",
      " [[ 1.          0.81642052]\n",
      " [ 0.81642052  1.        ]] \n",
      "\n",
      "pearsons r for Anscombe II is \n",
      " [[ 1.          0.81623651]\n",
      " [ 0.81623651  1.        ]] \n",
      "\n",
      "pearsons r for Anscombe III is \n",
      " [[ 1.          0.81628674]\n",
      " [ 0.81628674  1.        ]] \n",
      "\n",
      "pearsons r for Anscombe IV is \n",
      " [[ 1.          0.81652144]\n",
      " [ 0.81652144  1.        ]] \n",
      "\n"
     ]
    }
   ],
   "source": [
    "# calculate the Pearson product-moment correlation between the x and y values for each set \n",
    "print(\"pearsons r for Anscombe I is \\n\",np.corrcoef(df[\"X1\"], df[\"Y1\"]),\"\\n\" )\n",
    "print(\"pearsons r for Anscombe II is \\n\",np.corrcoef(df[\"X2\"], df[\"Y2\"]),\"\\n\" )\n",
    "print(\"pearsons r for Anscombe III is \\n\",np.corrcoef(df[\"X3\"], df[\"Y3\"]),\"\\n\" )\n",
    "print(\"pearsons r for Anscombe IV is \\n\",np.corrcoef(df[\"X4\"], df[\"Y4\"]),\"\\n\" )"
   ]
  },
  {
   "cell_type": "code",
   "execution_count": 23,
   "metadata": {},
   "outputs": [
    {
     "name": "stdout",
     "output_type": "stream",
     "text": [
      "pearsons r for adjusted Anscombe III is \n",
      " [[ 1.          0.99999655]\n",
      " [ 0.99999655  1.        ]] \n",
      "\n",
      "pearsons r for adjusted Anscombe IV is \n",
      " [[ nan  nan]\n",
      " [ nan   1.]] \n",
      "\n"
     ]
    },
    {
     "name": "stderr",
     "output_type": "stream",
     "text": [
      "C:\\ProgramData\\Anaconda3\\lib\\site-packages\\numpy\\lib\\function_base.py:3167: RuntimeWarning: invalid value encountered in true_divide\n",
      "  c /= stddev[:, None]\n",
      "C:\\ProgramData\\Anaconda3\\lib\\site-packages\\numpy\\lib\\function_base.py:3168: RuntimeWarning: invalid value encountered in true_divide\n",
      "  c /= stddev[None, :]\n"
     ]
    }
   ],
   "source": [
    "# calculate the Pearson product-moment correlation between the x and y values for each set when adjustments are made\n",
    "print(\"pearsons r for adjusted Anscombe III is \\n\", np.corrcoef(df_3[\"X3\"], df_3[\"Y3\"]),\"\\n\" )\n",
    "print(\"pearsons r for adjusted Anscombe IV is \\n\", np.corrcoef(df_4[\"X4\"], df_4[\"Y4\"]),\"\\n\" )"
   ]
  },
  {
   "cell_type": "markdown",
   "metadata": {},
   "source": [
    "This shows that the unadjusted datasets all have the same coefficient of correlation of 0.8165; This is a measure of the strength of association between the x and y value. However the adjusted Anscombe III has a higher correlation coefficient at 1 and Anscombe IV is not suitable for regression analysis. Anscombe II is also not suitable for a linear based correlation coefficient. "
   ]
  },
  {
   "cell_type": "markdown",
   "metadata": {},
   "source": [
    "## Explain why the dataset is interesting refering to the plots and statistics"
   ]
  },
  {
   "cell_type": "markdown",
   "metadata": {},
   "source": [
    "Anscombe's datasets are interesting as it shows the importance of taking a big picture look at the data. Visualising the data can give pointers to the direction your calculation approach should take. \n",
    "\n",
    "Anscombe I dataset scatterplot showed that a linear regression approach was suitable; Why? because the data was scattered in a non uniform manner around some linear region of the plot. Linear regression showed that this data could be modelled by the line $y = 0.5x + 3$.\n",
    "\n",
    "Anscombe II dataset scatterplot showed that a linear approach would not be a good choice; The scatterplot showed a curve and was best modeled by the equation $y = -0.13x^2+2.8x-6$. \n",
    "\n",
    "Anscombe III showed that an outlier y value was easy to spot and that the dataset should be adjusted before performing linear regression; This produced a best line of $y =  0.35x + 4$ for modeling the data. \n",
    "\n",
    "Finally Anscombe IV showed that an outlier x value should be checked carefully or else it may invalidate any regression line predictions. The adjusted Ancombe IV data was not suitable for regression analysis. \n"
   ]
  },
  {
   "cell_type": "markdown",
   "metadata": {},
   "source": [
    "## Speculations on how Anscombe's datasets may have been created\n",
    "\n",
    "Anscombe's four sets show different characteristics and contain different types of errors. Rodríguez (2016) noted the different types of errors in Anscombe's datasets around the regression line $y = 0.5x +3 $.\n",
    "\n",
    "* Pure Error\n",
    "\n",
    "Anscombe I is what you would typically expect in real world experiments. Its a scatter plot like what you might find when measuring the lengths of petals. Measurements will all be clustered around a best line and show some 'random noise' or 'pure error' in how they deviate from the best fit line. This type of data if what is typically expected and the descriptive statistics and data visualization methods agree on how this data should be modeled.   \n",
    "\n",
    "* Lack of Fit\n",
    "\n",
    "Anscombe II is a quadratic curve (at least in the interval in question). These types of curves are commonly found with real world data such as the trajectory of a ball or precision engineering etc. However if a linear regression line is applied to Anscombe II data you would **not** model its relationship between its x and y value. The regression line does not fit the data. Instead it should be modeled by a quadratic curve which does fit the data. \n",
    "\n",
    "* Outlier\n",
    "\n",
    "Anscombe III's third y value distorts the regression line. The rest of the data follows a clear straight line perfectly but when the third point is included it affects the regression line calculated and no longer best fits the model. \n",
    "\n",
    "* Undue Influence \n",
    "\n",
    "Anscombe IV has one x value that deviates from all the other x values. The other x values are all identical but when the 8th point is included it creates a regression line that would not there otherwise.   \n",
    "\n",
    "\n",
    "Anscombe (1973) was interested in statistical computing. He noted in his 1973 paper that he often used his APL skills when plotting data. APL is a computer language specializing in multidimensional arrays (Wikipedia, 2018b). So its a fair assumption that he reverse engineered some data from the line  $y = 0.5x +3 $ with the types of error mentioned above using his computer skills.\n",
    "\n",
    "Matejka & Fitzmaurice (2017) noted that creating data with specific descriptive statistical properties is hard. However it is relatively easy to take a set of data with specific properties and selecting certain data within this dataset then modifying them slightly while still keeping the overall statistical properties of the original dataset. \n",
    "\n",
    ">We do this by choosing a point at random, moving it a little bit, then checking that the statistical properties of the set haven't strayed outside of the acceptable bounds (in this particular case, we are ensuring that the means, standard deviations, and correlations remain the same to two decimal places.)\n",
    "(Matejka & Fitzmaurice, 2017)\n",
    "\n",
    "Indeed they vividly illustrated this by producing the 12 plots below which all have the same x value mean of 54.26, y value mean of 47.83, x value standard deviation of 16.76, y value standard deviation of 26.93 and correlation of -0.06. The figures below also have the same fitted linear regression line (Matejka & Fitzmaurice, 2017). \n"
   ]
  },
  {
   "cell_type": "code",
   "execution_count": 24,
   "metadata": {
    "scrolled": false
   },
   "outputs": [
    {
     "data": {
      "image/png": "[encoded data removed]",
      "text/plain": [
       "<matplotlib.figure.Figure at 0x167a84fbf28>"
      ]
     },
     "metadata": {
      "needs_background": "light"
     },
     "output_type": "display_data"
    },
    {
     "data": {
      "image/png": "[encoded data removed]",
      "text/plain": [
       "<matplotlib.figure.Figure at 0x167a834b0b8>"
      ]
     },
     "metadata": {
      "needs_background": "light"
     },
     "output_type": "display_data"
    },
    {
     "data": {
      "image/png": "[encoded data removed]",
      "text/plain": [
       "<matplotlib.figure.Figure at 0x167a834ba20>"
      ]
     },
     "metadata": {
      "needs_background": "light"
     },
     "output_type": "display_data"
    },
    {
     "data": {
      "image/png": "[encoded data removed]",
      "text/plain": [
       "<matplotlib.figure.Figure at 0x167a8524c18>"
      ]
     },
     "metadata": {
      "needs_background": "light"
     },
     "output_type": "display_data"
    },
    {
     "data": {
      "image/png": "[encoded data removed]",
      "text/plain": [
       "<matplotlib.figure.Figure at 0x167a866f080>"
      ]
     },
     "metadata": {
      "needs_background": "light"
     },
     "output_type": "display_data"
    },
    {
     "data": {
      "image/png": "[encoded data removed]",
      "text/plain": [
       "<matplotlib.figure.Figure at 0x167a8056668>"
      ]
     },
     "metadata": {
      "needs_background": "light"
     },
     "output_type": "display_data"
    },
    {
     "data": {
      "image/png": "[encoded data removed]",
      "text/plain": [
       "<matplotlib.figure.Figure at 0x167a7f15dd8>"
      ]
     },
     "metadata": {
      "needs_background": "light"
     },
     "output_type": "display_data"
    },
    {
     "data": {
      "image/png": "[encoded data removed]",
      "text/plain": [
       "<matplotlib.figure.Figure at 0x167a8524208>"
      ]
     },
     "metadata": {
      "needs_background": "light"
     },
     "output_type": "display_data"
    },
    {
     "data": {
      "image/png": "[encoded data removed]",
      "text/plain": [
       "<matplotlib.figure.Figure at 0x167a8b254a8>"
      ]
     },
     "metadata": {
      "needs_background": "light"
     },
     "output_type": "display_data"
    },
    {
     "data": {
      "image/png": "[encoded data removed]",
      "text/plain": [
       "<matplotlib.figure.Figure at 0x167a80b8c88>"
      ]
     },
     "metadata": {
      "needs_background": "light"
     },
     "output_type": "display_data"
    },
    {
     "data": {
      "image/png": "[encoded data removed]",
      "text/plain": [
       "<matplotlib.figure.Figure at 0x167a80b8240>"
      ]
     },
     "metadata": {
      "needs_background": "light"
     },
     "output_type": "display_data"
    },
    {
     "data": {
      "image/png": "[encoded data removed]",
      "text/plain": [
       "<matplotlib.figure.Figure at 0x167a8410470>"
      ]
     },
     "metadata": {
      "needs_background": "light"
     },
     "output_type": "display_data"
    }
   ],
   "source": [
    "# got the data from https://www.autodeskresearch.com/sites/default/files/The%20Datasaurus%20Dozen.zip\n",
    "# unzipped the data\n",
    "# imported the DatasaurusDozen.tsv file to excel and saved it as a csv\n",
    "\n",
    "dz = pd.read_csv(\"DatasaurusDozen.csv\")\n",
    "dz\n",
    "\n",
    "# 1. Dino\n",
    "dino_x = dz['x'].where(dz['dataset'] == 'dino')\n",
    "dino_y = dz['y'].where(dz['dataset'] == 'dino')\n",
    "\n",
    "dino_x= np.array(dino_x)\n",
    "dino_y = np.array(dino_y)\n",
    "\n",
    "# plot the scatter plot\n",
    "plt.plot(dino_x, dino_y, 'go')\n",
    "plt.xlabel('X axis')\n",
    "plt.ylabel('Y axis')\n",
    "plt.title('DataSaurus - Dino')\n",
    "plt.show()\n",
    "\n",
    "# 2. Away\n",
    "away_x = dz['x'].where(dz['dataset'] == 'away')\n",
    "away_y = dz['y'].where(dz['dataset'] == 'away')\n",
    "\n",
    "away_x= np.array(away_x)\n",
    "away_y = np.array(away_y)\n",
    "# plot the scatter plot\n",
    "plt.plot(away_x, away_y, 'ro')\n",
    "plt.xlabel('X axis')\n",
    "plt.ylabel('Y axis')\n",
    "plt.title('DataSaurus - Away')\n",
    "plt.show()\n",
    "\n",
    "# 3. h_lines\n",
    "h_lines_x = dz['x'].where(dz['dataset'] == 'h_lines')\n",
    "h_lines_y = dz['y'].where(dz['dataset'] == 'h_lines')\n",
    "\n",
    "h_lines_x = np.array(h_lines_x)\n",
    "h_lines_y = np.array(h_lines_y)\n",
    "# plot the scatter plot\n",
    "plt.plot(h_lines_x, h_lines_y, 'bo')\n",
    "plt.xlabel('X axis')\n",
    "plt.ylabel('Y axis')\n",
    "plt.title('DataSaurus - h_lines')\n",
    "plt.show()\n",
    "\n",
    "# 4. v_lines\n",
    "v_lines_x = dz['x'].where(dz['dataset'] == 'v_lines')\n",
    "v_lines_y = dz['y'].where(dz['dataset'] == 'v_lines')\n",
    "\n",
    "v_lines_x = np.array(v_lines_x)\n",
    "v_lines_y = np.array(v_lines_y)\n",
    "# plot the scatter plot\n",
    "plt.plot(v_lines_x, v_lines_y, 'co')\n",
    "plt.xlabel('X axis')\n",
    "plt.ylabel('Y axis')\n",
    "plt.title('DataSaurus - v_lines')\n",
    "plt.show()\n",
    "\n",
    "# 5. x_shape\n",
    "\n",
    "x_shape_x = dz['x'].where(dz['dataset'] == 'x_shape')\n",
    "x_shape_y = dz['y'].where(dz['dataset'] == 'x_shape')\n",
    "\n",
    "x_shape_x = np.array(x_shape_x)\n",
    "x_shape_y = np.array(x_shape_y)\n",
    "# plot the scatter plot\n",
    "plt.plot(x_shape_x, x_shape_y, 'ko')\n",
    "plt.xlabel('X axis')\n",
    "plt.ylabel('Y axis')\n",
    "plt.title('DataSaurus - x_shape')\n",
    "plt.show()\n",
    "\n",
    "# 6. star\n",
    "star_x = dz['x'].where(dz['dataset'] == 'star')\n",
    "star_y = dz['y'].where(dz['dataset'] == 'star')\n",
    "\n",
    "star_x = np.array(star_x)\n",
    "star_y = np.array(star_y)\n",
    "# plot the scatter plot\n",
    "plt.plot(star_x, star_y, 'yo')\n",
    "plt.xlabel('X axis')\n",
    "plt.ylabel('Y axis')\n",
    "plt.title('DataSaurus - star')\n",
    "plt.show()\n",
    "\n",
    "# 7. high_lines\n",
    "\n",
    "high_lines_x = dz['x'].where(dz['dataset'] == 'high_lines')\n",
    "high_lines_y = dz['y'].where(dz['dataset'] == 'high_lines')\n",
    "\n",
    "high_lines_x= np.array(high_lines_x)\n",
    "high_lines_y = np.array(high_lines_y)\n",
    "# plot the scatter plot\n",
    "plt.plot(high_lines_x, high_lines_y, 'go')\n",
    "plt.xlabel('X axis')\n",
    "plt.ylabel('Y axis')\n",
    "plt.title('DataSaurus - high_lines')\n",
    "plt.show()\n",
    "\n",
    "# 8. dots\n",
    "dots_x = dz['x'].where(dz['dataset'] == 'dots')\n",
    "dots_y = dz['y'].where(dz['dataset'] == 'dots')\n",
    "\n",
    "dots_x= np.array(dots_x)\n",
    "dots_y = np.array(dots_y)\n",
    "# plot the scatter plot\n",
    "plt.plot(dots_x, dots_y, 'ro')\n",
    "plt.xlabel('X axis')\n",
    "plt.ylabel('Y axis')\n",
    "plt.title('DataSaurus - dots')\n",
    "plt.show()\n",
    "\n",
    "# 9. circle\n",
    "circle_x = dz['x'].where(dz['dataset'] == 'circle')\n",
    "circle_y = dz['y'].where(dz['dataset'] == 'circle')\n",
    "\n",
    "circle_x = np.array(circle_x)\n",
    "circle_y = np.array(circle_y)\n",
    "# plot the scatter plot\n",
    "plt.plot(circle_x, circle_y, 'bo')\n",
    "plt.xlabel('X axis')\n",
    "plt.ylabel('Y axis')\n",
    "plt.title('DataSaurus - circle')\n",
    "plt.show()\n",
    "\n",
    "# 10. bullseys\n",
    "\n",
    "bullseye_x = dz['x'].where(dz['dataset'] == 'bullseye')\n",
    "bullseye_y = dz['y'].where(dz['dataset'] == 'bullseye')\n",
    "\n",
    "bullseye_x = np.array(bullseye_x)\n",
    "bullseye_y = np.array(bullseye_y)\n",
    "# plot the scatter plot\n",
    "plt.plot(bullseye_x, bullseye_y, 'co')\n",
    "plt.xlabel('X axis')\n",
    "plt.ylabel('Y axis')\n",
    "plt.title('DataSaurus - bullseye')\n",
    "plt.show()\n",
    "\n",
    "# 11. slant_up\n",
    "slant_up_x = dz['x'].where(dz['dataset'] == 'slant_up')\n",
    "slant_up_y = dz['y'].where(dz['dataset'] == 'slant_up')\n",
    "\n",
    "slant_up_x = np.array(slant_up_x)\n",
    "slant_up_y = np.array(slant_up_y)\n",
    "# plot the scatter plot\n",
    "plt.plot(slant_up_x, slant_up_y, 'ko')\n",
    "plt.xlabel('X axis')\n",
    "plt.ylabel('Y axis')\n",
    "plt.title('DataSaurus - slant_up')\n",
    "plt.show()\n",
    "\n",
    "# 12. slant_down \n",
    "slant_down_x = dz['x'].where(dz['dataset'] == 'slant_down')\n",
    "slant_down_y = dz['y'].where(dz['dataset'] == 'slant_down')\n",
    "\n",
    "slant_down_x = np.array(slant_down_x)\n",
    "slant_down_y = np.array(slant_down_y)\n",
    "# plot the scatter plot\n",
    "plt.plot(slant_down_x, slant_down_y, 'yo')\n",
    "plt.xlabel('X axis')\n",
    "plt.ylabel('Y axis')\n",
    "plt.title('DataSaurus - slant_down')\n",
    "plt.show()\n"
   ]
  },
  {
   "cell_type": "markdown",
   "metadata": {},
   "source": [
    "The descriptive statistics for the DataSaurus Dozen seen below reinforce Anscombe's view of plotting the data before relying on calculations."
   ]
  },
  {
   "cell_type": "code",
   "execution_count": 46,
   "metadata": {
    "scrolled": false
   },
   "outputs": [
    {
     "name": "stdout",
     "output_type": "stream",
     "text": [
      "The descriptive statistics for the dino x values are \n",
      " count    142.000000\n",
      "mean      54.263273\n",
      "std       16.765142\n",
      "min       22.307700\n",
      "25%       44.102600\n",
      "50%       53.333300\n",
      "75%       64.743600\n",
      "max       98.205100\n",
      "Name: x, dtype: float64 \n",
      "\n",
      "The descriptive statistics for the away x values are \n",
      " count    142.000000\n",
      "mean      54.266100\n",
      "std       16.769825\n",
      "min       15.560750\n",
      "25%       39.724115\n",
      "50%       53.340296\n",
      "75%       69.146597\n",
      "max       91.639961\n",
      "Name: x, dtype: float64 \n",
      "\n",
      "The descriptive statistics for the h_lines x values are \n",
      " count    142.000000\n",
      "mean      54.261442\n",
      "std       16.765898\n",
      "min       22.003709\n",
      "25%       42.293828\n",
      "50%       53.069678\n",
      "75%       66.768274\n",
      "max       98.288123\n",
      "Name: x, dtype: float64 \n",
      "\n",
      "The descriptive statistics for the v_lines x values are \n",
      " count    142.000000\n",
      "mean      54.269927\n",
      "std       16.769959\n",
      "min       30.449654\n",
      "25%       49.964506\n",
      "50%       50.362890\n",
      "75%       69.504068\n",
      "max       89.504851\n",
      "Name: x, dtype: float64 \n",
      "\n",
      "The descriptive statistics for the x_shape x values are \n",
      " count    142.000000\n",
      "mean      54.260150\n",
      "std       16.769958\n",
      "min       31.106867\n",
      "25%       40.091656\n",
      "50%       47.136458\n",
      "75%       71.856923\n",
      "max       85.446186\n",
      "Name: x, dtype: float64 \n",
      "\n",
      "The descriptive statistics for the star x values are \n",
      " count    142.000000\n",
      "mean      54.267341\n",
      "std       16.768959\n",
      "min       27.024603\n",
      "25%       41.034210\n",
      "50%       56.534732\n",
      "75%       68.711493\n",
      "max       86.435897\n",
      "Name: x, dtype: float64 \n",
      "\n",
      "The descriptive statistics for the high_lines x values are \n",
      " count    142.000000\n",
      "mean      54.268805\n",
      "std       16.766704\n",
      "min       17.893499\n",
      "25%       41.535981\n",
      "50%       54.168689\n",
      "75%       63.952667\n",
      "max       96.080519\n",
      "Name: x, dtype: float64 \n",
      "\n",
      "The descriptive statistics for the dots x values are \n",
      " count    142.000000\n",
      "mean      54.260303\n",
      "std       16.767735\n",
      "min       25.443526\n",
      "25%       50.359707\n",
      "50%       50.976768\n",
      "75%       75.197363\n",
      "max       77.954435\n",
      "Name: x, dtype: float64 \n",
      "\n",
      "The descriptive statistics for the circle x values are \n",
      " count    142.000000\n",
      "mean      54.267320\n",
      "std       16.760013\n",
      "min       21.863581\n",
      "25%       43.379116\n",
      "50%       54.023213\n",
      "75%       64.972672\n",
      "max       85.664761\n",
      "Name: x, dtype: float64 \n",
      "\n",
      "The descriptive statistics for the bullseye x values are \n",
      " count    142.000000\n",
      "mean      54.268730\n",
      "std       16.769239\n",
      "min       19.288205\n",
      "25%       41.627968\n",
      "50%       53.842088\n",
      "75%       64.798900\n",
      "max       91.735539\n",
      "Name: x, dtype: float64 \n",
      "\n",
      "The descriptive statistics for the slant_up x values are \n",
      " count    142.000000\n",
      "mean      54.265882\n",
      "std       16.768853\n",
      "min       20.209778\n",
      "25%       42.810866\n",
      "50%       54.261345\n",
      "75%       64.488010\n",
      "max       95.260528\n",
      "Name: x, dtype: float64 \n",
      "\n",
      "The descriptive statistics for the slant_down x values are \n",
      " count    142.000000\n",
      "mean      54.267849\n",
      "std       16.766759\n",
      "min       18.109472\n",
      "25%       42.890931\n",
      "50%       53.135159\n",
      "75%       64.469989\n",
      "max       95.593416\n",
      "Name: x, dtype: float64 \n",
      "\n",
      "The descriptive statistics for the dino y values are \n",
      " count    142.000000\n",
      "mean      47.832253\n",
      "std       26.935403\n",
      "min        2.948700\n",
      "25%       25.288450\n",
      "50%       46.025600\n",
      "75%       68.525675\n",
      "max       99.487200\n",
      "Name: y, dtype: float64 \n",
      "\n",
      "The descriptive statistics for the away y values are \n",
      " count    142.000000\n",
      "mean      47.834721\n",
      "std       26.939743\n",
      "min        0.015119\n",
      "25%       24.625892\n",
      "50%       47.535269\n",
      "75%       71.803148\n",
      "max       97.475771\n",
      "Name: y, dtype: float64 \n",
      "\n",
      "The descriptive statistics for the h_lines y values are \n",
      " count    142.000000\n",
      "mean      47.830252\n",
      "std       26.939876\n",
      "min       10.463915\n",
      "25%       30.479911\n",
      "50%       50.473527\n",
      "75%       70.349471\n",
      "max       90.458936\n",
      "Name: y, dtype: float64 \n",
      "\n",
      "The descriptive statistics for the v_lines y values are \n",
      " count    142.000000\n",
      "mean      47.836988\n",
      "std       26.937684\n",
      "min        2.734760\n",
      "25%       22.752884\n",
      "50%       47.113616\n",
      "75%       65.845391\n",
      "max       99.694680\n",
      "Name: y, dtype: float64 \n",
      "\n",
      "The descriptive statistics for the x_shape y values are \n",
      " count    142.000000\n",
      "mean      47.839717\n",
      "std       26.930002\n",
      "min        4.577661\n",
      "25%       23.470809\n",
      "50%       39.876211\n",
      "75%       73.609634\n",
      "max       97.837615\n",
      "Name: y, dtype: float64 \n",
      "\n",
      "The descriptive statistics for the star y values are \n",
      " count    142.000000\n",
      "mean      47.839545\n",
      "std       26.930275\n",
      "min       14.365590\n",
      "25%       20.374135\n",
      "50%       50.110554\n",
      "75%       63.548584\n",
      "max       92.214989\n",
      "Name: y, dtype: float64 \n",
      "\n",
      "The descriptive statistics for the high_lines y values are \n",
      " count    142.000000\n",
      "mean      47.835450\n",
      "std       26.939998\n",
      "min       14.913962\n",
      "25%       22.920843\n",
      "50%       32.499203\n",
      "75%       75.940022\n",
      "max       87.152208\n",
      "Name: y, dtype: float64 \n",
      "\n",
      "The descriptive statistics for the dots y values are \n",
      " count    142.000000\n",
      "mean      47.839829\n",
      "std       26.930192\n",
      "min       15.771892\n",
      "25%       17.107141\n",
      "50%       51.299291\n",
      "75%       82.881589\n",
      "max       94.249328\n",
      "Name: y, dtype: float64 \n",
      "\n",
      "The descriptive statistics for the circle y values are \n",
      " count    142.000000\n",
      "mean      47.837717\n",
      "std       26.930036\n",
      "min       16.326546\n",
      "25%       18.349610\n",
      "50%       51.025022\n",
      "75%       77.782382\n",
      "max       85.578134\n",
      "Name: y, dtype: float64 \n",
      "\n",
      "The descriptive statistics for the bullseye y values are \n",
      " count    142.000000\n",
      "mean      47.830823\n",
      "std       26.935727\n",
      "min        9.691547\n",
      "25%       26.244735\n",
      "50%       47.382937\n",
      "75%       72.532852\n",
      "max       85.876229\n",
      "Name: y, dtype: float64 \n",
      "\n",
      "The descriptive statistics for the slant_up y values are \n",
      " count    142.000000\n",
      "mean      47.831496\n",
      "std       26.938608\n",
      "min        5.645777\n",
      "25%       24.756248\n",
      "50%       45.292238\n",
      "75%       70.855844\n",
      "max       99.579591\n",
      "Name: y, dtype: float64 \n",
      "\n",
      "The descriptive statistics for the slant_down y values are \n",
      " count    142.000000\n",
      "mean      47.835896\n",
      "std       26.936105\n",
      "min        0.303872\n",
      "25%       27.840858\n",
      "50%       46.401314\n",
      "75%       68.439430\n",
      "max       99.644179\n",
      "Name: y, dtype: float64 \n",
      "\n"
     ]
    }
   ],
   "source": [
    "# x values\n",
    "# dino\n",
    "print(\"The descriptive statistics for the dino x values are \\n\", dz['x'].where(dz['dataset'] == 'dino').describe(), \"\\n\")\n",
    "# away\n",
    "print(\"The descriptive statistics for the away x values are \\n\", dz['x'].where(dz['dataset'] == 'away').describe(), \"\\n\")\n",
    "# h_lines\n",
    "print(\"The descriptive statistics for the h_lines x values are \\n\", dz['x'].where(dz['dataset'] == 'h_lines').describe(), \"\\n\")\n",
    "# v_lines\n",
    "print(\"The descriptive statistics for the v_lines x values are \\n\", dz['x'].where(dz['dataset'] == 'v_lines').describe(), \"\\n\")\n",
    "# x_shape\n",
    "print(\"The descriptive statistics for the x_shape x values are \\n\", dz['x'].where(dz['dataset'] == 'x_shape').describe(), \"\\n\")\n",
    "# star\n",
    "print(\"The descriptive statistics for the star x values are \\n\", dz['x'].where(dz['dataset'] == 'star').describe(), \"\\n\")\n",
    "# high_lines\n",
    "print(\"The descriptive statistics for the high_lines x values are \\n\", dz['x'].where(dz['dataset'] == 'high_lines').describe(), \"\\n\")\n",
    "# dots\n",
    "print(\"The descriptive statistics for the dots x values are \\n\", dz['x'].where(dz['dataset'] == 'dots').describe(), \"\\n\")\n",
    "# circle\n",
    "print(\"The descriptive statistics for the circle x values are \\n\", dz['x'].where(dz['dataset'] == 'circle').describe(), \"\\n\")\n",
    "# bullseye\n",
    "print(\"The descriptive statistics for the bullseye x values are \\n\", dz['x'].where(dz['dataset'] == 'bullseye').describe(), \"\\n\")\n",
    "# slant_up\n",
    "print(\"The descriptive statistics for the slant_up x values are \\n\", dz['x'].where(dz['dataset'] == 'slant_up').describe(), \"\\n\")\n",
    "# slant_down\n",
    "print(\"The descriptive statistics for the slant_down x values are \\n\", dz['x'].where(dz['dataset'] == 'slant_down').describe(), \"\\n\")\n",
    "\n",
    "# y values\n",
    "# dino\n",
    "print(\"The descriptive statistics for the dino y values are \\n\", dz['y'].where(dz['dataset'] == 'dino').describe(), \"\\n\")\n",
    "# away\n",
    "print(\"The descriptive statistics for the away y values are \\n\", dz['y'].where(dz['dataset'] == 'away').describe(), \"\\n\")\n",
    "# h_lines\n",
    "print(\"The descriptive statistics for the h_lines y values are \\n\", dz['y'].where(dz['dataset'] == 'h_lines').describe(), \"\\n\")\n",
    "# v_lines\n",
    "print(\"The descriptive statistics for the v_lines y values are \\n\", dz['y'].where(dz['dataset'] == 'v_lines').describe(), \"\\n\")\n",
    "# x_shape\n",
    "print(\"The descriptive statistics for the x_shape y values are \\n\", dz['y'].where(dz['dataset'] == 'x_shape').describe(), \"\\n\")\n",
    "# star\n",
    "print(\"The descriptive statistics for the star y values are \\n\", dz['y'].where(dz['dataset'] == 'star').describe(), \"\\n\")\n",
    "# high_lines\n",
    "print(\"The descriptive statistics for the high_lines y values are \\n\", dz['y'].where(dz['dataset'] == 'high_lines').describe(), \"\\n\")\n",
    "# dots\n",
    "print(\"The descriptive statistics for the dots y values are \\n\", dz['y'].where(dz['dataset'] == 'dots').describe(), \"\\n\")\n",
    "# circle\n",
    "print(\"The descriptive statistics for the circle y values are \\n\", dz['y'].where(dz['dataset'] == 'circle').describe(), \"\\n\")\n",
    "# bullseye\n",
    "print(\"The descriptive statistics for the bullseye y values are \\n\", dz['y'].where(dz['dataset'] == 'bullseye').describe(), \"\\n\")\n",
    "# slant_up\n",
    "print(\"The descriptive statistics for the slant_up y values are \\n\", dz['y'].where(dz['dataset'] == 'slant_up').describe(), \"\\n\")\n",
    "# slant_down\n",
    "print(\"The descriptive statistics for the slant_down y values are \\n\", dz['y'].where(dz['dataset'] == 'slant_down').describe(), \"\\n\")\n"
   ]
  },
  {
   "cell_type": "markdown",
   "metadata": {},
   "source": [
    "## Conclusion\n",
    "\n",
    "Anscombe (1973) concluded that computer programming greatly helps in plotting data; And that an advanced computer programmer could look at more complex datasets.  He noted at the at the time his paper was written 1973, there was not much overlap between data analysts working in their respective fields and those with enough computing skills to produce compelling visual data. I think Anscombe would be pleased with the rise of novice programmers and their ability to produce high quality data visualizations using python and display them using jupyter notebooks. Anscombe's quartet shows the importance of visualising the data as an exploratory  first step before jumping headlong into performing calculations and making predictive models. \n",
    "\n"
   ]
  },
  {
   "cell_type": "markdown",
   "metadata": {},
   "source": [
    "### References\n",
    "\n",
    "Anscombe, F. J. (1973). Graphs in Statistical Analysis. The American Statistician, 27(1), 17. doi:10.2307/2682899 \n",
    "\n",
    "Campuslabs. (n.d.). Types of Descriptive Statistics. Retrieved from https://baselinesupport.campuslabs.com/hc/en-us/articles/204305665-Types-of-Descriptive-Statistics \n",
    "\n",
    "Matejka, J., & Fitzmaurice, G. (2017). The Datasaurus Dozen - Same Stats, Different Graphs: Generating Datasets with Varied Appearance and Identical Statistics through Simulated Annealing. Retrieved November 8, 2018, from https://www.autodeskresearch.com/publications/samestats CHI 2017 Conference proceedings: ACM SIGCHI Conference on Human Factors in Computing Systems\n",
    " \n",
    "\n",
    "Rodríguez, G. (2016). Generalized Linear Models. Lecture. Retrieved November 7, 2018, from http://data.princeton.edu/wws509/stata/anscombe.html \n",
    "\n",
    "Siddharth Kalla (2011, August 6). Branches of Statistics. Retrieved Nov 04, 2018 from Explorable.com: https://explorable.com/branches-of-statistics\n",
    "\n",
    "Twain, M. (1906). Chapters from my autobiography. London: Harper.\n",
    "\n",
    "Wikipedia contributors. (2018a, October 3). Frank Anscombe. In Wikipedia, The Free Encyclopedia. Retrieved 22:18, November 6, 2018, from https://en.wikipedia.org/w/index.php?title=Frank_Anscombe&oldid=862291249\n",
    "\n",
    "Wikipedia contributors. (2018b, October 9). APL (programming language). In Wikipedia, The Free Encyclopedia. Retrieved 16:53, November 7, 2018, from https://en.wikipedia.org/w/index.php?title=APL_(programming_language)&oldid=863284672\n"
   ]
  }
 ],
 "metadata": {
  "kernelspec": {
   "display_name": "Python 3",
   "language": "python",
   "name": "python3"
  },
  "language_info": {
   "codemirror_mode": {
    "name": "ipython",
    "version": 3
   },
   "file_extension": ".py",
   "mimetype": "text/x-python",
   "name": "python",
   "nbconvert_exporter": "python",
   "pygments_lexer": "ipython3",
   "version": "3.6.6"
  }
 },
 "nbformat": 4,
 "nbformat_minor": 2
}
